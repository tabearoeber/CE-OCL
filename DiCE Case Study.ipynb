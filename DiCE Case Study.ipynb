{
 "cells": [
  {
   "cell_type": "markdown",
   "metadata": {
    "collapsed": true,
    "pycharm": {
     "name": "#%% md\n"
    }
   },
   "source": [
    "# DiCE Case Study\n",
    "\n",
    "---"
   ]
  },
  {
   "cell_type": "code",
   "execution_count": 208,
   "outputs": [],
   "source": [
    "import warnings\n",
    "warnings.filterwarnings(\"ignore\")\n",
    "import numpy as np\n",
    "import pandas as pd\n",
    "from sklearn.model_selection import train_test_split\n",
    "from sklearn.compose import ColumnTransformer\n",
    "from sklearn.pipeline import Pipeline\n",
    "from sklearn.preprocessing import MinMaxScaler, OneHotEncoder\n",
    "from sklearn.svm import LinearSVC\n",
    "from sklearn.ensemble import RandomForestClassifier\n",
    "from sklearn.neural_network import MLPClassifier\n",
    "from sklearn.linear_model import LogisticRegression\n",
    "import dice_ml\n",
    "from dice_ml.data_interfaces.public_data_interface import PublicData\n",
    "from dice_ml.utils import helpers # helper functions\n",
    "import ce_helpers\n",
    "import os"
   ],
   "metadata": {
    "collapsed": false,
    "pycharm": {
     "name": "#%%\n"
    }
   }
  },
  {
   "cell_type": "markdown",
   "source": [
    "## Preparation"
   ],
   "metadata": {
    "collapsed": false
   }
  },
  {
   "cell_type": "markdown",
   "source": [
    "### Data prep"
   ],
   "metadata": {
    "collapsed": false,
    "pycharm": {
     "name": "#%% md\n"
    }
   }
  },
  {
   "cell_type": "markdown",
   "source": [
    "The (preprocessed) data can be downloaded from: https://datahub.io/machine-learning/credit-g"
   ],
   "metadata": {
    "collapsed": false,
    "pycharm": {
     "name": "#%% md\n"
    }
   }
  },
  {
   "cell_type": "code",
   "execution_count": 209,
   "outputs": [],
   "source": [
    "# model to use: either svm, linear, mlp, rf\n",
    "alg = 'mlp'"
   ],
   "metadata": {
    "collapsed": false,
    "pycharm": {
     "name": "#%%\n"
    }
   }
  },
  {
   "cell_type": "code",
   "execution_count": 210,
   "outputs": [],
   "source": [
    "### reading in data\n",
    "dataset_name = 'german_credit'\n",
    "df = pd.read_csv('./data/credit-g_csv.csv')\n",
    "\n",
    "# recode class to 0 and 1\n",
    "recode = {\"class\": {\"bad\": 0, \"good\": 1}}\n",
    "df = df.replace(recode)\n",
    "\n",
    "df.head()\n",
    "\n",
    "target = 'class'\n",
    "\n",
    "X = df.drop(target, axis=1)\n",
    "y = df[target]\n",
    "\n",
    "x_train_dice, x_test_dice, y_train_dice, y_test_dice = train_test_split(X,\n",
    "                                                    y,\n",
    "                                                    test_size=0.2,\n",
    "                                                    random_state=0,\n",
    "                                                    stratify=y)\n",
    "\n",
    "train_dataset = pd.merge(pd.DataFrame(x_train_dice),pd.DataFrame(y_train_dice), left_index=True, right_index=True)\n",
    "\n",
    "numerical = ['duration', 'credit_amount', 'installment_commitment', 'age',\n",
    "             'residence_since', 'existing_credits', 'num_dependents']\n",
    "categorical = x_train_dice.columns.difference(numerical)"
   ],
   "metadata": {
    "collapsed": false,
    "pycharm": {
     "name": "#%%\n"
    }
   }
  },
  {
   "cell_type": "code",
   "execution_count": 211,
   "outputs": [],
   "source": [
    "categorical_transformer = Pipeline(steps=[\n",
    "    ('onehot', OneHotEncoder(handle_unknown='ignore'))])\n",
    "\n",
    "transformations = ColumnTransformer(\n",
    "    transformers=[\n",
    "        ('cat', OneHotEncoder(handle_unknown='ignore'), categorical),\n",
    "        ('num', MinMaxScaler(), numerical)])\n",
    "\n",
    "# Append classifier to preprocessing pipeline.\n",
    "# Now we have a full prediction pipeline.\n",
    "if alg == 'svm':\n",
    "    clf_dice = Pipeline(steps=[('preprocessor', transformations),\n",
    "                          ('classifier', LinearSVC(random_state=0, max_iter = 1e5, dual=False, penalty = 'l2', C=0.1))])\n",
    "elif alg == 'rf':\n",
    "    clf_dice = Pipeline(steps=[('preprocessor', transformations),\n",
    "                               ('classifier', RandomForestClassifier(random_state=0, max_depth=3, max_features='auto',\n",
    "                                                                    n_estimators = 25))])\n",
    "elif alg == 'mlp':\n",
    "    clf_dice = Pipeline(steps=[('preprocessor', transformations),\n",
    "                           ('classifier', MLPClassifier(random_state=0, max_iter=10000, solver='lbfgs'))])\n",
    "elif alg == 'linear':\n",
    "    clf_dice = Pipeline(steps=[('preprocessor', transformations),\n",
    "                           ('classifier', LogisticRegression(random_state=0, max_iter=10000, solver='saga', C=0.401))])"
   ],
   "metadata": {
    "collapsed": false,
    "pycharm": {
     "name": "#%%\n"
    }
   }
  },
  {
   "cell_type": "code",
   "execution_count": 212,
   "outputs": [],
   "source": [
    "model = clf_dice.fit(x_train_dice, y_train_dice)"
   ],
   "metadata": {
    "collapsed": false,
    "pycharm": {
     "name": "#%%\n"
    }
   }
  },
  {
   "cell_type": "code",
   "execution_count": 213,
   "outputs": [],
   "source": [
    "y_pred = model.predict(x_test_dice)\n",
    "y_pred_0 = np.where(y_pred==0)\n",
    "X_test_0 = x_test_dice.iloc[y_pred_0[0],:].copy()"
   ],
   "metadata": {
    "collapsed": false,
    "pycharm": {
     "name": "#%%\n"
    }
   }
  },
  {
   "cell_type": "markdown",
   "source": [
    "### Factual instance"
   ],
   "metadata": {
    "collapsed": false,
    "pycharm": {
     "name": "#%% md\n"
    }
   }
  },
  {
   "cell_type": "code",
   "execution_count": 214,
   "outputs": [
    {
     "name": "stdout",
     "output_type": "stream",
     "text": [
      "predicted label: 0\n"
     ]
    }
   ],
   "source": [
    "u_index = 2\n",
    "# u = X_test_0.iloc[u_index,:]\n",
    "u = pd.DataFrame(X_test_0.iloc[u_index,:]).T\n",
    "# print(u)\n",
    "print('predicted label: %d' % (model.predict(u)))"
   ],
   "metadata": {
    "collapsed": false,
    "pycharm": {
     "name": "#%%\n"
    }
   }
  },
  {
   "cell_type": "markdown",
   "source": [
    "### DiCE setup"
   ],
   "metadata": {
    "collapsed": false,
    "pycharm": {
     "name": "#%% md\n"
    }
   }
  },
  {
   "cell_type": "code",
   "execution_count": 215,
   "outputs": [],
   "source": [
    "# Step 1: dice_ml.Data\n",
    "d = dice_ml.Data(dataframe=train_dataset, continuous_features=numerical, outcome_name=target)\n",
    "\n",
    "# Step 2: dice_ml.Model\n",
    "m = dice_ml.Model(model=model, backend=\"sklearn\")\n",
    "\n",
    "# Step 3: dice_ml.Dice\n",
    "exp = dice_ml.Dice(d, m, method=\"random\")"
   ],
   "metadata": {
    "collapsed": false,
    "pycharm": {
     "name": "#%%\n"
    }
   }
  },
  {
   "cell_type": "markdown",
   "source": [
    "## Part B: validity, proximity, sparsity"
   ],
   "metadata": {
    "collapsed": false,
    "pycharm": {
     "name": "#%% md\n"
    }
   }
  },
  {
   "cell_type": "code",
   "execution_count": 216,
   "outputs": [],
   "source": [
    "## Diversity\n",
    "num_counterfactuals = 1\n",
    "\n",
    "## Actionability\n",
    "\n",
    "# immutable features\n",
    "I = []\n",
    "# I = ['personal_status', 'foreign_worker', 'purpose']\n",
    "\n",
    "# actionability constraints\n",
    "permitted_ranges = {}\n",
    "# permitted_ranges = {\n",
    "#   'age': [u['age'], df['age'].max()], # age should only increase\n",
    "#   'residence_since': [u['residence_since'], df['residence_since'].max()],\n",
    "#   'employment': employment[employment.index(u['employment'].item()):]\n",
    "#   }\n",
    "\n",
    "F_b = df.columns.difference(numerical + [target])\n",
    "feature_ranges = ce_helpers.get_features_range(df, numerical, F_b, permitted_ranges)[0]\n",
    "\n",
    "features = list(feature_ranges.keys())\n",
    "features_to_vary = [ele for ele in features if ele not in I]"
   ],
   "metadata": {
    "collapsed": false,
    "pycharm": {
     "name": "#%%\n"
    }
   }
  },
  {
   "cell_type": "code",
   "execution_count": 217,
   "outputs": [
    {
     "name": "stderr",
     "output_type": "stream",
     "text": [
      "100%|██████████| 1/1 [00:00<00:00, 12.93it/s]\n"
     ]
    }
   ],
   "source": [
    "# generate counterfactuals\n",
    "e1 = exp.generate_counterfactuals(u, total_CFs=num_counterfactuals, desired_class=\"opposite\", random_seed=0,\n",
    "                                features_to_vary = features_to_vary)"
   ],
   "metadata": {
    "collapsed": false,
    "pycharm": {
     "name": "#%%\n"
    }
   }
  },
  {
   "cell_type": "code",
   "execution_count": 218,
   "outputs": [],
   "source": [
    "# extract counterfactuals as data frame\n",
    "CFs = e1.cf_examples_list[0].final_cfs_df.iloc[:,:-1]\n",
    "CFs = CFs.reset_index(drop=True)\n",
    "\n",
    "number_of_solutions = len(CFs.index)\n",
    "\n",
    "CEs = pd.concat([u, CFs])\n",
    "ix_names = ['original']+['sol'+str(i) for i in range(number_of_solutions)]\n",
    "CEs = CEs.set_index(pd.Index(ix_names))"
   ],
   "metadata": {
    "collapsed": false,
    "pycharm": {
     "name": "#%%\n"
    }
   }
  },
  {
   "cell_type": "markdown",
   "source": [
    "### Visualize DF"
   ],
   "metadata": {
    "collapsed": false,
    "pycharm": {
     "name": "#%% md\n"
    }
   }
  },
  {
   "cell_type": "code",
   "execution_count": 219,
   "outputs": [
    {
     "data": {
      "text/plain": "         checking_status duration credit_history   purpose credit_amount  \\\noriginal              <0       24  existing paid   new car          1371   \nsol0                   -        -              -  used car             -   \n\n            savings_status employment installment_commitment  \\\noriginal  no known savings     1<=X<4                      4   \nsol0                     -          -                      -   \n\n             personal_status other_parties residence_since property_magnitude  \\\noriginal  female div/dep/mar          none               4        real estate   \nsol0                       -             -               -                  -   \n\n           age other_payment_plans housing existing_credits      job  \\\noriginal    25                none    rent                1  skilled   \nsol0      75.0                   -       -                -        -   \n\n         num_dependents own_telephone foreign_worker  \noriginal              1          none            yes  \nsol0                  -             -              -  ",
      "text/html": "<div>\n<style scoped>\n    .dataframe tbody tr th:only-of-type {\n        vertical-align: middle;\n    }\n\n    .dataframe tbody tr th {\n        vertical-align: top;\n    }\n\n    .dataframe thead th {\n        text-align: right;\n    }\n</style>\n<table border=\"1\" class=\"dataframe\">\n  <thead>\n    <tr style=\"text-align: right;\">\n      <th></th>\n      <th>checking_status</th>\n      <th>duration</th>\n      <th>credit_history</th>\n      <th>purpose</th>\n      <th>credit_amount</th>\n      <th>savings_status</th>\n      <th>employment</th>\n      <th>installment_commitment</th>\n      <th>personal_status</th>\n      <th>other_parties</th>\n      <th>residence_since</th>\n      <th>property_magnitude</th>\n      <th>age</th>\n      <th>other_payment_plans</th>\n      <th>housing</th>\n      <th>existing_credits</th>\n      <th>job</th>\n      <th>num_dependents</th>\n      <th>own_telephone</th>\n      <th>foreign_worker</th>\n    </tr>\n  </thead>\n  <tbody>\n    <tr>\n      <th>original</th>\n      <td>&lt;0</td>\n      <td>24</td>\n      <td>existing paid</td>\n      <td>new car</td>\n      <td>1371</td>\n      <td>no known savings</td>\n      <td>1&lt;=X&lt;4</td>\n      <td>4</td>\n      <td>female div/dep/mar</td>\n      <td>none</td>\n      <td>4</td>\n      <td>real estate</td>\n      <td>25</td>\n      <td>none</td>\n      <td>rent</td>\n      <td>1</td>\n      <td>skilled</td>\n      <td>1</td>\n      <td>none</td>\n      <td>yes</td>\n    </tr>\n    <tr>\n      <th>sol0</th>\n      <td>-</td>\n      <td>-</td>\n      <td>-</td>\n      <td>used car</td>\n      <td>-</td>\n      <td>-</td>\n      <td>-</td>\n      <td>-</td>\n      <td>-</td>\n      <td>-</td>\n      <td>-</td>\n      <td>-</td>\n      <td>75.0</td>\n      <td>-</td>\n      <td>-</td>\n      <td>-</td>\n      <td>-</td>\n      <td>-</td>\n      <td>-</td>\n      <td>-</td>\n    </tr>\n  </tbody>\n</table>\n</div>"
     },
     "execution_count": 219,
     "metadata": {},
     "output_type": "execute_result"
    }
   ],
   "source": [
    "orig = CEs[:1]\n",
    "df = CEs[1:].copy()\n",
    "df1 = pd.DataFrame()\n",
    "for c in df.columns:\n",
    "    df1[c] = df.apply(lambda row: ce_helpers.ce_change(row, df1, orig, c), axis=1)\n",
    "\n",
    "df_1 = pd.concat([orig, df1])\n",
    "df_1"
   ],
   "metadata": {
    "collapsed": false,
    "pycharm": {
     "name": "#%%\n"
    }
   }
  },
  {
   "cell_type": "markdown",
   "source": [
    "### Evaluation"
   ],
   "metadata": {
    "collapsed": false,
    "pycharm": {
     "name": "#%% md\n"
    }
   }
  },
  {
   "cell_type": "code",
   "execution_count": 220,
   "outputs": [
    {
     "data": {
      "text/plain": "        validity  cat_prox  cont_prox  sparsity cat_diver cont_diver  \\\nPart B       1.0      0.92      -50.0       0.9      None       None   \n\n       cont_count_divers  \nPart B              None  ",
      "text/html": "<div>\n<style scoped>\n    .dataframe tbody tr th:only-of-type {\n        vertical-align: middle;\n    }\n\n    .dataframe tbody tr th {\n        vertical-align: top;\n    }\n\n    .dataframe thead th {\n        text-align: right;\n    }\n</style>\n<table border=\"1\" class=\"dataframe\">\n  <thead>\n    <tr style=\"text-align: right;\">\n      <th></th>\n      <th>validity</th>\n      <th>cat_prox</th>\n      <th>cont_prox</th>\n      <th>sparsity</th>\n      <th>cat_diver</th>\n      <th>cont_diver</th>\n      <th>cont_count_divers</th>\n    </tr>\n  </thead>\n  <tbody>\n    <tr>\n      <th>Part B</th>\n      <td>1.0</td>\n      <td>0.92</td>\n      <td>-50.0</td>\n      <td>0.9</td>\n      <td>None</td>\n      <td>None</td>\n      <td>None</td>\n    </tr>\n  </tbody>\n</table>\n</div>"
     },
     "execution_count": 220,
     "metadata": {},
     "output_type": "execute_result"
    }
   ],
   "source": [
    "CE_perf = ce_helpers.evaluation(model, CEs, numerical, categorical, rounding = True)\n",
    "CE_perf = CE_perf.set_index(pd.Index(['Part B']))\n",
    "CE_perf"
   ],
   "metadata": {
    "collapsed": false,
    "pycharm": {
     "name": "#%%\n"
    }
   }
  },
  {
   "cell_type": "markdown",
   "source": [
    "## Part C: validity, proximity, sparsity, diversity"
   ],
   "metadata": {
    "collapsed": false,
    "pycharm": {
     "name": "#%% md\n"
    }
   }
  },
  {
   "cell_type": "code",
   "execution_count": 221,
   "outputs": [],
   "source": [
    "## Diversity\n",
    "num_counterfactuals = 3\n",
    "\n",
    "## Actionability\n",
    "\n",
    "# immutable features\n",
    "I = []\n",
    "# I = ['personal_status', 'foreign_worker', 'purpose']\n",
    "\n",
    "# actionability constraints\n",
    "permitted_ranges = {}\n",
    "# permitted_ranges = {\n",
    "#   'age': [u['age'], df['age'].max()], # age should only increase\n",
    "#   'residence_since': [u['residence_since'], df['residence_since'].max()],\n",
    "#   'employment': employment[employment.index(u['employment'].item()):]\n",
    "#   }\n",
    "\n",
    "F_b = df.columns.difference(numerical + [target])\n",
    "feature_ranges = ce_helpers.get_features_range(df, numerical, F_b, permitted_ranges)[0]\n",
    "\n",
    "features = list(feature_ranges.keys())\n",
    "features_to_vary = [ele for ele in features if ele not in I]"
   ],
   "metadata": {
    "collapsed": false,
    "pycharm": {
     "name": "#%%\n"
    }
   }
  },
  {
   "cell_type": "code",
   "execution_count": 222,
   "outputs": [
    {
     "name": "stderr",
     "output_type": "stream",
     "text": [
      "100%|██████████| 1/1 [00:00<00:00, 10.57it/s]\n"
     ]
    }
   ],
   "source": [
    "# generate counterfactuals\n",
    "e1 = exp.generate_counterfactuals(u, total_CFs=num_counterfactuals, desired_class=\"opposite\", random_seed=0,\n",
    "                                features_to_vary = features_to_vary)"
   ],
   "metadata": {
    "collapsed": false,
    "pycharm": {
     "name": "#%%\n"
    }
   }
  },
  {
   "cell_type": "code",
   "execution_count": 223,
   "outputs": [],
   "source": [
    "# extract counterfactuals as data frame\n",
    "CFs = e1.cf_examples_list[0].final_cfs_df.iloc[:,:-1]\n",
    "CFs = CFs.reset_index(drop=True)\n",
    "\n",
    "number_of_solutions = len(CFs.index)\n",
    "\n",
    "CEs = pd.concat([u, CFs])\n",
    "ix_names = ['original']+['sol'+str(i) for i in range(number_of_solutions)]\n",
    "CEs = CEs.set_index(pd.Index(ix_names))"
   ],
   "metadata": {
    "collapsed": false,
    "pycharm": {
     "name": "#%%\n"
    }
   }
  },
  {
   "cell_type": "markdown",
   "source": [
    "### Visualize DF"
   ],
   "metadata": {
    "collapsed": false,
    "pycharm": {
     "name": "#%% md\n"
    }
   }
  },
  {
   "cell_type": "code",
   "execution_count": 224,
   "outputs": [
    {
     "data": {
      "text/plain": "         checking_status duration credit_history   purpose credit_amount  \\\noriginal              <0       24  existing paid   new car          1371   \nsol0                   -        -              -  used car             -   \nsol1                   -        -              -         -             -   \nsol2                   -        -              -     other             -   \n\n            savings_status employment installment_commitment  \\\noriginal  no known savings     1<=X<4                      4   \nsol0                     -          -                      -   \nsol1                     -          -                      -   \nsol2                     -          -                      -   \n\n             personal_status other_parties residence_since property_magnitude  \\\noriginal  female div/dep/mar          none               4        real estate   \nsol0                       -             -               -                  -   \nsol1                       -             -               -                  -   \nsol2                       -             -               -                  -   \n\n           age other_payment_plans housing existing_credits  \\\noriginal    25                none    rent                1   \nsol0      75.0                   -       -                -   \nsol1      69.0                   -       -                -   \nsol2         -                   -       -                -   \n\n                              job num_dependents own_telephone foreign_worker  \noriginal                  skilled              1          none            yes  \nsol0                            -              -             -              -  \nsol1      unemp/unskilled non res              -             -              -  \nsol2                            -              -             -              -  ",
      "text/html": "<div>\n<style scoped>\n    .dataframe tbody tr th:only-of-type {\n        vertical-align: middle;\n    }\n\n    .dataframe tbody tr th {\n        vertical-align: top;\n    }\n\n    .dataframe thead th {\n        text-align: right;\n    }\n</style>\n<table border=\"1\" class=\"dataframe\">\n  <thead>\n    <tr style=\"text-align: right;\">\n      <th></th>\n      <th>checking_status</th>\n      <th>duration</th>\n      <th>credit_history</th>\n      <th>purpose</th>\n      <th>credit_amount</th>\n      <th>savings_status</th>\n      <th>employment</th>\n      <th>installment_commitment</th>\n      <th>personal_status</th>\n      <th>other_parties</th>\n      <th>residence_since</th>\n      <th>property_magnitude</th>\n      <th>age</th>\n      <th>other_payment_plans</th>\n      <th>housing</th>\n      <th>existing_credits</th>\n      <th>job</th>\n      <th>num_dependents</th>\n      <th>own_telephone</th>\n      <th>foreign_worker</th>\n    </tr>\n  </thead>\n  <tbody>\n    <tr>\n      <th>original</th>\n      <td>&lt;0</td>\n      <td>24</td>\n      <td>existing paid</td>\n      <td>new car</td>\n      <td>1371</td>\n      <td>no known savings</td>\n      <td>1&lt;=X&lt;4</td>\n      <td>4</td>\n      <td>female div/dep/mar</td>\n      <td>none</td>\n      <td>4</td>\n      <td>real estate</td>\n      <td>25</td>\n      <td>none</td>\n      <td>rent</td>\n      <td>1</td>\n      <td>skilled</td>\n      <td>1</td>\n      <td>none</td>\n      <td>yes</td>\n    </tr>\n    <tr>\n      <th>sol0</th>\n      <td>-</td>\n      <td>-</td>\n      <td>-</td>\n      <td>used car</td>\n      <td>-</td>\n      <td>-</td>\n      <td>-</td>\n      <td>-</td>\n      <td>-</td>\n      <td>-</td>\n      <td>-</td>\n      <td>-</td>\n      <td>75.0</td>\n      <td>-</td>\n      <td>-</td>\n      <td>-</td>\n      <td>-</td>\n      <td>-</td>\n      <td>-</td>\n      <td>-</td>\n    </tr>\n    <tr>\n      <th>sol1</th>\n      <td>-</td>\n      <td>-</td>\n      <td>-</td>\n      <td>-</td>\n      <td>-</td>\n      <td>-</td>\n      <td>-</td>\n      <td>-</td>\n      <td>-</td>\n      <td>-</td>\n      <td>-</td>\n      <td>-</td>\n      <td>69.0</td>\n      <td>-</td>\n      <td>-</td>\n      <td>-</td>\n      <td>unemp/unskilled non res</td>\n      <td>-</td>\n      <td>-</td>\n      <td>-</td>\n    </tr>\n    <tr>\n      <th>sol2</th>\n      <td>-</td>\n      <td>-</td>\n      <td>-</td>\n      <td>other</td>\n      <td>-</td>\n      <td>-</td>\n      <td>-</td>\n      <td>-</td>\n      <td>-</td>\n      <td>-</td>\n      <td>-</td>\n      <td>-</td>\n      <td>-</td>\n      <td>-</td>\n      <td>-</td>\n      <td>-</td>\n      <td>-</td>\n      <td>-</td>\n      <td>-</td>\n      <td>-</td>\n    </tr>\n  </tbody>\n</table>\n</div>"
     },
     "execution_count": 224,
     "metadata": {},
     "output_type": "execute_result"
    }
   ],
   "source": [
    "orig = CEs[:1]\n",
    "df = CEs[1:].copy()\n",
    "df1 = pd.DataFrame()\n",
    "for c in df.columns:\n",
    "    df1[c] = df.apply(lambda row: ce_helpers.ce_change(row, df1, orig, c), axis=1)\n",
    "\n",
    "df_2 = pd.concat([orig, df1])\n",
    "df_2"
   ],
   "metadata": {
    "collapsed": false,
    "pycharm": {
     "name": "#%%\n"
    }
   }
  },
  {
   "cell_type": "markdown",
   "source": [
    "### Evaluation"
   ],
   "metadata": {
    "collapsed": false,
    "pycharm": {
     "name": "#%% md\n"
    }
   }
  },
  {
   "cell_type": "code",
   "execution_count": 225,
   "outputs": [
    {
     "data": {
      "text/plain": "        validity  cat_prox  cont_prox  sparsity  cat_diver  cont_diver  \\\nPart B       1.0      0.92     -50.00      0.90        NaN         NaN   \nPart C       1.0      0.92     -31.33      0.92       0.13       33.33   \n\n        cont_count_divers  \nPart B                NaN  \nPart C               0.13  ",
      "text/html": "<div>\n<style scoped>\n    .dataframe tbody tr th:only-of-type {\n        vertical-align: middle;\n    }\n\n    .dataframe tbody tr th {\n        vertical-align: top;\n    }\n\n    .dataframe thead th {\n        text-align: right;\n    }\n</style>\n<table border=\"1\" class=\"dataframe\">\n  <thead>\n    <tr style=\"text-align: right;\">\n      <th></th>\n      <th>validity</th>\n      <th>cat_prox</th>\n      <th>cont_prox</th>\n      <th>sparsity</th>\n      <th>cat_diver</th>\n      <th>cont_diver</th>\n      <th>cont_count_divers</th>\n    </tr>\n  </thead>\n  <tbody>\n    <tr>\n      <th>Part B</th>\n      <td>1.0</td>\n      <td>0.92</td>\n      <td>-50.00</td>\n      <td>0.90</td>\n      <td>NaN</td>\n      <td>NaN</td>\n      <td>NaN</td>\n    </tr>\n    <tr>\n      <th>Part C</th>\n      <td>1.0</td>\n      <td>0.92</td>\n      <td>-31.33</td>\n      <td>0.92</td>\n      <td>0.13</td>\n      <td>33.33</td>\n      <td>0.13</td>\n    </tr>\n  </tbody>\n</table>\n</div>"
     },
     "execution_count": 225,
     "metadata": {},
     "output_type": "execute_result"
    }
   ],
   "source": [
    "CE_perf = pd.concat([CE_perf, ce_helpers.evaluation(model, CEs, numerical, categorical, rounding = True)])\n",
    "CE_perf = CE_perf.set_index(pd.Index(['Part B', 'Part C']))\n",
    "CE_perf"
   ],
   "metadata": {
    "collapsed": false,
    "pycharm": {
     "name": "#%%\n"
    }
   }
  },
  {
   "cell_type": "markdown",
   "source": [
    "## Part D: validity, proximity, sparsity, diversity, actionability"
   ],
   "metadata": {
    "collapsed": false,
    "pycharm": {
     "name": "#%% md\n"
    }
   }
  },
  {
   "cell_type": "code",
   "execution_count": 226,
   "outputs": [],
   "source": [
    "## Diversity\n",
    "num_counterfactuals = 3\n",
    "\n",
    "## Actionability\n",
    "\n",
    "# immutable features\n",
    "# I = []\n",
    "I = ['personal_status', 'foreign_worker', 'purpose']\n",
    "\n",
    "# actionability constraints\n",
    "employment = ['unemployed', '<1', '1<=X<4','4<=X<7', '>=7']\n",
    "\n",
    "permitted_ranges = {}\n",
    "permitted_ranges = {\n",
    "  'age': [u['age'], df['age'].max()], # age should only increase\n",
    "  'residence_since': [u['residence_since'], df['residence_since'].max()],\n",
    "  'employment': employment[employment.index(u['employment'].item()):]\n",
    "  }\n",
    "\n",
    "F_b = df.columns.difference(numerical + [target])\n",
    "feature_ranges = ce_helpers.get_features_range(df, numerical, F_b, permitted_ranges)[0]\n",
    "\n",
    "features = list(feature_ranges.keys())\n",
    "features_to_vary = [ele for ele in features if ele not in I]"
   ],
   "metadata": {
    "collapsed": false,
    "pycharm": {
     "name": "#%%\n"
    }
   }
  },
  {
   "cell_type": "code",
   "execution_count": 227,
   "outputs": [
    {
     "name": "stderr",
     "output_type": "stream",
     "text": [
      "100%|██████████| 1/1 [00:00<00:00,  9.80it/s]\n"
     ]
    }
   ],
   "source": [
    "# generate counterfactuals\n",
    "e1 = exp.generate_counterfactuals(u, total_CFs=num_counterfactuals, desired_class=\"opposite\", random_seed=0,\n",
    "                                features_to_vary = features_to_vary, permitted_range = feature_ranges)"
   ],
   "metadata": {
    "collapsed": false,
    "pycharm": {
     "name": "#%%\n"
    }
   }
  },
  {
   "cell_type": "code",
   "execution_count": 228,
   "outputs": [],
   "source": [
    "# extract counterfactuals as data frame\n",
    "CFs = e1.cf_examples_list[0].final_cfs_df.iloc[:,:-1]\n",
    "CFs = CFs.reset_index(drop=True)\n",
    "\n",
    "number_of_solutions = len(CFs.index)\n",
    "\n",
    "CEs = pd.concat([u, CFs])\n",
    "ix_names = ['original']+['sol'+str(i) for i in range(number_of_solutions)]\n",
    "CEs = CEs.set_index(pd.Index(ix_names))"
   ],
   "metadata": {
    "collapsed": false,
    "pycharm": {
     "name": "#%%\n"
    }
   }
  },
  {
   "cell_type": "markdown",
   "source": [
    "### Visualize DF"
   ],
   "metadata": {
    "collapsed": false,
    "pycharm": {
     "name": "#%% md\n"
    }
   }
  },
  {
   "cell_type": "code",
   "execution_count": 229,
   "outputs": [
    {
     "data": {
      "text/plain": "         checking_status duration credit_history  purpose credit_amount  \\\noriginal              <0       24  existing paid  new car          1371   \nsol0                   -        -              -        -             -   \nsol1                   -        -              -        -             -   \nsol2                   -        -              -        -             -   \n\n            savings_status employment installment_commitment  \\\noriginal  no known savings     1<=X<4                      4   \nsol0                     -          -                      -   \nsol1                     -        >=7                      -   \nsol2                     -        >=7                      -   \n\n             personal_status other_parties residence_since property_magnitude  \\\noriginal  female div/dep/mar          none               4        real estate   \nsol0                       -             -               -                  -   \nsol1                       -             -               -                  -   \nsol2                       -             -               -                  -   \n\n           age other_payment_plans housing existing_credits  \\\noriginal    25                none    rent                1   \nsol0      28.0                   -       -                -   \nsol1      61.0                   -       -                -   \nsol2      64.0                   -       -                -   \n\n                              job num_dependents own_telephone foreign_worker  \noriginal                  skilled              1          none            yes  \nsol0      unemp/unskilled non res              -             -              -  \nsol1                            -              -             -              -  \nsol2                            -              -             -              -  ",
      "text/html": "<div>\n<style scoped>\n    .dataframe tbody tr th:only-of-type {\n        vertical-align: middle;\n    }\n\n    .dataframe tbody tr th {\n        vertical-align: top;\n    }\n\n    .dataframe thead th {\n        text-align: right;\n    }\n</style>\n<table border=\"1\" class=\"dataframe\">\n  <thead>\n    <tr style=\"text-align: right;\">\n      <th></th>\n      <th>checking_status</th>\n      <th>duration</th>\n      <th>credit_history</th>\n      <th>purpose</th>\n      <th>credit_amount</th>\n      <th>savings_status</th>\n      <th>employment</th>\n      <th>installment_commitment</th>\n      <th>personal_status</th>\n      <th>other_parties</th>\n      <th>residence_since</th>\n      <th>property_magnitude</th>\n      <th>age</th>\n      <th>other_payment_plans</th>\n      <th>housing</th>\n      <th>existing_credits</th>\n      <th>job</th>\n      <th>num_dependents</th>\n      <th>own_telephone</th>\n      <th>foreign_worker</th>\n    </tr>\n  </thead>\n  <tbody>\n    <tr>\n      <th>original</th>\n      <td>&lt;0</td>\n      <td>24</td>\n      <td>existing paid</td>\n      <td>new car</td>\n      <td>1371</td>\n      <td>no known savings</td>\n      <td>1&lt;=X&lt;4</td>\n      <td>4</td>\n      <td>female div/dep/mar</td>\n      <td>none</td>\n      <td>4</td>\n      <td>real estate</td>\n      <td>25</td>\n      <td>none</td>\n      <td>rent</td>\n      <td>1</td>\n      <td>skilled</td>\n      <td>1</td>\n      <td>none</td>\n      <td>yes</td>\n    </tr>\n    <tr>\n      <th>sol0</th>\n      <td>-</td>\n      <td>-</td>\n      <td>-</td>\n      <td>-</td>\n      <td>-</td>\n      <td>-</td>\n      <td>-</td>\n      <td>-</td>\n      <td>-</td>\n      <td>-</td>\n      <td>-</td>\n      <td>-</td>\n      <td>28.0</td>\n      <td>-</td>\n      <td>-</td>\n      <td>-</td>\n      <td>unemp/unskilled non res</td>\n      <td>-</td>\n      <td>-</td>\n      <td>-</td>\n    </tr>\n    <tr>\n      <th>sol1</th>\n      <td>-</td>\n      <td>-</td>\n      <td>-</td>\n      <td>-</td>\n      <td>-</td>\n      <td>-</td>\n      <td>&gt;=7</td>\n      <td>-</td>\n      <td>-</td>\n      <td>-</td>\n      <td>-</td>\n      <td>-</td>\n      <td>61.0</td>\n      <td>-</td>\n      <td>-</td>\n      <td>-</td>\n      <td>-</td>\n      <td>-</td>\n      <td>-</td>\n      <td>-</td>\n    </tr>\n    <tr>\n      <th>sol2</th>\n      <td>-</td>\n      <td>-</td>\n      <td>-</td>\n      <td>-</td>\n      <td>-</td>\n      <td>-</td>\n      <td>&gt;=7</td>\n      <td>-</td>\n      <td>-</td>\n      <td>-</td>\n      <td>-</td>\n      <td>-</td>\n      <td>64.0</td>\n      <td>-</td>\n      <td>-</td>\n      <td>-</td>\n      <td>-</td>\n      <td>-</td>\n      <td>-</td>\n      <td>-</td>\n    </tr>\n  </tbody>\n</table>\n</div>"
     },
     "execution_count": 229,
     "metadata": {},
     "output_type": "execute_result"
    }
   ],
   "source": [
    "orig = CEs[:1]\n",
    "df = CEs[1:].copy()\n",
    "df1 = pd.DataFrame()\n",
    "for c in df.columns:\n",
    "    df1[c] = df.apply(lambda row: ce_helpers.ce_change(row, df1, orig, c), axis=1)\n",
    "\n",
    "df_3 = pd.concat([orig, df1])\n",
    "df_3"
   ],
   "metadata": {
    "collapsed": false,
    "pycharm": {
     "name": "#%%\n"
    }
   }
  },
  {
   "cell_type": "markdown",
   "source": [
    "### Evaluation"
   ],
   "metadata": {
    "collapsed": false,
    "pycharm": {
     "name": "#%% md\n"
    }
   }
  },
  {
   "cell_type": "code",
   "execution_count": 230,
   "outputs": [
    {
     "data": {
      "text/plain": "        validity  cat_prox  cont_prox  sparsity  cat_diver  cont_diver  \\\nPart B       1.0      0.92     -50.00      0.90        NaN         NaN   \nPart C       1.0      0.92     -31.33      0.92       0.13       33.33   \nPart D       1.0      0.92     -26.00      0.90       0.10       24.00   \n\n        cont_count_divers  \nPart B                NaN  \nPart C               0.13  \nPart D               0.12  ",
      "text/html": "<div>\n<style scoped>\n    .dataframe tbody tr th:only-of-type {\n        vertical-align: middle;\n    }\n\n    .dataframe tbody tr th {\n        vertical-align: top;\n    }\n\n    .dataframe thead th {\n        text-align: right;\n    }\n</style>\n<table border=\"1\" class=\"dataframe\">\n  <thead>\n    <tr style=\"text-align: right;\">\n      <th></th>\n      <th>validity</th>\n      <th>cat_prox</th>\n      <th>cont_prox</th>\n      <th>sparsity</th>\n      <th>cat_diver</th>\n      <th>cont_diver</th>\n      <th>cont_count_divers</th>\n    </tr>\n  </thead>\n  <tbody>\n    <tr>\n      <th>Part B</th>\n      <td>1.0</td>\n      <td>0.92</td>\n      <td>-50.00</td>\n      <td>0.90</td>\n      <td>NaN</td>\n      <td>NaN</td>\n      <td>NaN</td>\n    </tr>\n    <tr>\n      <th>Part C</th>\n      <td>1.0</td>\n      <td>0.92</td>\n      <td>-31.33</td>\n      <td>0.92</td>\n      <td>0.13</td>\n      <td>33.33</td>\n      <td>0.13</td>\n    </tr>\n    <tr>\n      <th>Part D</th>\n      <td>1.0</td>\n      <td>0.92</td>\n      <td>-26.00</td>\n      <td>0.90</td>\n      <td>0.10</td>\n      <td>24.00</td>\n      <td>0.12</td>\n    </tr>\n  </tbody>\n</table>\n</div>"
     },
     "execution_count": 230,
     "metadata": {},
     "output_type": "execute_result"
    }
   ],
   "source": [
    "CE_perf = pd.concat([CE_perf, ce_helpers.evaluation(model, CEs, numerical, categorical, rounding = True)])\n",
    "CE_perf = CE_perf.set_index(pd.Index(['Part B', 'Part C', 'Part D']))\n",
    "CE_perf"
   ],
   "metadata": {
    "collapsed": false,
    "pycharm": {
     "name": "#%%\n"
    }
   }
  },
  {
   "cell_type": "markdown",
   "source": [
    "---\n",
    "\n",
    "## Table"
   ],
   "metadata": {
    "collapsed": false,
    "pycharm": {
     "name": "#%% md\n"
    }
   }
  },
  {
   "cell_type": "code",
   "execution_count": 231,
   "outputs": [
    {
     "data": {
      "text/plain": "         checking_status duration credit_history   purpose credit_amount  \\\noriginal              <0       24  existing paid   new car          1371   \nsol0                   -        -              -  used car             -   \noriginal              <0       24  existing paid   new car          1371   \nsol0                   -        -              -  used car             -   \nsol1                   -        -              -         -             -   \nsol2                   -        -              -     other             -   \noriginal              <0       24  existing paid   new car          1371   \nsol0                   -        -              -         -             -   \nsol1                   -        -              -         -             -   \nsol2                   -        -              -         -             -   \n\n            savings_status employment installment_commitment  \\\noriginal  no known savings     1<=X<4                      4   \nsol0                     -          -                      -   \noriginal  no known savings     1<=X<4                      4   \nsol0                     -          -                      -   \nsol1                     -          -                      -   \nsol2                     -          -                      -   \noriginal  no known savings     1<=X<4                      4   \nsol0                     -          -                      -   \nsol1                     -        >=7                      -   \nsol2                     -        >=7                      -   \n\n             personal_status other_parties residence_since property_magnitude  \\\noriginal  female div/dep/mar          none               4        real estate   \nsol0                       -             -               -                  -   \noriginal  female div/dep/mar          none               4        real estate   \nsol0                       -             -               -                  -   \nsol1                       -             -               -                  -   \nsol2                       -             -               -                  -   \noriginal  female div/dep/mar          none               4        real estate   \nsol0                       -             -               -                  -   \nsol1                       -             -               -                  -   \nsol2                       -             -               -                  -   \n\n           age other_payment_plans housing existing_credits  \\\noriginal    25                none    rent                1   \nsol0      75.0                   -       -                -   \noriginal    25                none    rent                1   \nsol0      75.0                   -       -                -   \nsol1      69.0                   -       -                -   \nsol2         -                   -       -                -   \noriginal    25                none    rent                1   \nsol0      28.0                   -       -                -   \nsol1      61.0                   -       -                -   \nsol2      64.0                   -       -                -   \n\n                              job num_dependents own_telephone foreign_worker  \noriginal                  skilled              1          none            yes  \nsol0                            -              -             -              -  \noriginal                  skilled              1          none            yes  \nsol0                            -              -             -              -  \nsol1      unemp/unskilled non res              -             -              -  \nsol2                            -              -             -              -  \noriginal                  skilled              1          none            yes  \nsol0      unemp/unskilled non res              -             -              -  \nsol1                            -              -             -              -  \nsol2                            -              -             -              -  ",
      "text/html": "<div>\n<style scoped>\n    .dataframe tbody tr th:only-of-type {\n        vertical-align: middle;\n    }\n\n    .dataframe tbody tr th {\n        vertical-align: top;\n    }\n\n    .dataframe thead th {\n        text-align: right;\n    }\n</style>\n<table border=\"1\" class=\"dataframe\">\n  <thead>\n    <tr style=\"text-align: right;\">\n      <th></th>\n      <th>checking_status</th>\n      <th>duration</th>\n      <th>credit_history</th>\n      <th>purpose</th>\n      <th>credit_amount</th>\n      <th>savings_status</th>\n      <th>employment</th>\n      <th>installment_commitment</th>\n      <th>personal_status</th>\n      <th>other_parties</th>\n      <th>residence_since</th>\n      <th>property_magnitude</th>\n      <th>age</th>\n      <th>other_payment_plans</th>\n      <th>housing</th>\n      <th>existing_credits</th>\n      <th>job</th>\n      <th>num_dependents</th>\n      <th>own_telephone</th>\n      <th>foreign_worker</th>\n    </tr>\n  </thead>\n  <tbody>\n    <tr>\n      <th>original</th>\n      <td>&lt;0</td>\n      <td>24</td>\n      <td>existing paid</td>\n      <td>new car</td>\n      <td>1371</td>\n      <td>no known savings</td>\n      <td>1&lt;=X&lt;4</td>\n      <td>4</td>\n      <td>female div/dep/mar</td>\n      <td>none</td>\n      <td>4</td>\n      <td>real estate</td>\n      <td>25</td>\n      <td>none</td>\n      <td>rent</td>\n      <td>1</td>\n      <td>skilled</td>\n      <td>1</td>\n      <td>none</td>\n      <td>yes</td>\n    </tr>\n    <tr>\n      <th>sol0</th>\n      <td>-</td>\n      <td>-</td>\n      <td>-</td>\n      <td>used car</td>\n      <td>-</td>\n      <td>-</td>\n      <td>-</td>\n      <td>-</td>\n      <td>-</td>\n      <td>-</td>\n      <td>-</td>\n      <td>-</td>\n      <td>75.0</td>\n      <td>-</td>\n      <td>-</td>\n      <td>-</td>\n      <td>-</td>\n      <td>-</td>\n      <td>-</td>\n      <td>-</td>\n    </tr>\n    <tr>\n      <th>original</th>\n      <td>&lt;0</td>\n      <td>24</td>\n      <td>existing paid</td>\n      <td>new car</td>\n      <td>1371</td>\n      <td>no known savings</td>\n      <td>1&lt;=X&lt;4</td>\n      <td>4</td>\n      <td>female div/dep/mar</td>\n      <td>none</td>\n      <td>4</td>\n      <td>real estate</td>\n      <td>25</td>\n      <td>none</td>\n      <td>rent</td>\n      <td>1</td>\n      <td>skilled</td>\n      <td>1</td>\n      <td>none</td>\n      <td>yes</td>\n    </tr>\n    <tr>\n      <th>sol0</th>\n      <td>-</td>\n      <td>-</td>\n      <td>-</td>\n      <td>used car</td>\n      <td>-</td>\n      <td>-</td>\n      <td>-</td>\n      <td>-</td>\n      <td>-</td>\n      <td>-</td>\n      <td>-</td>\n      <td>-</td>\n      <td>75.0</td>\n      <td>-</td>\n      <td>-</td>\n      <td>-</td>\n      <td>-</td>\n      <td>-</td>\n      <td>-</td>\n      <td>-</td>\n    </tr>\n    <tr>\n      <th>sol1</th>\n      <td>-</td>\n      <td>-</td>\n      <td>-</td>\n      <td>-</td>\n      <td>-</td>\n      <td>-</td>\n      <td>-</td>\n      <td>-</td>\n      <td>-</td>\n      <td>-</td>\n      <td>-</td>\n      <td>-</td>\n      <td>69.0</td>\n      <td>-</td>\n      <td>-</td>\n      <td>-</td>\n      <td>unemp/unskilled non res</td>\n      <td>-</td>\n      <td>-</td>\n      <td>-</td>\n    </tr>\n    <tr>\n      <th>sol2</th>\n      <td>-</td>\n      <td>-</td>\n      <td>-</td>\n      <td>other</td>\n      <td>-</td>\n      <td>-</td>\n      <td>-</td>\n      <td>-</td>\n      <td>-</td>\n      <td>-</td>\n      <td>-</td>\n      <td>-</td>\n      <td>-</td>\n      <td>-</td>\n      <td>-</td>\n      <td>-</td>\n      <td>-</td>\n      <td>-</td>\n      <td>-</td>\n      <td>-</td>\n    </tr>\n    <tr>\n      <th>original</th>\n      <td>&lt;0</td>\n      <td>24</td>\n      <td>existing paid</td>\n      <td>new car</td>\n      <td>1371</td>\n      <td>no known savings</td>\n      <td>1&lt;=X&lt;4</td>\n      <td>4</td>\n      <td>female div/dep/mar</td>\n      <td>none</td>\n      <td>4</td>\n      <td>real estate</td>\n      <td>25</td>\n      <td>none</td>\n      <td>rent</td>\n      <td>1</td>\n      <td>skilled</td>\n      <td>1</td>\n      <td>none</td>\n      <td>yes</td>\n    </tr>\n    <tr>\n      <th>sol0</th>\n      <td>-</td>\n      <td>-</td>\n      <td>-</td>\n      <td>-</td>\n      <td>-</td>\n      <td>-</td>\n      <td>-</td>\n      <td>-</td>\n      <td>-</td>\n      <td>-</td>\n      <td>-</td>\n      <td>-</td>\n      <td>28.0</td>\n      <td>-</td>\n      <td>-</td>\n      <td>-</td>\n      <td>unemp/unskilled non res</td>\n      <td>-</td>\n      <td>-</td>\n      <td>-</td>\n    </tr>\n    <tr>\n      <th>sol1</th>\n      <td>-</td>\n      <td>-</td>\n      <td>-</td>\n      <td>-</td>\n      <td>-</td>\n      <td>-</td>\n      <td>&gt;=7</td>\n      <td>-</td>\n      <td>-</td>\n      <td>-</td>\n      <td>-</td>\n      <td>-</td>\n      <td>61.0</td>\n      <td>-</td>\n      <td>-</td>\n      <td>-</td>\n      <td>-</td>\n      <td>-</td>\n      <td>-</td>\n      <td>-</td>\n    </tr>\n    <tr>\n      <th>sol2</th>\n      <td>-</td>\n      <td>-</td>\n      <td>-</td>\n      <td>-</td>\n      <td>-</td>\n      <td>-</td>\n      <td>&gt;=7</td>\n      <td>-</td>\n      <td>-</td>\n      <td>-</td>\n      <td>-</td>\n      <td>-</td>\n      <td>64.0</td>\n      <td>-</td>\n      <td>-</td>\n      <td>-</td>\n      <td>-</td>\n      <td>-</td>\n      <td>-</td>\n      <td>-</td>\n    </tr>\n  </tbody>\n</table>\n</div>"
     },
     "execution_count": 231,
     "metadata": {},
     "output_type": "execute_result"
    }
   ],
   "source": [
    "df_complete = pd.concat([df_1, df_2, df_3])\n",
    "df_complete"
   ],
   "metadata": {
    "collapsed": false,
    "pycharm": {
     "name": "#%%\n"
    }
   }
  },
  {
   "cell_type": "code",
   "execution_count": 232,
   "outputs": [],
   "source": [
    "if not os.path.exists('results/%s/' % dataset_name):\n",
    "    os.makedirs('results/%s/' % dataset_name)\n",
    "\n",
    "df_complete.to_csv('results/%s/DiCE_%s_%s.csv' % (dataset_name, alg, dataset_name), index=True)\n",
    "CE_perf.to_csv('results/%s/DiCE_%s_%s_eval.csv' % (dataset_name, alg, dataset_name), index=True)"
   ],
   "metadata": {
    "collapsed": false,
    "pycharm": {
     "name": "#%%\n"
    }
   }
  }
 ],
 "metadata": {
  "kernelspec": {
   "display_name": "Python 3",
   "language": "python",
   "name": "python3"
  },
  "language_info": {
   "codemirror_mode": {
    "name": "ipython",
    "version": 2
   },
   "file_extension": ".py",
   "mimetype": "text/x-python",
   "name": "python",
   "nbconvert_exporter": "python",
   "pygments_lexer": "ipython2",
   "version": "2.7.6"
  }
 },
 "nbformat": 4,
 "nbformat_minor": 0
}