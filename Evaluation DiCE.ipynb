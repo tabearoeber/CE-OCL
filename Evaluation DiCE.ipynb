{
 "cells": [
  {
   "cell_type": "markdown",
   "id": "rXUL7RJsADwp",
   "metadata": {
    "id": "rXUL7RJsADwp"
   },
   "source": [
    "# Evaluation DiCE"
   ]
  },
  {
   "cell_type": "markdown",
   "id": "pEuOOxW657MQ",
   "metadata": {
    "id": "pEuOOxW657MQ"
   },
   "source": [
    "## Preparation"
   ]
  },
  {
   "cell_type": "code",
   "execution_count": 5,
   "id": "76a57a47",
   "metadata": {
    "executionInfo": {
     "elapsed": 12971,
     "status": "ok",
     "timestamp": 1652388411477,
     "user": {
      "displayName": "Tabea röber",
      "userId": "08695671206063888221"
     },
     "user_tz": -120
    },
    "id": "76a57a47"
   },
   "outputs": [],
   "source": [
    "import warnings\n",
    "warnings.filterwarnings(\"ignore\")\n",
    "import numpy as np\n",
    "import pandas as pd\n",
    "from sklearn.model_selection import train_test_split\n",
    "from sklearn.compose import ColumnTransformer\n",
    "from sklearn.pipeline import Pipeline\n",
    "from sklearn.preprocessing import MinMaxScaler, OneHotEncoder\n",
    "from sklearn.svm import LinearSVC\n",
    "import dice_ml\n",
    "from dice_ml.data_interfaces.public_data_interface import PublicData\n",
    "from dice_ml.utils import helpers # helper functions\n",
    "import ce_helpers"
   ]
  },
  {
   "cell_type": "code",
   "execution_count": 6,
   "id": "f775a48c",
   "metadata": {},
   "outputs": [],
   "source": [
    "num_iterations = 30"
   ]
  },
  {
   "cell_type": "markdown",
   "id": "dvjIm6hb_1AM",
   "metadata": {
    "id": "dvjIm6hb_1AM"
   },
   "source": [
    "# CREDIT"
   ]
  },
  {
   "cell_type": "markdown",
   "id": "YlBxbTDALsyU",
   "metadata": {
    "id": "YlBxbTDALsyU"
   },
   "source": [
    "## data & model prep"
   ]
  },
  {
   "cell_type": "markdown",
   "id": "28e35ada",
   "metadata": {},
   "source": [
    "The (preprocessed) data can be downloaded from: https://datahub.io/machine-learning/credit-g"
   ]
  },
  {
   "cell_type": "code",
   "execution_count": 7,
   "id": "N0_wrJvGLsBA",
   "metadata": {
    "executionInfo": {
     "elapsed": 317,
     "status": "ok",
     "timestamp": 1652388429403,
     "user": {
      "displayName": "Tabea röber",
      "userId": "08695671206063888221"
     },
     "user_tz": -120
    },
    "id": "N0_wrJvGLsBA"
   },
   "outputs": [],
   "source": [
    "### reading in data\n",
    "dataset_name = 'german_credit'\n",
    "df = pd.read_csv('./data/credit-g_csv.csv')\n",
    "\n",
    "# recode class to 0 and 1\n",
    "recode = {\"class\": {\"bad\": 0, \"good\": 1}}\n",
    "df = df.replace(recode)\n",
    "\n",
    "df.head()\n",
    "\n",
    "target = 'class'\n",
    "\n",
    "X = df.drop(target, axis=1)\n",
    "y = df[target]\n",
    "\n",
    "x_train_dice, x_test_dice, y_train_dice, y_test_dice = train_test_split(X,\n",
    "                                                    y,\n",
    "                                                    test_size=0.2,\n",
    "                                                    random_state=0,\n",
    "                                                    stratify=y)\n",
    "\n",
    "train_dataset = pd.merge(pd.DataFrame(x_train_dice),pd.DataFrame(y_train_dice), left_index=True, right_index=True)\n",
    "\n",
    "numerical = ['duration', 'credit_amount', 'installment_commitment', 'age', \n",
    "             'residence_since', 'existing_credits', 'num_dependents']\n",
    "categorical = x_train_dice.columns.difference(numerical)"
   ]
  },
  {
   "cell_type": "code",
   "execution_count": 8,
   "id": "QZxf3vxQZ_d-",
   "metadata": {
    "executionInfo": {
     "elapsed": 7,
     "status": "ok",
     "timestamp": 1652388429404,
     "user": {
      "displayName": "Tabea röber",
      "userId": "08695671206063888221"
     },
     "user_tz": -120
    },
    "id": "QZxf3vxQZ_d-"
   },
   "outputs": [],
   "source": [
    "categorical_transformer = Pipeline(steps=[\n",
    "    ('onehot', OneHotEncoder(handle_unknown='ignore'))])\n",
    "\n",
    "transformations = ColumnTransformer(\n",
    "    transformers=[\n",
    "        ('cat', OneHotEncoder(handle_unknown='ignore'), categorical),\n",
    "        ('num', MinMaxScaler(), numerical)])\n",
    "\n",
    "# Append classifier to preprocessing pipeline.\n",
    "# Now we have a full prediction pipeline.\n",
    "clf_dice = Pipeline(steps=[('preprocessor', transformations),\n",
    "                      ('classifier', LinearSVC(random_state=0, max_iter = 1e5, dual=False, penalty = 'l2', C=0.1))])"
   ]
  },
  {
   "cell_type": "code",
   "execution_count": 9,
   "id": "2bxwpi-XaKTf",
   "metadata": {
    "colab": {
     "base_uri": "https://localhost:8080/"
    },
    "executionInfo": {
     "elapsed": 6,
     "status": "ok",
     "timestamp": 1652388429404,
     "user": {
      "displayName": "Tabea röber",
      "userId": "08695671206063888221"
     },
     "user_tz": -120
    },
    "id": "2bxwpi-XaKTf",
    "outputId": "258dc5f4-b231-478b-f953-251ed8bd7fc2"
   },
   "outputs": [],
   "source": [
    "model = clf_dice.fit(x_train_dice, y_train_dice)"
   ]
  },
  {
   "cell_type": "code",
   "execution_count": 10,
   "id": "_2vjMvSaaPto",
   "metadata": {
    "executionInfo": {
     "elapsed": 318,
     "status": "ok",
     "timestamp": 1652388429718,
     "user": {
      "displayName": "Tabea röber",
      "userId": "08695671206063888221"
     },
     "user_tz": -120
    },
    "id": "_2vjMvSaaPto"
   },
   "outputs": [],
   "source": [
    "y_pred = model.predict(x_test_dice)\n",
    "y_pred_0 = np.where(y_pred==0)\n",
    "X_test_0 = x_test_dice.iloc[y_pred_0[0],:].copy()"
   ]
  },
  {
   "cell_type": "markdown",
   "id": "q_zjyByObN29",
   "metadata": {
    "id": "q_zjyByObN29"
   },
   "source": [
    "## run DiCE"
   ]
  },
  {
   "cell_type": "code",
   "execution_count": 11,
   "id": "WWMe3JpEbNfh",
   "metadata": {
    "executionInfo": {
     "elapsed": 1616,
     "status": "ok",
     "timestamp": 1652388431330,
     "user": {
      "displayName": "Tabea röber",
      "userId": "08695671206063888221"
     },
     "user_tz": -120
    },
    "id": "WWMe3JpEbNfh"
   },
   "outputs": [],
   "source": [
    "# Step 1: dice_ml.Data\n",
    "d = dice_ml.Data(dataframe=train_dataset, continuous_features=numerical, outcome_name=target)\n",
    "\n",
    "# Step 2: dice_ml.Model\n",
    "m = dice_ml.Model(model=model, backend=\"sklearn\")\n",
    "\n",
    "# Step 3: dice_ml.Dice\n",
    "exp = dice_ml.Dice(d, m, method=\"random\")\n",
    "\n",
    "# Actionability \n",
    "# immutable features\n",
    "I = ['personal_status', 'foreign_worker', 'purpose']\n",
    "\n",
    "employment = ['unemployed', '<1', '1<=X<4','4<=X<7', '>=7']\n",
    "# permitted ranges depend on u, and hence have to be inside the loop"
   ]
  },
  {
   "cell_type": "code",
   "execution_count": 12,
   "id": "KqXI_ZBDbdCz",
   "metadata": {
    "colab": {
     "base_uri": "https://localhost:8080/",
     "height": 408
    },
    "executionInfo": {
     "elapsed": 2068,
     "status": "ok",
     "timestamp": 1652388433396,
     "user": {
      "displayName": "Tabea röber",
      "userId": "08695671206063888221"
     },
     "user_tz": -120
    },
    "id": "KqXI_ZBDbdCz",
    "outputId": "add5a4b3-42d6-48a7-81e2-9e3c6a3bb675"
   },
   "outputs": [
    {
     "name": "stdout",
     "output_type": "stream",
     "text": [
      "u_index: 0\n"
     ]
    },
    {
     "name": "stderr",
     "output_type": "stream",
     "text": [
      "100%|██████████| 1/1 [00:00<00:00, 11.80it/s]\n"
     ]
    },
    {
     "name": "stdout",
     "output_type": "stream",
     "text": [
      "u_index: 1\n"
     ]
    },
    {
     "name": "stderr",
     "output_type": "stream",
     "text": [
      "100%|██████████| 1/1 [00:00<00:00, 13.01it/s]\n"
     ]
    },
    {
     "name": "stdout",
     "output_type": "stream",
     "text": [
      "u_index: 2\n"
     ]
    },
    {
     "name": "stderr",
     "output_type": "stream",
     "text": [
      "100%|██████████| 1/1 [00:00<00:00, 13.27it/s]\n"
     ]
    },
    {
     "name": "stdout",
     "output_type": "stream",
     "text": [
      "u_index: 3\n"
     ]
    },
    {
     "name": "stderr",
     "output_type": "stream",
     "text": [
      "100%|██████████| 1/1 [00:00<00:00, 13.27it/s]\n"
     ]
    },
    {
     "name": "stdout",
     "output_type": "stream",
     "text": [
      "u_index: 4\n"
     ]
    },
    {
     "name": "stderr",
     "output_type": "stream",
     "text": [
      "100%|██████████| 1/1 [00:00<00:00, 13.18it/s]\n"
     ]
    },
    {
     "name": "stdout",
     "output_type": "stream",
     "text": [
      "u_index: 5\n"
     ]
    },
    {
     "name": "stderr",
     "output_type": "stream",
     "text": [
      "100%|██████████| 1/1 [00:00<00:00, 13.94it/s]\n"
     ]
    },
    {
     "name": "stdout",
     "output_type": "stream",
     "text": [
      "u_index: 6\n"
     ]
    },
    {
     "name": "stderr",
     "output_type": "stream",
     "text": [
      "100%|██████████| 1/1 [00:00<00:00, 13.40it/s]\n"
     ]
    },
    {
     "name": "stdout",
     "output_type": "stream",
     "text": [
      "u_index: 7\n"
     ]
    },
    {
     "name": "stderr",
     "output_type": "stream",
     "text": [
      "100%|██████████| 1/1 [00:00<00:00, 13.66it/s]\n"
     ]
    },
    {
     "name": "stdout",
     "output_type": "stream",
     "text": [
      "u_index: 8\n"
     ]
    },
    {
     "name": "stderr",
     "output_type": "stream",
     "text": [
      "100%|██████████| 1/1 [00:00<00:00, 12.86it/s]\n"
     ]
    },
    {
     "name": "stdout",
     "output_type": "stream",
     "text": [
      "u_index: 9\n"
     ]
    },
    {
     "name": "stderr",
     "output_type": "stream",
     "text": [
      "100%|██████████| 1/1 [00:00<00:00, 13.01it/s]\n"
     ]
    },
    {
     "name": "stdout",
     "output_type": "stream",
     "text": [
      "u_index: 10\n"
     ]
    },
    {
     "name": "stderr",
     "output_type": "stream",
     "text": [
      "100%|██████████| 1/1 [00:00<00:00, 13.25it/s]\n"
     ]
    },
    {
     "name": "stdout",
     "output_type": "stream",
     "text": [
      "u_index: 11\n"
     ]
    },
    {
     "name": "stderr",
     "output_type": "stream",
     "text": [
      "100%|██████████| 1/1 [00:00<00:00, 13.72it/s]\n"
     ]
    },
    {
     "name": "stdout",
     "output_type": "stream",
     "text": [
      "u_index: 12\n"
     ]
    },
    {
     "name": "stderr",
     "output_type": "stream",
     "text": [
      "100%|██████████| 1/1 [00:00<00:00, 13.72it/s]\n"
     ]
    },
    {
     "name": "stdout",
     "output_type": "stream",
     "text": [
      "u_index: 13\n"
     ]
    },
    {
     "name": "stderr",
     "output_type": "stream",
     "text": [
      "100%|██████████| 1/1 [00:00<00:00, 13.22it/s]\n"
     ]
    },
    {
     "name": "stdout",
     "output_type": "stream",
     "text": [
      "u_index: 14\n"
     ]
    },
    {
     "name": "stderr",
     "output_type": "stream",
     "text": [
      "100%|██████████| 1/1 [00:00<00:00, 13.60it/s]\n"
     ]
    },
    {
     "name": "stdout",
     "output_type": "stream",
     "text": [
      "u_index: 15\n"
     ]
    },
    {
     "name": "stderr",
     "output_type": "stream",
     "text": [
      "100%|██████████| 1/1 [00:00<00:00, 13.37it/s]\n"
     ]
    },
    {
     "name": "stdout",
     "output_type": "stream",
     "text": [
      "u_index: 16\n"
     ]
    },
    {
     "name": "stderr",
     "output_type": "stream",
     "text": [
      "100%|██████████| 1/1 [00:00<00:00, 13.06it/s]\n"
     ]
    },
    {
     "name": "stdout",
     "output_type": "stream",
     "text": [
      "u_index: 17\n"
     ]
    },
    {
     "name": "stderr",
     "output_type": "stream",
     "text": [
      "100%|██████████| 1/1 [00:00<00:00, 13.17it/s]\n"
     ]
    },
    {
     "name": "stdout",
     "output_type": "stream",
     "text": [
      "u_index: 18\n"
     ]
    },
    {
     "name": "stderr",
     "output_type": "stream",
     "text": [
      "100%|██████████| 1/1 [00:00<00:00, 14.13it/s]\n"
     ]
    },
    {
     "name": "stdout",
     "output_type": "stream",
     "text": [
      "u_index: 19\n"
     ]
    },
    {
     "name": "stderr",
     "output_type": "stream",
     "text": [
      "100%|██████████| 1/1 [00:00<00:00, 13.66it/s]\n"
     ]
    },
    {
     "name": "stdout",
     "output_type": "stream",
     "text": [
      "u_index: 20\n"
     ]
    },
    {
     "name": "stderr",
     "output_type": "stream",
     "text": [
      "100%|██████████| 1/1 [00:00<00:00, 13.57it/s]\n"
     ]
    },
    {
     "name": "stdout",
     "output_type": "stream",
     "text": [
      "u_index: 21\n"
     ]
    },
    {
     "name": "stderr",
     "output_type": "stream",
     "text": [
      "100%|██████████| 1/1 [00:00<00:00, 12.04it/s]\n"
     ]
    },
    {
     "name": "stdout",
     "output_type": "stream",
     "text": [
      "u_index: 22\n"
     ]
    },
    {
     "name": "stderr",
     "output_type": "stream",
     "text": [
      "100%|██████████| 1/1 [00:00<00:00, 13.07it/s]\n"
     ]
    },
    {
     "name": "stdout",
     "output_type": "stream",
     "text": [
      "u_index: 23\n"
     ]
    },
    {
     "name": "stderr",
     "output_type": "stream",
     "text": [
      "100%|██████████| 1/1 [00:00<00:00, 13.47it/s]\n"
     ]
    },
    {
     "name": "stdout",
     "output_type": "stream",
     "text": [
      "u_index: 24\n"
     ]
    },
    {
     "name": "stderr",
     "output_type": "stream",
     "text": [
      "100%|██████████| 1/1 [00:00<00:00, 12.94it/s]\n"
     ]
    },
    {
     "name": "stdout",
     "output_type": "stream",
     "text": [
      "u_index: 25\n"
     ]
    },
    {
     "name": "stderr",
     "output_type": "stream",
     "text": [
      "100%|██████████| 1/1 [00:00<00:00, 13.42it/s]\n"
     ]
    },
    {
     "name": "stdout",
     "output_type": "stream",
     "text": [
      "u_index: 26\n"
     ]
    },
    {
     "name": "stderr",
     "output_type": "stream",
     "text": [
      "100%|██████████| 1/1 [00:00<00:00, 13.07it/s]\n"
     ]
    },
    {
     "name": "stdout",
     "output_type": "stream",
     "text": [
      "u_index: 27\n"
     ]
    },
    {
     "name": "stderr",
     "output_type": "stream",
     "text": [
      "100%|██████████| 1/1 [00:00<00:00, 13.46it/s]\n"
     ]
    },
    {
     "name": "stdout",
     "output_type": "stream",
     "text": [
      "u_index: 28\n"
     ]
    },
    {
     "name": "stderr",
     "output_type": "stream",
     "text": [
      "100%|██████████| 1/1 [00:00<00:00, 13.26it/s]\n"
     ]
    },
    {
     "name": "stdout",
     "output_type": "stream",
     "text": [
      "u_index: 29\n"
     ]
    },
    {
     "name": "stderr",
     "output_type": "stream",
     "text": [
      "100%|██████████| 1/1 [00:00<00:00, 12.73it/s]\n"
     ]
    },
    {
     "data": {
      "text/plain": "      validity  cat_prox  cont_prox  sparsity  cat_diver  cont_diver  \\\nmean       1.0      0.90    -240.60      0.91       0.16      479.67   \nstd        0.0      0.03     775.33      0.01       0.07     1551.10   \n\n      cont_count_divers  \nmean               0.15  \nstd                0.03  ",
      "text/html": "<div>\n<style scoped>\n    .dataframe tbody tr th:only-of-type {\n        vertical-align: middle;\n    }\n\n    .dataframe tbody tr th {\n        vertical-align: top;\n    }\n\n    .dataframe thead th {\n        text-align: right;\n    }\n</style>\n<table border=\"1\" class=\"dataframe\">\n  <thead>\n    <tr style=\"text-align: right;\">\n      <th></th>\n      <th>validity</th>\n      <th>cat_prox</th>\n      <th>cont_prox</th>\n      <th>sparsity</th>\n      <th>cat_diver</th>\n      <th>cont_diver</th>\n      <th>cont_count_divers</th>\n    </tr>\n  </thead>\n  <tbody>\n    <tr>\n      <th>mean</th>\n      <td>1.0</td>\n      <td>0.90</td>\n      <td>-240.60</td>\n      <td>0.91</td>\n      <td>0.16</td>\n      <td>479.67</td>\n      <td>0.15</td>\n    </tr>\n    <tr>\n      <th>std</th>\n      <td>0.0</td>\n      <td>0.03</td>\n      <td>775.33</td>\n      <td>0.01</td>\n      <td>0.07</td>\n      <td>1551.10</td>\n      <td>0.03</td>\n    </tr>\n  </tbody>\n</table>\n</div>"
     },
     "execution_count": 12,
     "metadata": {},
     "output_type": "execute_result"
    }
   ],
   "source": [
    "## loop over several factual instances\n",
    "CE_perf = pd.DataFrame()\n",
    "\n",
    "eval = pd.DataFrame(columns=['validity', 'cat_prox', 'cont_prox', 'sparsity', 'cat_diver',\n",
    "       'cont_diver', 'cont_count_divers'])\n",
    "\n",
    "if X_test_0.shape[0] < num_iterations:\n",
    "    iters = X_test_0.shape[0]\n",
    "else: iters = num_iterations\n",
    "\n",
    "for u_index in range(iters):\n",
    "    print('u_index: %d' % u_index)\n",
    "    u = pd.DataFrame(X_test_0.iloc[u_index,:]).T\n",
    "\n",
    "    # Actionability\n",
    "    permitted_ranges = {}\n",
    "    permitted_ranges = {\n",
    "      'age': [u['age'], df['age'].max()], # age should only increase\n",
    "      'residence_since': [u['residence_since'], df['residence_since'].max()],\n",
    "      'employment': employment[employment.index(u['employment'].item()):]\n",
    "      }\n",
    "\n",
    "    F_b = df.columns.difference(numerical + [target])\n",
    "    feature_ranges = ce_helpers.get_features_range(df, numerical, F_b, permitted_ranges)[0]\n",
    "\n",
    "    features = list(feature_ranges.keys())\n",
    "    features_to_vary = [ele for ele in features if ele not in I] \n",
    "\n",
    "    # generate counterfactuals\n",
    "    e1 = exp.generate_counterfactuals(u, total_CFs=3, desired_class=\"opposite\", random_seed=0, \n",
    "                                    features_to_vary = features_to_vary, permitted_range = feature_ranges)\n",
    "\n",
    "    # extract counterfactuals as data frame\n",
    "    CFs = e1.cf_examples_list[0].final_cfs_df.iloc[:,:-1]\n",
    "    CFs = CFs.reset_index(drop=True)\n",
    "\n",
    "    number_of_solutions = len(CFs.index)\n",
    "\n",
    "    CEs = pd.concat([u, CFs])\n",
    "    ix_names = ['original']+['sol'+str(i) for i in range(number_of_solutions)]\n",
    "    CEs = CEs.set_index(pd.Index(ix_names))\n",
    "\n",
    "    CE_perf1 = ce_helpers.evaluation(model, CEs, numerical, categorical, rounding = True)\n",
    "    CE_perf = CE_perf.append(CE_perf1)\n",
    "\n",
    "eval.loc['mean'] = np.array(CE_perf.mean())\n",
    "eval.loc['std'] = np.array(CE_perf.std())\n",
    "eval.round(2)"
   ]
  },
  {
   "cell_type": "markdown",
   "id": "396VybES_IY8",
   "metadata": {
    "id": "396VybES_IY8"
   },
   "source": [
    "# ADULT"
   ]
  },
  {
   "cell_type": "markdown",
   "id": "_5e4LdpB_L1U",
   "metadata": {
    "id": "_5e4LdpB_L1U"
   },
   "source": [
    "## data & model prep"
   ]
  },
  {
   "cell_type": "code",
   "execution_count": 9,
   "id": "oOxClUBx_jjl",
   "metadata": {
    "executionInfo": {
     "elapsed": 3771,
     "status": "ok",
     "timestamp": 1652388530755,
     "user": {
      "displayName": "Tabea röber",
      "userId": "08695671206063888221"
     },
     "user_tz": -120
    },
    "id": "oOxClUBx_jjl"
   },
   "outputs": [],
   "source": [
    "### reading in data\n",
    "dataset_name = 'adult_income'\n",
    "df = helpers.load_adult_income_dataset(only_train = False)\n",
    "recode = {\"education\": {\"HS-grad\": 'School', 'Prof-school': 'School', \"Assoc\": 'Bachelors', \"Some-college\": 'Bachelors'}}\n",
    "df = df.replace(recode)\n",
    "df.head()\n",
    "\n",
    "target = 'income'\n",
    "\n",
    "X = df.drop(target, axis=1)\n",
    "y = df[target]\n",
    "\n",
    "x_train_dice, x_test_dice, y_train_dice, y_test_dice = train_test_split(X,\n",
    "                                                    y,\n",
    "                                                    test_size=0.2,\n",
    "                                                    random_state=0,\n",
    "                                                    stratify=y)\n",
    "\n",
    "train_dataset = pd.merge(pd.DataFrame(x_train_dice),pd.DataFrame(y_train_dice), left_index=True, right_index=True)\n",
    "\n",
    "numerical = [\"age\", \"hours_per_week\"]\n",
    "categorical = x_train_dice.columns.difference(numerical)"
   ]
  },
  {
   "cell_type": "code",
   "execution_count": 10,
   "id": "AilpzKjR_lPe",
   "metadata": {
    "executionInfo": {
     "elapsed": 9,
     "status": "ok",
     "timestamp": 1652388530757,
     "user": {
      "displayName": "Tabea röber",
      "userId": "08695671206063888221"
     },
     "user_tz": -120
    },
    "id": "AilpzKjR_lPe"
   },
   "outputs": [],
   "source": [
    "categorical_transformer = Pipeline(steps=[\n",
    "    ('onehot', OneHotEncoder(handle_unknown='ignore'))])\n",
    "\n",
    "transformations = ColumnTransformer(\n",
    "    transformers=[\n",
    "        ('cat', OneHotEncoder(handle_unknown='ignore'), categorical),\n",
    "        ('num', MinMaxScaler(), numerical)])\n",
    "\n",
    "# Append classifier to preprocessing pipeline.\n",
    "# Now we have a full prediction pipeline.\n",
    "clf_dice = Pipeline(steps=[('preprocessor', transformations),\n",
    "                      ('classifier', LinearSVC(random_state=0, max_iter = 1e5, dual=False, penalty = 'l2', C=100))])"
   ]
  },
  {
   "cell_type": "code",
   "execution_count": 11,
   "id": "OX1cgjJk_oUF",
   "metadata": {
    "colab": {
     "base_uri": "https://localhost:8080/"
    },
    "executionInfo": {
     "elapsed": 443,
     "status": "ok",
     "timestamp": 1652388531194,
     "user": {
      "displayName": "Tabea röber",
      "userId": "08695671206063888221"
     },
     "user_tz": -120
    },
    "id": "OX1cgjJk_oUF",
    "outputId": "70a83cc7-3562-4b80-a2e4-cfb7b606431b"
   },
   "outputs": [],
   "source": [
    "model = clf_dice.fit(x_train_dice, y_train_dice)"
   ]
  },
  {
   "cell_type": "code",
   "execution_count": 12,
   "id": "hC0XbIc6_qC1",
   "metadata": {
    "executionInfo": {
     "elapsed": 9,
     "status": "ok",
     "timestamp": 1652388531195,
     "user": {
      "displayName": "Tabea röber",
      "userId": "08695671206063888221"
     },
     "user_tz": -120
    },
    "id": "hC0XbIc6_qC1"
   },
   "outputs": [],
   "source": [
    "y_pred = model.predict(x_test_dice)\n",
    "y_pred_0 = np.where(y_pred==0)\n",
    "X_test_0 = x_test_dice.iloc[y_pred_0[0],:].copy()"
   ]
  },
  {
   "cell_type": "markdown",
   "id": "WJ4-Idls_Nfi",
   "metadata": {
    "id": "WJ4-Idls_Nfi"
   },
   "source": [
    "## run DiCE"
   ]
  },
  {
   "cell_type": "code",
   "execution_count": 13,
   "id": "LFe3aN9o_rJI",
   "metadata": {
    "executionInfo": {
     "elapsed": 7,
     "status": "ok",
     "timestamp": 1652388531195,
     "user": {
      "displayName": "Tabea röber",
      "userId": "08695671206063888221"
     },
     "user_tz": -120
    },
    "id": "LFe3aN9o_rJI"
   },
   "outputs": [],
   "source": [
    "# Step 1: dice_ml.Data\n",
    "d = dice_ml.Data(dataframe=train_dataset, continuous_features=['age', 'hours_per_week'], outcome_name='income')\n",
    "\n",
    "# Step 2: dice_ml.Model\n",
    "m = dice_ml.Model(model=model, backend=\"sklearn\")\n",
    "\n",
    "# Step 3: dice_ml.Dice\n",
    "exp = dice_ml.Dice(d, m, method=\"random\")\n",
    "\n",
    "# Actionability \n",
    "I = ['gender', 'marital_status','race']\n",
    "education = ['School', 'Bachelors', 'Masters', 'Doctorate']\n",
    "# permitted ranges depend on u, and hence have to be inside the loop"
   ]
  },
  {
   "cell_type": "code",
   "execution_count": 14,
   "id": "szXdhI5D_uaZ",
   "metadata": {
    "colab": {
     "base_uri": "https://localhost:8080/",
     "height": 408
    },
    "executionInfo": {
     "elapsed": 2381,
     "status": "ok",
     "timestamp": 1652388533570,
     "user": {
      "displayName": "Tabea röber",
      "userId": "08695671206063888221"
     },
     "user_tz": -120
    },
    "id": "szXdhI5D_uaZ",
    "outputId": "2b6df68d-5916-42bd-ae56-ff720841d614"
   },
   "outputs": [
    {
     "name": "stdout",
     "output_type": "stream",
     "text": [
      "u_index: 0\n"
     ]
    },
    {
     "name": "stderr",
     "output_type": "stream",
     "text": [
      "100%|█████████████████████████████████████████████| 1/1 [00:00<00:00, 14.92it/s]\n"
     ]
    },
    {
     "name": "stdout",
     "output_type": "stream",
     "text": [
      "u_index: 1\n"
     ]
    },
    {
     "name": "stderr",
     "output_type": "stream",
     "text": [
      "100%|█████████████████████████████████████████████| 1/1 [00:00<00:00, 16.31it/s]"
     ]
    },
    {
     "name": "stdout",
     "output_type": "stream",
     "text": [
      "u_index: 2\n"
     ]
    },
    {
     "name": "stderr",
     "output_type": "stream",
     "text": [
      "\n",
      "100%|█████████████████████████████████████████████| 1/1 [00:00<00:00, 16.18it/s]\n"
     ]
    },
    {
     "name": "stdout",
     "output_type": "stream",
     "text": [
      "u_index: 3\n"
     ]
    },
    {
     "name": "stderr",
     "output_type": "stream",
     "text": [
      "100%|█████████████████████████████████████████████| 1/1 [00:00<00:00, 16.44it/s]\n"
     ]
    },
    {
     "name": "stdout",
     "output_type": "stream",
     "text": [
      "u_index: 4\n"
     ]
    },
    {
     "name": "stderr",
     "output_type": "stream",
     "text": [
      "100%|█████████████████████████████████████████████| 1/1 [00:00<00:00, 15.70it/s]\n"
     ]
    },
    {
     "name": "stdout",
     "output_type": "stream",
     "text": [
      "u_index: 5\n"
     ]
    },
    {
     "name": "stderr",
     "output_type": "stream",
     "text": [
      "100%|█████████████████████████████████████████████| 1/1 [00:00<00:00, 15.67it/s]\n"
     ]
    },
    {
     "name": "stdout",
     "output_type": "stream",
     "text": [
      "u_index: 6\n"
     ]
    },
    {
     "name": "stderr",
     "output_type": "stream",
     "text": [
      "100%|█████████████████████████████████████████████| 1/1 [00:00<00:00, 16.34it/s]\n"
     ]
    },
    {
     "name": "stdout",
     "output_type": "stream",
     "text": [
      "u_index: 7\n"
     ]
    },
    {
     "name": "stderr",
     "output_type": "stream",
     "text": [
      "100%|█████████████████████████████████████████████| 1/1 [00:00<00:00, 15.24it/s]\n"
     ]
    },
    {
     "name": "stdout",
     "output_type": "stream",
     "text": [
      "u_index: 8\n"
     ]
    },
    {
     "name": "stderr",
     "output_type": "stream",
     "text": [
      "100%|█████████████████████████████████████████████| 1/1 [00:00<00:00, 16.19it/s]\n"
     ]
    },
    {
     "name": "stdout",
     "output_type": "stream",
     "text": [
      "u_index: 9\n"
     ]
    },
    {
     "name": "stderr",
     "output_type": "stream",
     "text": [
      "100%|█████████████████████████████████████████████| 1/1 [00:00<00:00, 14.86it/s]\n"
     ]
    },
    {
     "name": "stdout",
     "output_type": "stream",
     "text": [
      "u_index: 10\n"
     ]
    },
    {
     "name": "stderr",
     "output_type": "stream",
     "text": [
      "100%|█████████████████████████████████████████████| 1/1 [00:00<00:00, 14.78it/s]\n"
     ]
    },
    {
     "name": "stdout",
     "output_type": "stream",
     "text": [
      "u_index: 11\n"
     ]
    },
    {
     "name": "stderr",
     "output_type": "stream",
     "text": [
      "100%|█████████████████████████████████████████████| 1/1 [00:00<00:00, 12.34it/s]\n"
     ]
    },
    {
     "name": "stdout",
     "output_type": "stream",
     "text": [
      "u_index: 12\n"
     ]
    },
    {
     "name": "stderr",
     "output_type": "stream",
     "text": [
      "100%|█████████████████████████████████████████████| 1/1 [00:00<00:00, 15.10it/s]\n"
     ]
    },
    {
     "name": "stdout",
     "output_type": "stream",
     "text": [
      "u_index: 13\n"
     ]
    },
    {
     "name": "stderr",
     "output_type": "stream",
     "text": [
      "100%|█████████████████████████████████████████████| 1/1 [00:00<00:00, 14.57it/s]\n"
     ]
    },
    {
     "name": "stdout",
     "output_type": "stream",
     "text": [
      "u_index: 14\n"
     ]
    },
    {
     "name": "stderr",
     "output_type": "stream",
     "text": [
      "100%|█████████████████████████████████████████████| 1/1 [00:00<00:00, 13.34it/s]\n"
     ]
    },
    {
     "name": "stdout",
     "output_type": "stream",
     "text": [
      "u_index: 15\n"
     ]
    },
    {
     "name": "stderr",
     "output_type": "stream",
     "text": [
      "100%|█████████████████████████████████████████████| 1/1 [00:00<00:00, 11.34it/s]\n"
     ]
    },
    {
     "name": "stdout",
     "output_type": "stream",
     "text": [
      "u_index: 16\n"
     ]
    },
    {
     "name": "stderr",
     "output_type": "stream",
     "text": [
      "100%|█████████████████████████████████████████████| 1/1 [00:00<00:00, 13.04it/s]\n"
     ]
    },
    {
     "name": "stdout",
     "output_type": "stream",
     "text": [
      "u_index: 17\n"
     ]
    },
    {
     "name": "stderr",
     "output_type": "stream",
     "text": [
      "100%|█████████████████████████████████████████████| 1/1 [00:00<00:00, 17.11it/s]\n"
     ]
    },
    {
     "name": "stdout",
     "output_type": "stream",
     "text": [
      "u_index: 18\n"
     ]
    },
    {
     "name": "stderr",
     "output_type": "stream",
     "text": [
      "100%|█████████████████████████████████████████████| 1/1 [00:00<00:00, 16.24it/s]\n"
     ]
    },
    {
     "name": "stdout",
     "output_type": "stream",
     "text": [
      "u_index: 19\n"
     ]
    },
    {
     "name": "stderr",
     "output_type": "stream",
     "text": [
      "100%|█████████████████████████████████████████████| 1/1 [00:00<00:00, 13.72it/s]\n"
     ]
    },
    {
     "name": "stdout",
     "output_type": "stream",
     "text": [
      "u_index: 20\n"
     ]
    },
    {
     "name": "stderr",
     "output_type": "stream",
     "text": [
      "100%|█████████████████████████████████████████████| 1/1 [00:00<00:00, 16.57it/s]\n"
     ]
    },
    {
     "name": "stdout",
     "output_type": "stream",
     "text": [
      "u_index: 21\n"
     ]
    },
    {
     "name": "stderr",
     "output_type": "stream",
     "text": [
      "100%|█████████████████████████████████████████████| 1/1 [00:00<00:00, 16.26it/s]\n"
     ]
    },
    {
     "name": "stdout",
     "output_type": "stream",
     "text": [
      "u_index: 22\n"
     ]
    },
    {
     "name": "stderr",
     "output_type": "stream",
     "text": [
      "100%|█████████████████████████████████████████████| 1/1 [00:00<00:00, 13.25it/s]\n"
     ]
    },
    {
     "name": "stdout",
     "output_type": "stream",
     "text": [
      "u_index: 23\n"
     ]
    },
    {
     "name": "stderr",
     "output_type": "stream",
     "text": [
      "100%|█████████████████████████████████████████████| 1/1 [00:00<00:00, 15.67it/s]\n"
     ]
    },
    {
     "name": "stdout",
     "output_type": "stream",
     "text": [
      "u_index: 24\n"
     ]
    },
    {
     "name": "stderr",
     "output_type": "stream",
     "text": [
      "100%|█████████████████████████████████████████████| 1/1 [00:00<00:00, 12.47it/s]\n"
     ]
    },
    {
     "name": "stdout",
     "output_type": "stream",
     "text": [
      "u_index: 25\n"
     ]
    },
    {
     "name": "stderr",
     "output_type": "stream",
     "text": [
      "100%|█████████████████████████████████████████████| 1/1 [00:00<00:00, 13.24it/s]\n"
     ]
    },
    {
     "name": "stdout",
     "output_type": "stream",
     "text": [
      "u_index: 26\n"
     ]
    },
    {
     "name": "stderr",
     "output_type": "stream",
     "text": [
      "100%|█████████████████████████████████████████████| 1/1 [00:00<00:00, 11.11it/s]\n"
     ]
    },
    {
     "name": "stdout",
     "output_type": "stream",
     "text": [
      "u_index: 27\n"
     ]
    },
    {
     "name": "stderr",
     "output_type": "stream",
     "text": [
      "100%|█████████████████████████████████████████████| 1/1 [00:00<00:00, 15.31it/s]\n"
     ]
    },
    {
     "name": "stdout",
     "output_type": "stream",
     "text": [
      "u_index: 28\n"
     ]
    },
    {
     "name": "stderr",
     "output_type": "stream",
     "text": [
      "100%|█████████████████████████████████████████████| 1/1 [00:00<00:00, 13.16it/s]\n"
     ]
    },
    {
     "name": "stdout",
     "output_type": "stream",
     "text": [
      "u_index: 29\n"
     ]
    },
    {
     "name": "stderr",
     "output_type": "stream",
     "text": [
      "100%|█████████████████████████████████████████████| 1/1 [00:00<00:00, 16.46it/s]\n"
     ]
    },
    {
     "data": {
      "text/html": [
       "<div>\n",
       "<style scoped>\n",
       "    .dataframe tbody tr th:only-of-type {\n",
       "        vertical-align: middle;\n",
       "    }\n",
       "\n",
       "    .dataframe tbody tr th {\n",
       "        vertical-align: top;\n",
       "    }\n",
       "\n",
       "    .dataframe thead th {\n",
       "        text-align: right;\n",
       "    }\n",
       "</style>\n",
       "<table border=\"1\" class=\"dataframe\">\n",
       "  <thead>\n",
       "    <tr style=\"text-align: right;\">\n",
       "      <th></th>\n",
       "      <th>validity</th>\n",
       "      <th>cat_prox</th>\n",
       "      <th>cont_prox</th>\n",
       "      <th>sparsity</th>\n",
       "      <th>cat_diver</th>\n",
       "      <th>cont_diver</th>\n",
       "      <th>cont_count_divers</th>\n",
       "    </tr>\n",
       "  </thead>\n",
       "  <tbody>\n",
       "    <tr>\n",
       "      <th>mean</th>\n",
       "      <td>1.0</td>\n",
       "      <td>0.84</td>\n",
       "      <td>-54.71</td>\n",
       "      <td>0.72</td>\n",
       "      <td>0.16</td>\n",
       "      <td>36.60</td>\n",
       "      <td>0.32</td>\n",
       "    </tr>\n",
       "    <tr>\n",
       "      <th>std</th>\n",
       "      <td>0.0</td>\n",
       "      <td>0.07</td>\n",
       "      <td>25.03</td>\n",
       "      <td>0.07</td>\n",
       "      <td>0.10</td>\n",
       "      <td>17.75</td>\n",
       "      <td>0.09</td>\n",
       "    </tr>\n",
       "  </tbody>\n",
       "</table>\n",
       "</div>"
      ],
      "text/plain": [
       "      validity  cat_prox  cont_prox  sparsity  cat_diver  cont_diver  \\\n",
       "mean       1.0      0.84     -54.71      0.72       0.16       36.60   \n",
       "std        0.0      0.07      25.03      0.07       0.10       17.75   \n",
       "\n",
       "      cont_count_divers  \n",
       "mean               0.32  \n",
       "std                0.09  "
      ]
     },
     "execution_count": 14,
     "metadata": {},
     "output_type": "execute_result"
    }
   ],
   "source": [
    "## loop over several factual instances\n",
    "CE_perf = pd.DataFrame()\n",
    "\n",
    "eval = pd.DataFrame(columns=['validity', 'cat_prox', 'cont_prox', 'sparsity', 'cat_diver',\n",
    "       'cont_diver', 'cont_count_divers'])\n",
    "\n",
    "if X_test_0.shape[0] < num_iterations:\n",
    "    iters = X_test_0.shape[0]\n",
    "else: iters = num_iterations\n",
    "\n",
    "for u_index in range(iters):\n",
    "    print('u_index: %d' % u_index)\n",
    "    u = pd.DataFrame(X_test_0.iloc[u_index,:]).T\n",
    "\n",
    "    # Actionability\n",
    "    permitted_ranges = {}\n",
    "    permitted_ranges = {\n",
    "      'age': [u['age'], df['age'].max()], # age should only increase\n",
    "      'education': education[education.index(u['education'].item()):]\n",
    "      }\n",
    "\n",
    "    F_b = df.columns.difference(numerical + [target])\n",
    "    feature_ranges = ce_helpers.get_features_range(df, numerical, F_b, permitted_ranges)[0]\n",
    "\n",
    "    features = list(feature_ranges.keys())\n",
    "    features_to_vary = [ele for ele in features if ele not in I] \n",
    "\n",
    "    # generate counterfactuals\n",
    "    e1 = exp.generate_counterfactuals(u, total_CFs=3, desired_class=\"opposite\", random_seed=0, \n",
    "                                    features_to_vary = features_to_vary, permitted_range = feature_ranges)\n",
    "\n",
    "    # extract counterfactuals as data frame\n",
    "    CFs = e1.cf_examples_list[0].final_cfs_df.iloc[:,:-1]\n",
    "    CFs = CFs.reset_index(drop=True)\n",
    "\n",
    "    number_of_solutions = len(CFs.index)\n",
    "\n",
    "    CEs = pd.concat([u, CFs])\n",
    "    ix_names = ['original']+['sol'+str(i) for i in range(number_of_solutions)]\n",
    "    CEs = CEs.set_index(pd.Index(ix_names))\n",
    "\n",
    "    CE_perf1 = ce_helpers.evaluation(model, CEs, numerical, categorical, rounding = True)\n",
    "    CE_perf = CE_perf.append(CE_perf1)\n",
    "\n",
    "eval.loc['mean'] = np.array(CE_perf.mean())\n",
    "eval.loc['std'] = np.array(CE_perf.std())\n",
    "eval.round(2)"
   ]
  },
  {
   "cell_type": "markdown",
   "id": "08zzQUYd_TlG",
   "metadata": {
    "id": "08zzQUYd_TlG"
   },
   "source": [
    "# DIABETES"
   ]
  },
  {
   "cell_type": "markdown",
   "id": "BO-9X1IM_VOW",
   "metadata": {
    "id": "BO-9X1IM_VOW"
   },
   "source": [
    "## data & model prep"
   ]
  },
  {
   "cell_type": "markdown",
   "id": "6892a126",
   "metadata": {},
   "source": [
    "The (preprocessed) data can be downloaded from: https://www.kaggle.com/datasets/uciml/pima-indians-diabetes-database"
   ]
  },
  {
   "cell_type": "code",
   "execution_count": 15,
   "id": "PB3fWRft_7jf",
   "metadata": {
    "executionInfo": {
     "elapsed": 741,
     "status": "ok",
     "timestamp": 1652388558644,
     "user": {
      "displayName": "Tabea röber",
      "userId": "08695671206063888221"
     },
     "user_tz": -120
    },
    "id": "PB3fWRft_7jf"
   },
   "outputs": [],
   "source": [
    "### reading in data\n",
    "dataset_name = 'diabetes'\n",
    "df = pd.read_csv('./data/diabetes.csv')\n",
    "df.head()\n",
    "\n",
    "target = 'Outcome'\n",
    "\n",
    "X = df.drop(target, axis=1)\n",
    "y = df[target]\n",
    "\n",
    "x_train_dice, x_test_dice, y_train_dice, y_test_dice = train_test_split(X,\n",
    "                                                    y,\n",
    "                                                    test_size=0.2,\n",
    "                                                    random_state=0,\n",
    "                                                    stratify=y)\n",
    "\n",
    "train_dataset = pd.merge(pd.DataFrame(x_train_dice),pd.DataFrame(y_train_dice), left_index=True, right_index=True)\n",
    "\n",
    "numerical = list(X.columns)\n",
    "categorical = x_train_dice.columns.difference(numerical)"
   ]
  },
  {
   "cell_type": "code",
   "execution_count": 16,
   "id": "I87QCGkDADdI",
   "metadata": {
    "executionInfo": {
     "elapsed": 14,
     "status": "ok",
     "timestamp": 1652388558645,
     "user": {
      "displayName": "Tabea röber",
      "userId": "08695671206063888221"
     },
     "user_tz": -120
    },
    "id": "I87QCGkDADdI"
   },
   "outputs": [],
   "source": [
    "categorical_transformer = Pipeline(steps=[\n",
    "    ('onehot', OneHotEncoder(handle_unknown='ignore'))])\n",
    "\n",
    "transformations = ColumnTransformer(\n",
    "    transformers=[\n",
    "        ('cat', OneHotEncoder(handle_unknown='ignore'), categorical),\n",
    "        ('num', MinMaxScaler(), numerical)])\n",
    "\n",
    "# Append classifier to preprocessing pipeline.\n",
    "# Now we have a full prediction pipeline.\n",
    "clf_dice = Pipeline(steps=[('preprocessor', transformations),\n",
    "                      ('classifier', LinearSVC(random_state=0, max_iter = 1e5, dual=False, penalty = 'l2', C=100))])"
   ]
  },
  {
   "cell_type": "code",
   "execution_count": 17,
   "id": "P1LhFSR6AFXd",
   "metadata": {
    "executionInfo": {
     "elapsed": 12,
     "status": "ok",
     "timestamp": 1652388558645,
     "user": {
      "displayName": "Tabea röber",
      "userId": "08695671206063888221"
     },
     "user_tz": -120
    },
    "id": "P1LhFSR6AFXd"
   },
   "outputs": [],
   "source": [
    "model = clf_dice.fit(x_train_dice, y_train_dice)"
   ]
  },
  {
   "cell_type": "code",
   "execution_count": 18,
   "id": "3kD6OXtkAHGg",
   "metadata": {
    "executionInfo": {
     "elapsed": 11,
     "status": "ok",
     "timestamp": 1652388558645,
     "user": {
      "displayName": "Tabea röber",
      "userId": "08695671206063888221"
     },
     "user_tz": -120
    },
    "id": "3kD6OXtkAHGg"
   },
   "outputs": [],
   "source": [
    "y_pred = model.predict(x_test_dice)\n",
    "y_pred_0 = np.where(y_pred==0)\n",
    "X_test_0 = x_test_dice.iloc[y_pred_0[0],:].copy()"
   ]
  },
  {
   "cell_type": "markdown",
   "id": "WOSbPEI4_XNF",
   "metadata": {
    "id": "WOSbPEI4_XNF"
   },
   "source": [
    "## run DiCE"
   ]
  },
  {
   "cell_type": "code",
   "execution_count": 19,
   "id": "vL7pvUru_662",
   "metadata": {
    "executionInfo": {
     "elapsed": 11,
     "status": "ok",
     "timestamp": 1652388558646,
     "user": {
      "displayName": "Tabea röber",
      "userId": "08695671206063888221"
     },
     "user_tz": -120
    },
    "id": "vL7pvUru_662"
   },
   "outputs": [],
   "source": [
    "# Step 1: dice_ml.Data\n",
    "d = dice_ml.Data(dataframe=train_dataset, continuous_features=numerical, outcome_name=target)\n",
    "\n",
    "# Step 2: dice_ml.Model\n",
    "m = dice_ml.Model(model=model, backend=\"sklearn\")\n",
    "\n",
    "# Step 3: dice_ml.Dice\n",
    "exp = dice_ml.Dice(d, m, method=\"random\")\n",
    "\n",
    "# Actionability \n",
    "# immutable features\n",
    "I = []"
   ]
  },
  {
   "cell_type": "code",
   "execution_count": 20,
   "id": "OTByOYTMAXIn",
   "metadata": {
    "colab": {
     "base_uri": "https://localhost:8080/",
     "height": 408
    },
    "executionInfo": {
     "elapsed": 1883,
     "status": "ok",
     "timestamp": 1652388560519,
     "user": {
      "displayName": "Tabea röber",
      "userId": "08695671206063888221"
     },
     "user_tz": -120
    },
    "id": "OTByOYTMAXIn",
    "outputId": "6bf3f536-09d6-4667-9882-5fd04f4568bb"
   },
   "outputs": [
    {
     "name": "stdout",
     "output_type": "stream",
     "text": [
      "u_index: 0\n"
     ]
    },
    {
     "name": "stderr",
     "output_type": "stream",
     "text": [
      "100%|█████████████████████████████████████████████| 1/1 [00:00<00:00, 14.79it/s]\n"
     ]
    },
    {
     "name": "stdout",
     "output_type": "stream",
     "text": [
      "u_index: 1\n"
     ]
    },
    {
     "name": "stderr",
     "output_type": "stream",
     "text": [
      "100%|█████████████████████████████████████████████| 1/1 [00:00<00:00, 15.09it/s]\n"
     ]
    },
    {
     "name": "stdout",
     "output_type": "stream",
     "text": [
      "u_index: 2\n"
     ]
    },
    {
     "name": "stderr",
     "output_type": "stream",
     "text": [
      "100%|█████████████████████████████████████████████| 1/1 [00:00<00:00, 15.18it/s]\n"
     ]
    },
    {
     "name": "stdout",
     "output_type": "stream",
     "text": [
      "u_index: 3\n"
     ]
    },
    {
     "name": "stderr",
     "output_type": "stream",
     "text": [
      "100%|█████████████████████████████████████████████| 1/1 [00:00<00:00, 16.07it/s]\n"
     ]
    },
    {
     "name": "stdout",
     "output_type": "stream",
     "text": [
      "u_index: 4\n"
     ]
    },
    {
     "name": "stderr",
     "output_type": "stream",
     "text": [
      "100%|█████████████████████████████████████████████| 1/1 [00:00<00:00, 17.69it/s]\n"
     ]
    },
    {
     "name": "stdout",
     "output_type": "stream",
     "text": [
      "u_index: 5\n"
     ]
    },
    {
     "name": "stderr",
     "output_type": "stream",
     "text": [
      "100%|█████████████████████████████████████████████| 1/1 [00:00<00:00, 14.01it/s]\n"
     ]
    },
    {
     "name": "stdout",
     "output_type": "stream",
     "text": [
      "u_index: 6\n"
     ]
    },
    {
     "name": "stderr",
     "output_type": "stream",
     "text": [
      "100%|█████████████████████████████████████████████| 1/1 [00:00<00:00, 16.40it/s]\n"
     ]
    },
    {
     "name": "stdout",
     "output_type": "stream",
     "text": [
      "u_index: 7\n"
     ]
    },
    {
     "name": "stderr",
     "output_type": "stream",
     "text": [
      "100%|█████████████████████████████████████████████| 1/1 [00:00<00:00, 10.40it/s]\n"
     ]
    },
    {
     "name": "stdout",
     "output_type": "stream",
     "text": [
      "u_index: 8\n"
     ]
    },
    {
     "name": "stderr",
     "output_type": "stream",
     "text": [
      "100%|█████████████████████████████████████████████| 1/1 [00:00<00:00, 10.56it/s]\n"
     ]
    },
    {
     "name": "stdout",
     "output_type": "stream",
     "text": [
      "u_index: 9\n"
     ]
    },
    {
     "name": "stderr",
     "output_type": "stream",
     "text": [
      "100%|█████████████████████████████████████████████| 1/1 [00:00<00:00, 16.51it/s]\n"
     ]
    },
    {
     "name": "stdout",
     "output_type": "stream",
     "text": [
      "u_index: 10\n"
     ]
    },
    {
     "name": "stderr",
     "output_type": "stream",
     "text": [
      "100%|█████████████████████████████████████████████| 1/1 [00:00<00:00, 14.92it/s]\n"
     ]
    },
    {
     "name": "stdout",
     "output_type": "stream",
     "text": [
      "u_index: 11\n"
     ]
    },
    {
     "name": "stderr",
     "output_type": "stream",
     "text": [
      "100%|█████████████████████████████████████████████| 1/1 [00:00<00:00, 14.20it/s]\n"
     ]
    },
    {
     "name": "stdout",
     "output_type": "stream",
     "text": [
      "u_index: 12\n"
     ]
    },
    {
     "name": "stderr",
     "output_type": "stream",
     "text": [
      "100%|█████████████████████████████████████████████| 1/1 [00:00<00:00, 10.51it/s]\n"
     ]
    },
    {
     "name": "stdout",
     "output_type": "stream",
     "text": [
      "u_index: 13\n"
     ]
    },
    {
     "name": "stderr",
     "output_type": "stream",
     "text": [
      "100%|█████████████████████████████████████████████| 1/1 [00:00<00:00, 13.49it/s]\n"
     ]
    },
    {
     "name": "stdout",
     "output_type": "stream",
     "text": [
      "u_index: 14\n"
     ]
    },
    {
     "name": "stderr",
     "output_type": "stream",
     "text": [
      "100%|█████████████████████████████████████████████| 1/1 [00:00<00:00, 14.72it/s]\n"
     ]
    },
    {
     "name": "stdout",
     "output_type": "stream",
     "text": [
      "u_index: 15\n"
     ]
    },
    {
     "name": "stderr",
     "output_type": "stream",
     "text": [
      "100%|█████████████████████████████████████████████| 1/1 [00:00<00:00, 13.55it/s]\n"
     ]
    },
    {
     "name": "stdout",
     "output_type": "stream",
     "text": [
      "u_index: 16\n"
     ]
    },
    {
     "name": "stderr",
     "output_type": "stream",
     "text": [
      "100%|█████████████████████████████████████████████| 1/1 [00:00<00:00, 10.84it/s]\n"
     ]
    },
    {
     "name": "stdout",
     "output_type": "stream",
     "text": [
      "u_index: 17\n"
     ]
    },
    {
     "name": "stderr",
     "output_type": "stream",
     "text": [
      "100%|█████████████████████████████████████████████| 1/1 [00:00<00:00, 17.35it/s]\n"
     ]
    },
    {
     "name": "stdout",
     "output_type": "stream",
     "text": [
      "u_index: 18\n"
     ]
    },
    {
     "name": "stderr",
     "output_type": "stream",
     "text": [
      "100%|█████████████████████████████████████████████| 1/1 [00:00<00:00, 15.36it/s]\n"
     ]
    },
    {
     "name": "stdout",
     "output_type": "stream",
     "text": [
      "u_index: 19\n"
     ]
    },
    {
     "name": "stderr",
     "output_type": "stream",
     "text": [
      "100%|█████████████████████████████████████████████| 1/1 [00:00<00:00, 13.68it/s]\n"
     ]
    },
    {
     "name": "stdout",
     "output_type": "stream",
     "text": [
      "u_index: 20\n"
     ]
    },
    {
     "name": "stderr",
     "output_type": "stream",
     "text": [
      "100%|█████████████████████████████████████████████| 1/1 [00:00<00:00, 17.43it/s]\n"
     ]
    },
    {
     "name": "stdout",
     "output_type": "stream",
     "text": [
      "u_index: 21\n"
     ]
    },
    {
     "name": "stderr",
     "output_type": "stream",
     "text": [
      "100%|█████████████████████████████████████████████| 1/1 [00:00<00:00, 11.72it/s]\n"
     ]
    },
    {
     "name": "stdout",
     "output_type": "stream",
     "text": [
      "u_index: 22\n"
     ]
    },
    {
     "name": "stderr",
     "output_type": "stream",
     "text": [
      "100%|█████████████████████████████████████████████| 1/1 [00:00<00:00, 11.19it/s]\n"
     ]
    },
    {
     "name": "stdout",
     "output_type": "stream",
     "text": [
      "u_index: 23\n"
     ]
    },
    {
     "name": "stderr",
     "output_type": "stream",
     "text": [
      "100%|█████████████████████████████████████████████| 1/1 [00:00<00:00, 12.94it/s]\n"
     ]
    },
    {
     "name": "stdout",
     "output_type": "stream",
     "text": [
      "u_index: 24\n"
     ]
    },
    {
     "name": "stderr",
     "output_type": "stream",
     "text": [
      "100%|█████████████████████████████████████████████| 1/1 [00:00<00:00, 16.50it/s]\n"
     ]
    },
    {
     "name": "stdout",
     "output_type": "stream",
     "text": [
      "u_index: 25\n"
     ]
    },
    {
     "name": "stderr",
     "output_type": "stream",
     "text": [
      "100%|█████████████████████████████████████████████| 1/1 [00:00<00:00, 16.26it/s]\n"
     ]
    },
    {
     "name": "stdout",
     "output_type": "stream",
     "text": [
      "u_index: 26\n"
     ]
    },
    {
     "name": "stderr",
     "output_type": "stream",
     "text": [
      "100%|█████████████████████████████████████████████| 1/1 [00:00<00:00, 14.47it/s]\n"
     ]
    },
    {
     "name": "stdout",
     "output_type": "stream",
     "text": [
      "u_index: 27\n"
     ]
    },
    {
     "name": "stderr",
     "output_type": "stream",
     "text": [
      "100%|█████████████████████████████████████████████| 1/1 [00:00<00:00, 14.66it/s]\n"
     ]
    },
    {
     "name": "stdout",
     "output_type": "stream",
     "text": [
      "u_index: 28\n"
     ]
    },
    {
     "name": "stderr",
     "output_type": "stream",
     "text": [
      "100%|█████████████████████████████████████████████| 1/1 [00:00<00:00,  7.77it/s]\n"
     ]
    },
    {
     "name": "stdout",
     "output_type": "stream",
     "text": [
      "u_index: 29\n"
     ]
    },
    {
     "name": "stderr",
     "output_type": "stream",
     "text": [
      "100%|█████████████████████████████████████████████| 1/1 [00:00<00:00, 13.27it/s]\n"
     ]
    },
    {
     "data": {
      "text/html": [
       "<div>\n",
       "<style scoped>\n",
       "    .dataframe tbody tr th:only-of-type {\n",
       "        vertical-align: middle;\n",
       "    }\n",
       "\n",
       "    .dataframe tbody tr th {\n",
       "        vertical-align: top;\n",
       "    }\n",
       "\n",
       "    .dataframe thead th {\n",
       "        text-align: right;\n",
       "    }\n",
       "</style>\n",
       "<table border=\"1\" class=\"dataframe\">\n",
       "  <thead>\n",
       "    <tr style=\"text-align: right;\">\n",
       "      <th></th>\n",
       "      <th>validity</th>\n",
       "      <th>cat_prox</th>\n",
       "      <th>cont_prox</th>\n",
       "      <th>sparsity</th>\n",
       "      <th>cat_diver</th>\n",
       "      <th>cont_diver</th>\n",
       "      <th>cont_count_divers</th>\n",
       "    </tr>\n",
       "  </thead>\n",
       "  <tbody>\n",
       "    <tr>\n",
       "      <th>mean</th>\n",
       "      <td>1.0</td>\n",
       "      <td>NaN</td>\n",
       "      <td>-64.12</td>\n",
       "      <td>0.78</td>\n",
       "      <td>NaN</td>\n",
       "      <td>93.60</td>\n",
       "      <td>0.36</td>\n",
       "    </tr>\n",
       "    <tr>\n",
       "      <th>std</th>\n",
       "      <td>0.0</td>\n",
       "      <td>NaN</td>\n",
       "      <td>40.12</td>\n",
       "      <td>0.03</td>\n",
       "      <td>NaN</td>\n",
       "      <td>68.42</td>\n",
       "      <td>0.06</td>\n",
       "    </tr>\n",
       "  </tbody>\n",
       "</table>\n",
       "</div>"
      ],
      "text/plain": [
       "      validity  cat_prox  cont_prox  sparsity  cat_diver  cont_diver  \\\n",
       "mean       1.0       NaN     -64.12      0.78        NaN       93.60   \n",
       "std        0.0       NaN      40.12      0.03        NaN       68.42   \n",
       "\n",
       "      cont_count_divers  \n",
       "mean               0.36  \n",
       "std                0.06  "
      ]
     },
     "execution_count": 20,
     "metadata": {},
     "output_type": "execute_result"
    }
   ],
   "source": [
    "## loop over several factual instances\n",
    "CE_perf = pd.DataFrame()\n",
    "\n",
    "eval = pd.DataFrame(columns=['validity', 'cat_prox', 'cont_prox', 'sparsity', 'cat_diver',\n",
    "       'cont_diver', 'cont_count_divers'])\n",
    "\n",
    "if X_test_0.shape[0] < num_iterations:\n",
    "    iters = X_test_0.shape[0]\n",
    "else: iters = num_iterations\n",
    "\n",
    "for u_index in range(iters):\n",
    "    print('u_index: %d' % u_index)\n",
    "    u = pd.DataFrame(X_test_0.iloc[u_index,:]).T\n",
    "\n",
    "    # Actionability\n",
    "    permitted_ranges = {}\n",
    "\n",
    "    permitted_ranges = {\n",
    "      'Age': [u['Age'], df['Age'].max()], # age should only increase\n",
    "      'Pregnancies': [u['Pregnancies'], df['Pregnancies'].max()]\n",
    "      }\n",
    "\n",
    "\n",
    "    F_b = df.columns.difference(numerical + [target])\n",
    "    feature_ranges = ce_helpers.get_features_range(df, numerical, F_b, permitted_ranges)[0]\n",
    "\n",
    "    features = list(feature_ranges.keys())\n",
    "    features_to_vary = [ele for ele in features if ele not in I] \n",
    "\n",
    "    # generate counterfactuals\n",
    "    e1 = exp.generate_counterfactuals(u, total_CFs=3, desired_class=\"opposite\", random_seed=0, \n",
    "                                    features_to_vary = features_to_vary, permitted_range = feature_ranges)\n",
    "\n",
    "    # extract counterfactuals as data frame\n",
    "    CFs = e1.cf_examples_list[0].final_cfs_df.iloc[:,:-1]\n",
    "    CFs = CFs.reset_index(drop=True)\n",
    "\n",
    "    number_of_solutions = len(CFs.index)\n",
    "\n",
    "    CEs = pd.concat([u, CFs])\n",
    "    ix_names = ['original']+['sol'+str(i) for i in range(number_of_solutions)]\n",
    "    CEs = CEs.set_index(pd.Index(ix_names))\n",
    "\n",
    "    CE_perf1 = ce_helpers.evaluation(model, CEs, numerical, categorical, rounding = True)\n",
    "    CE_perf = CE_perf.append(CE_perf1)\n",
    "\n",
    "eval.loc['mean'] = np.array(CE_perf.mean())\n",
    "eval.loc['std'] = np.array(CE_perf.std())\n",
    "eval.round(2)"
   ]
  },
  {
   "cell_type": "markdown",
   "id": "GqRVIMJA_Yok",
   "metadata": {
    "id": "GqRVIMJA_Yok"
   },
   "source": [
    "# HEART"
   ]
  },
  {
   "cell_type": "markdown",
   "id": "6jyl8CxG_aHC",
   "metadata": {
    "id": "6jyl8CxG_aHC"
   },
   "source": [
    "## data & model prep"
   ]
  },
  {
   "cell_type": "markdown",
   "id": "755445f7",
   "metadata": {},
   "source": [
    "The (preprocessed) data can be downloaded from: https://www.kaggle.com/datasets/shubamsumbria/statlog-heart-data-set"
   ]
  },
  {
   "cell_type": "code",
   "execution_count": 21,
   "id": "JpYu3JykAuit",
   "metadata": {
    "executionInfo": {
     "elapsed": 414,
     "status": "ok",
     "timestamp": 1652388620166,
     "user": {
      "displayName": "Tabea röber",
      "userId": "08695671206063888221"
     },
     "user_tz": -120
    },
    "id": "JpYu3JykAuit"
   },
   "outputs": [],
   "source": [
    "### reading in data\n",
    "dataset_name = 'heart'\n",
    "df = pd.read_csv('./data/statlog.csv')\n",
    "recode = {\"presence\": {1: 0, 2:1},\n",
    "          'cp':{1:'typical angina', 2:'atypical angina', 3:'nonanginal pain', 4:'asymptomatic'},\n",
    "          'sex':{0:'female', 1:'male'},\n",
    "          'fbs':{0:'false',1:'true'},\n",
    "          'restecg':{0:'normal', 1:'having ST-T wave abnormality',2:'left ventricular hypertrophy'},\n",
    "          'exang':{0:'no', 1:'yes'},\n",
    "          'slope':{1:'upsloping', 2:'flat', 3:'downsloping'},\n",
    "          'thal':{3:'normal', 6:'fixed defect', 7:'reversible defect'},\n",
    "          'ca':{0:'0',1:'1', 2:'2',3:'3'}}\n",
    "df = df.replace(recode)\n",
    "df.head()\n",
    "\n",
    "target = 'presence'\n",
    "\n",
    "X = df.drop(target, axis=1)\n",
    "y = df[target]\n",
    "\n",
    "x_train_dice, x_test_dice, y_train_dice, y_test_dice = train_test_split(X,\n",
    "                                                    y,\n",
    "                                                    test_size=0.2,\n",
    "                                                    random_state=0,\n",
    "                                                    stratify=y)\n",
    "\n",
    "train_dataset = pd.merge(pd.DataFrame(x_train_dice),pd.DataFrame(y_train_dice), left_index=True, right_index=True)\n",
    "\n",
    "numerical = ['age','trestbps','chol', 'thalach', 'oldpeak']\n",
    "categorical = x_train_dice.columns.difference(numerical)"
   ]
  },
  {
   "cell_type": "code",
   "execution_count": 22,
   "id": "rW6obYgTA0Hk",
   "metadata": {
    "executionInfo": {
     "elapsed": 15,
     "status": "ok",
     "timestamp": 1652388620586,
     "user": {
      "displayName": "Tabea röber",
      "userId": "08695671206063888221"
     },
     "user_tz": -120
    },
    "id": "rW6obYgTA0Hk"
   },
   "outputs": [],
   "source": [
    "categorical_transformer = Pipeline(steps=[\n",
    "    ('onehot', OneHotEncoder(handle_unknown='ignore'))])\n",
    "\n",
    "transformations = ColumnTransformer(\n",
    "    transformers=[\n",
    "        ('cat', OneHotEncoder(handle_unknown='ignore'), categorical),\n",
    "        ('num', MinMaxScaler(), numerical)])\n",
    "\n",
    "# Append classifier to preprocessing pipeline.\n",
    "# Now we have a full prediction pipeline.\n",
    "clf_dice = Pipeline(steps=[('preprocessor', transformations),\n",
    "                      ('classifier', LinearSVC(random_state=0, max_iter = 1e5, dual=False, penalty = 'l2', C=0.1))])"
   ]
  },
  {
   "cell_type": "code",
   "execution_count": 23,
   "id": "L3Aqe2QxA2d3",
   "metadata": {
    "colab": {
     "base_uri": "https://localhost:8080/"
    },
    "executionInfo": {
     "elapsed": 13,
     "status": "ok",
     "timestamp": 1652388620587,
     "user": {
      "displayName": "Tabea röber",
      "userId": "08695671206063888221"
     },
     "user_tz": -120
    },
    "id": "L3Aqe2QxA2d3",
    "outputId": "7e0b7115-c14d-4ce7-f5da-37b8ce1f0c87"
   },
   "outputs": [],
   "source": [
    "model = clf_dice.fit(x_train_dice, y_train_dice)"
   ]
  },
  {
   "cell_type": "code",
   "execution_count": 24,
   "id": "mybyRbLEA4Dl",
   "metadata": {
    "executionInfo": {
     "elapsed": 11,
     "status": "ok",
     "timestamp": 1652388620587,
     "user": {
      "displayName": "Tabea röber",
      "userId": "08695671206063888221"
     },
     "user_tz": -120
    },
    "id": "mybyRbLEA4Dl"
   },
   "outputs": [],
   "source": [
    "y_pred = model.predict(x_test_dice)\n",
    "y_pred_0 = np.where(y_pred==0)\n",
    "X_test_0 = x_test_dice.iloc[y_pred_0[0],:].copy()"
   ]
  },
  {
   "cell_type": "markdown",
   "id": "hueZ2bND_bz-",
   "metadata": {
    "id": "hueZ2bND_bz-"
   },
   "source": [
    "## run DiCE"
   ]
  },
  {
   "cell_type": "code",
   "execution_count": 25,
   "id": "EZlo5gPWA0-K",
   "metadata": {
    "executionInfo": {
     "elapsed": 10,
     "status": "ok",
     "timestamp": 1652388620587,
     "user": {
      "displayName": "Tabea röber",
      "userId": "08695671206063888221"
     },
     "user_tz": -120
    },
    "id": "EZlo5gPWA0-K"
   },
   "outputs": [],
   "source": [
    "# Step 1: dice_ml.Data\n",
    "d = dice_ml.Data(dataframe=train_dataset, continuous_features=numerical, outcome_name=target)\n",
    "\n",
    "# Step 2: dice_ml.Model\n",
    "m = dice_ml.Model(model=model, backend=\"sklearn\")\n",
    "\n",
    "# Step 3: dice_ml.Dice\n",
    "exp = dice_ml.Dice(d, m, method=\"random\")\n",
    "\n",
    "# Actionability \n",
    "# immutable features\n",
    "I = ['sex']"
   ]
  },
  {
   "cell_type": "code",
   "execution_count": 26,
   "id": "LP4mgOueA6Dz",
   "metadata": {
    "colab": {
     "base_uri": "https://localhost:8080/",
     "height": 408
    },
    "executionInfo": {
     "elapsed": 2575,
     "status": "ok",
     "timestamp": 1652388623153,
     "user": {
      "displayName": "Tabea röber",
      "userId": "08695671206063888221"
     },
     "user_tz": -120
    },
    "id": "LP4mgOueA6Dz",
    "outputId": "eca112a6-6595-41ee-e584-68eee956550a"
   },
   "outputs": [
    {
     "name": "stdout",
     "output_type": "stream",
     "text": [
      "u_index: 0\n"
     ]
    },
    {
     "name": "stderr",
     "output_type": "stream",
     "text": [
      "100%|█████████████████████████████████████████████| 1/1 [00:00<00:00,  5.02it/s]\n"
     ]
    },
    {
     "name": "stdout",
     "output_type": "stream",
     "text": [
      "u_index: 1\n"
     ]
    },
    {
     "name": "stderr",
     "output_type": "stream",
     "text": [
      "100%|█████████████████████████████████████████████| 1/1 [00:00<00:00, 12.52it/s]\n"
     ]
    },
    {
     "name": "stdout",
     "output_type": "stream",
     "text": [
      "u_index: 2\n"
     ]
    },
    {
     "name": "stderr",
     "output_type": "stream",
     "text": [
      "100%|█████████████████████████████████████████████| 1/1 [00:00<00:00,  8.70it/s]\n"
     ]
    },
    {
     "name": "stdout",
     "output_type": "stream",
     "text": [
      "u_index: 3\n"
     ]
    },
    {
     "name": "stderr",
     "output_type": "stream",
     "text": [
      "100%|█████████████████████████████████████████████| 1/1 [00:00<00:00, 12.62it/s]\n"
     ]
    },
    {
     "name": "stdout",
     "output_type": "stream",
     "text": [
      "u_index: 4\n"
     ]
    },
    {
     "name": "stderr",
     "output_type": "stream",
     "text": [
      "100%|█████████████████████████████████████████████| 1/1 [00:00<00:00, 10.68it/s]\n"
     ]
    },
    {
     "name": "stdout",
     "output_type": "stream",
     "text": [
      "u_index: 5\n"
     ]
    },
    {
     "name": "stderr",
     "output_type": "stream",
     "text": [
      "100%|█████████████████████████████████████████████| 1/1 [00:00<00:00, 10.77it/s]\n"
     ]
    },
    {
     "name": "stdout",
     "output_type": "stream",
     "text": [
      "u_index: 6\n"
     ]
    },
    {
     "name": "stderr",
     "output_type": "stream",
     "text": [
      "100%|█████████████████████████████████████████████| 1/1 [00:00<00:00, 11.99it/s]\n"
     ]
    },
    {
     "name": "stdout",
     "output_type": "stream",
     "text": [
      "u_index: 7\n"
     ]
    },
    {
     "name": "stderr",
     "output_type": "stream",
     "text": [
      "100%|█████████████████████████████████████████████| 1/1 [00:00<00:00, 10.37it/s]\n"
     ]
    },
    {
     "name": "stdout",
     "output_type": "stream",
     "text": [
      "u_index: 8\n"
     ]
    },
    {
     "name": "stderr",
     "output_type": "stream",
     "text": [
      "100%|█████████████████████████████████████████████| 1/1 [00:00<00:00, 10.03it/s]\n"
     ]
    },
    {
     "name": "stdout",
     "output_type": "stream",
     "text": [
      "u_index: 9\n"
     ]
    },
    {
     "name": "stderr",
     "output_type": "stream",
     "text": [
      "100%|█████████████████████████████████████████████| 1/1 [00:00<00:00, 10.82it/s]\n"
     ]
    },
    {
     "name": "stdout",
     "output_type": "stream",
     "text": [
      "u_index: 10\n"
     ]
    },
    {
     "name": "stderr",
     "output_type": "stream",
     "text": [
      "100%|█████████████████████████████████████████████| 1/1 [00:00<00:00, 11.56it/s]\n"
     ]
    },
    {
     "name": "stdout",
     "output_type": "stream",
     "text": [
      "u_index: 11\n"
     ]
    },
    {
     "name": "stderr",
     "output_type": "stream",
     "text": [
      "100%|█████████████████████████████████████████████| 1/1 [00:00<00:00,  9.73it/s]\n"
     ]
    },
    {
     "name": "stdout",
     "output_type": "stream",
     "text": [
      "u_index: 12\n"
     ]
    },
    {
     "name": "stderr",
     "output_type": "stream",
     "text": [
      "100%|█████████████████████████████████████████████| 1/1 [00:00<00:00,  9.02it/s]\n"
     ]
    },
    {
     "name": "stdout",
     "output_type": "stream",
     "text": [
      "u_index: 13\n"
     ]
    },
    {
     "name": "stderr",
     "output_type": "stream",
     "text": [
      "100%|█████████████████████████████████████████████| 1/1 [00:00<00:00, 12.18it/s]\n"
     ]
    },
    {
     "name": "stdout",
     "output_type": "stream",
     "text": [
      "u_index: 14\n"
     ]
    },
    {
     "name": "stderr",
     "output_type": "stream",
     "text": [
      "100%|█████████████████████████████████████████████| 1/1 [00:00<00:00,  9.09it/s]\n"
     ]
    },
    {
     "name": "stdout",
     "output_type": "stream",
     "text": [
      "u_index: 15\n"
     ]
    },
    {
     "name": "stderr",
     "output_type": "stream",
     "text": [
      "100%|█████████████████████████████████████████████| 1/1 [00:00<00:00, 10.99it/s]\n"
     ]
    },
    {
     "name": "stdout",
     "output_type": "stream",
     "text": [
      "u_index: 16\n"
     ]
    },
    {
     "name": "stderr",
     "output_type": "stream",
     "text": [
      "100%|█████████████████████████████████████████████| 1/1 [00:00<00:00, 12.19it/s]\n"
     ]
    },
    {
     "name": "stdout",
     "output_type": "stream",
     "text": [
      "u_index: 17\n"
     ]
    },
    {
     "name": "stderr",
     "output_type": "stream",
     "text": [
      "100%|█████████████████████████████████████████████| 1/1 [00:00<00:00, 12.45it/s]\n"
     ]
    },
    {
     "name": "stdout",
     "output_type": "stream",
     "text": [
      "u_index: 18\n"
     ]
    },
    {
     "name": "stderr",
     "output_type": "stream",
     "text": [
      "100%|█████████████████████████████████████████████| 1/1 [00:00<00:00, 10.49it/s]\n"
     ]
    },
    {
     "name": "stdout",
     "output_type": "stream",
     "text": [
      "u_index: 19\n"
     ]
    },
    {
     "name": "stderr",
     "output_type": "stream",
     "text": [
      "100%|█████████████████████████████████████████████| 1/1 [00:00<00:00, 10.24it/s]\n"
     ]
    },
    {
     "name": "stdout",
     "output_type": "stream",
     "text": [
      "u_index: 20\n"
     ]
    },
    {
     "name": "stderr",
     "output_type": "stream",
     "text": [
      "100%|█████████████████████████████████████████████| 1/1 [00:00<00:00, 12.46it/s]\n"
     ]
    },
    {
     "name": "stdout",
     "output_type": "stream",
     "text": [
      "u_index: 21\n"
     ]
    },
    {
     "name": "stderr",
     "output_type": "stream",
     "text": [
      "100%|█████████████████████████████████████████████| 1/1 [00:00<00:00, 12.27it/s]\n"
     ]
    },
    {
     "name": "stdout",
     "output_type": "stream",
     "text": [
      "u_index: 22\n"
     ]
    },
    {
     "name": "stderr",
     "output_type": "stream",
     "text": [
      "100%|█████████████████████████████████████████████| 1/1 [00:00<00:00, 12.58it/s]\n"
     ]
    },
    {
     "name": "stdout",
     "output_type": "stream",
     "text": [
      "u_index: 23\n"
     ]
    },
    {
     "name": "stderr",
     "output_type": "stream",
     "text": [
      "100%|█████████████████████████████████████████████| 1/1 [00:00<00:00, 10.80it/s]\n"
     ]
    },
    {
     "name": "stdout",
     "output_type": "stream",
     "text": [
      "u_index: 24\n"
     ]
    },
    {
     "name": "stderr",
     "output_type": "stream",
     "text": [
      "100%|█████████████████████████████████████████████| 1/1 [00:00<00:00, 11.50it/s]\n"
     ]
    },
    {
     "name": "stdout",
     "output_type": "stream",
     "text": [
      "u_index: 25\n"
     ]
    },
    {
     "name": "stderr",
     "output_type": "stream",
     "text": [
      "100%|█████████████████████████████████████████████| 1/1 [00:00<00:00, 11.87it/s]\n"
     ]
    },
    {
     "name": "stdout",
     "output_type": "stream",
     "text": [
      "u_index: 26\n"
     ]
    },
    {
     "name": "stderr",
     "output_type": "stream",
     "text": [
      "100%|█████████████████████████████████████████████| 1/1 [00:00<00:00, 11.33it/s]\n"
     ]
    },
    {
     "name": "stdout",
     "output_type": "stream",
     "text": [
      "u_index: 27\n"
     ]
    },
    {
     "name": "stderr",
     "output_type": "stream",
     "text": [
      "100%|█████████████████████████████████████████████| 1/1 [00:00<00:00,  6.63it/s]\n"
     ]
    },
    {
     "name": "stdout",
     "output_type": "stream",
     "text": [
      "u_index: 28\n"
     ]
    },
    {
     "name": "stderr",
     "output_type": "stream",
     "text": [
      "100%|█████████████████████████████████████████████| 1/1 [00:00<00:00, 11.97it/s]\n"
     ]
    },
    {
     "name": "stdout",
     "output_type": "stream",
     "text": [
      "u_index: 29\n"
     ]
    },
    {
     "name": "stderr",
     "output_type": "stream",
     "text": [
      "100%|█████████████████████████████████████████████| 1/1 [00:00<00:00, 10.57it/s]\n"
     ]
    },
    {
     "data": {
      "text/html": [
       "<div>\n",
       "<style scoped>\n",
       "    .dataframe tbody tr th:only-of-type {\n",
       "        vertical-align: middle;\n",
       "    }\n",
       "\n",
       "    .dataframe tbody tr th {\n",
       "        vertical-align: top;\n",
       "    }\n",
       "\n",
       "    .dataframe thead th {\n",
       "        text-align: right;\n",
       "    }\n",
       "</style>\n",
       "<table border=\"1\" class=\"dataframe\">\n",
       "  <thead>\n",
       "    <tr style=\"text-align: right;\">\n",
       "      <th></th>\n",
       "      <th>validity</th>\n",
       "      <th>cat_prox</th>\n",
       "      <th>cont_prox</th>\n",
       "      <th>sparsity</th>\n",
       "      <th>cat_diver</th>\n",
       "      <th>cont_diver</th>\n",
       "      <th>cont_count_divers</th>\n",
       "    </tr>\n",
       "  </thead>\n",
       "  <tbody>\n",
       "    <tr>\n",
       "      <th>mean</th>\n",
       "      <td>1.0</td>\n",
       "      <td>0.86</td>\n",
       "      <td>-33.81</td>\n",
       "      <td>0.84</td>\n",
       "      <td>0.19</td>\n",
       "      <td>59.10</td>\n",
       "      <td>0.24</td>\n",
       "    </tr>\n",
       "    <tr>\n",
       "      <th>std</th>\n",
       "      <td>0.0</td>\n",
       "      <td>0.09</td>\n",
       "      <td>42.65</td>\n",
       "      <td>0.04</td>\n",
       "      <td>0.12</td>\n",
       "      <td>73.38</td>\n",
       "      <td>0.05</td>\n",
       "    </tr>\n",
       "  </tbody>\n",
       "</table>\n",
       "</div>"
      ],
      "text/plain": [
       "      validity  cat_prox  cont_prox  sparsity  cat_diver  cont_diver  \\\n",
       "mean       1.0      0.86     -33.81      0.84       0.19       59.10   \n",
       "std        0.0      0.09      42.65      0.04       0.12       73.38   \n",
       "\n",
       "      cont_count_divers  \n",
       "mean               0.24  \n",
       "std                0.05  "
      ]
     },
     "execution_count": 26,
     "metadata": {},
     "output_type": "execute_result"
    }
   ],
   "source": [
    "## loop over several factual instances\n",
    "CE_perf = pd.DataFrame()\n",
    "\n",
    "eval = pd.DataFrame(columns=['validity', 'cat_prox', 'cont_prox', 'sparsity', 'cat_diver',\n",
    "       'cont_diver', 'cont_count_divers'])\n",
    "\n",
    "if X_test_0.shape[0] < num_iterations:\n",
    "    iters = X_test_0.shape[0]\n",
    "else: iters = num_iterations\n",
    "\n",
    "for u_index in range(iters):\n",
    "    print('u_index: %d' % u_index)\n",
    "    u = pd.DataFrame(X_test_0.iloc[u_index,:]).T\n",
    "\n",
    "    # Actionability\n",
    "    permitted_ranges = {}\n",
    "    permitted_ranges = {\n",
    "      'age': [u['age'], df['age'].max()] # age should only increase\n",
    "      }\n",
    "\n",
    "    F_b = df.columns.difference(numerical + [target])\n",
    "    feature_ranges = ce_helpers.get_features_range(df, numerical, F_b, permitted_ranges)[0]\n",
    "\n",
    "    features = list(feature_ranges.keys())\n",
    "    features_to_vary = [ele for ele in features if ele not in I] \n",
    "\n",
    "    # generate counterfactuals\n",
    "    e1 = exp.generate_counterfactuals(u, total_CFs=3, desired_class=\"opposite\", random_seed=0, \n",
    "                                    features_to_vary = features_to_vary, permitted_range = feature_ranges)\n",
    "\n",
    "    # extract counterfactuals as data frame\n",
    "    CFs = e1.cf_examples_list[0].final_cfs_df.iloc[:,:-1]\n",
    "    CFs = CFs.reset_index(drop=True)\n",
    "\n",
    "    number_of_solutions = len(CFs.index)\n",
    "\n",
    "    CEs = pd.concat([u, CFs])\n",
    "    ix_names = ['original']+['sol'+str(i) for i in range(number_of_solutions)]\n",
    "    CEs = CEs.set_index(pd.Index(ix_names))\n",
    "\n",
    "    CE_perf1 = ce_helpers.evaluation(model, CEs, numerical, categorical, rounding = True)\n",
    "    CE_perf = CE_perf.append(CE_perf1)\n",
    "\n",
    "eval.loc['mean'] = np.array(CE_perf.mean())\n",
    "eval.loc['std'] = np.array(CE_perf.std())\n",
    "eval.round(2)"
   ]
  }
 ],
 "metadata": {
  "colab": {
   "collapsed_sections": [
    "FPHsJWaN50Ch",
    "pEuOOxW657MQ",
    "2a61f697",
    "d1afe6b5"
   ],
   "name": "DiCE.ipynb",
   "provenance": []
  },
  "kernelspec": {
   "display_name": "Python 3 (ipykernel)",
   "language": "python",
   "name": "python3"
  },
  "language_info": {
   "codemirror_mode": {
    "name": "ipython",
    "version": 3
   },
   "file_extension": ".py",
   "mimetype": "text/x-python",
   "name": "python",
   "nbconvert_exporter": "python",
   "pygments_lexer": "ipython3",
   "version": "3.9.7"
  }
 },
 "nbformat": 4,
 "nbformat_minor": 5
}