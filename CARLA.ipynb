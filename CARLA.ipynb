{
 "cells": [
  {
   "cell_type": "code",
   "execution_count": 16,
   "metadata": {
    "collapsed": true
   },
   "outputs": [],
   "source": [
    "import Datasets as DS\n",
    "import warnings\n",
    "import numpy as np\n",
    "import ce_helpers\n",
    "from itertools import chain\n",
    "warnings.filterwarnings(\"ignore\")"
   ]
  },
  {
   "cell_type": "code",
   "execution_count": 17,
   "outputs": [],
   "source": [
    "wd = '/Users/tabearober/Documents/Counterfactuals/CE-OCL/data/'"
   ],
   "metadata": {
    "collapsed": false,
    "pycharm": {
     "name": "#%%\n"
    }
   }
  },
  {
   "cell_type": "code",
   "execution_count": 18,
   "outputs": [],
   "source": [
    "df, df_train, df_test, d, clf, df_factuals, model_master, encoder, scaler = DS.adult(wd)"
   ],
   "metadata": {
    "collapsed": false,
    "pycharm": {
     "name": "#%%\n"
    }
   }
  },
  {
   "cell_type": "code",
   "execution_count": 19,
   "outputs": [
    {
     "data": {
      "text/plain": "{'marital-status': ['marital-status_Married', 'marital-status_Non-Married'],\n 'native-country': ['native-country_Non-US', 'native-country_US'],\n 'occupation': ['occupation_Managerial-Specialist', 'occupation_Other'],\n 'race': ['race_Non-White', 'race_White'],\n 'relationship': ['relationship_Husband', 'relationship_Non-Husband'],\n 'sex': ['sex_Female', 'sex_Male'],\n 'workclass': ['workclass_Non-Private', 'workclass_Private']}"
     },
     "execution_count": 19,
     "metadata": {},
     "output_type": "execute_result"
    }
   ],
   "source": [
    "target = d['target']\n",
    "numerical = d['numerical']\n",
    "categorical = d['categorical']\n",
    "\n",
    "mapping = {}\n",
    "for i in range(len(categorical)):\n",
    "    mapping[categorical[i]] = [categorical[i] + '_' + s for s in list(encoder.categories_[i])]\n",
    "mapping"
   ],
   "metadata": {
    "collapsed": false,
    "pycharm": {
     "name": "#%%\n"
    }
   }
  },
  {
   "cell_type": "markdown",
   "source": [
    "## recreate original dataset"
   ],
   "metadata": {
    "collapsed": false,
    "pycharm": {
     "name": "#%% md\n"
    }
   }
  },
  {
   "cell_type": "markdown",
   "source": [
    "This is not necessary at this point."
   ],
   "metadata": {
    "collapsed": false,
    "pycharm": {
     "name": "#%% md\n"
    }
   }
  },
  {
   "cell_type": "code",
   "execution_count": 20,
   "outputs": [],
   "source": [
    "# df_dummies, df_orig = DS.recreate_orig(df, d, encoder)"
   ],
   "metadata": {
    "collapsed": false,
    "pycharm": {
     "name": "#%%\n"
    }
   }
  },
  {
   "cell_type": "markdown",
   "source": [
    "## Optimization"
   ],
   "metadata": {
    "collapsed": false
   }
  },
  {
   "cell_type": "markdown",
   "source": [
    "### Optimization Prep"
   ],
   "metadata": {
    "collapsed": false
   }
  },
  {
   "cell_type": "markdown",
   "source": [
    "X: complete dataset without target"
   ],
   "metadata": {
    "collapsed": false,
    "pycharm": {
     "name": "#%% md\n"
    }
   }
  },
  {
   "cell_type": "code",
   "execution_count": 21,
   "outputs": [],
   "source": [
    "X = df.drop(target,axis=1)"
   ],
   "metadata": {
    "collapsed": false,
    "pycharm": {
     "name": "#%%\n"
    }
   }
  },
  {
   "cell_type": "markdown",
   "source": [
    "X1: points in X that have 1 as label. They will be used as trust region"
   ],
   "metadata": {
    "collapsed": false,
    "pycharm": {
     "name": "#%% md\n"
    }
   }
  },
  {
   "cell_type": "code",
   "execution_count": 22,
   "outputs": [],
   "source": [
    "y_ix_1 = np.where(df[target]==1)\n",
    "X1 = X.iloc[y_ix_1[0],:].copy().reset_index(drop=True, inplace=False)"
   ],
   "metadata": {
    "collapsed": false,
    "pycharm": {
     "name": "#%%\n"
    }
   }
  },
  {
   "cell_type": "markdown",
   "source": [
    "Factual instance"
   ],
   "metadata": {
    "collapsed": false,
    "pycharm": {
     "name": "#%% md\n"
    }
   }
  },
  {
   "cell_type": "code",
   "execution_count": 23,
   "outputs": [
    {
     "name": "stdout",
     "output_type": "stream",
     "text": [
      "predicted label: 0\n"
     ]
    }
   ],
   "source": [
    "u_index = 0\n",
    "u = df_factuals.drop(target,axis=1).iloc[u_index,:]\n",
    "# print(u)\n",
    "print('predicted label: %d' % (clf.predict([u])))"
   ],
   "metadata": {
    "collapsed": false,
    "pycharm": {
     "name": "#%%\n"
    }
   }
  },
  {
   "cell_type": "markdown",
   "source": [
    "Specify parameters"
   ],
   "metadata": {
    "collapsed": false,
    "pycharm": {
     "name": "#%% md\n"
    }
   }
  },
  {
   "cell_type": "code",
   "execution_count": 24,
   "outputs": [],
   "source": [
    "sp = True\n",
    "mu = 10000\n",
    "tr_region = True\n",
    "enlarge_tr = False\n",
    "num_counterfactuals = 3"
   ],
   "metadata": {
    "collapsed": false,
    "pycharm": {
     "name": "#%%\n"
    }
   }
  },
  {
   "cell_type": "code",
   "execution_count": 25,
   "outputs": [],
   "source": [
    "# features that can only increase (become larger)\n",
    "L = []\n",
    "# conditionally mutable features, such as education level (can only take on higher categories)\n",
    "Pers_I = []\n",
    "# features that can only be positive\n",
    "P = []\n",
    "# immutable features\n",
    "# I = mapping[d['immutable']]\n",
    "I = [mapping.get(key) for key in list(set(d['immutable']).intersection(categorical))]\n",
    "I = list(set(list(chain.from_iterable(I))).intersection(df.columns))\n",
    "# dictionary with one-hot encoding used to ensure coherence\n",
    "F_coh = {}\n",
    "# integer features\n",
    "F_int = []\n",
    "# categorical features one-hot encoded\n",
    "F_b = df.columns.difference(numerical + [target])\n",
    "# F_r\n",
    "F_r = numerical"
   ],
   "metadata": {
    "collapsed": false,
    "pycharm": {
     "name": "#%%\n"
    }
   }
  },
  {
   "cell_type": "markdown",
   "source": [
    "### Optimize"
   ],
   "metadata": {
    "collapsed": false,
    "pycharm": {
     "name": "#%% md\n"
    }
   }
  },
  {
   "cell_type": "code",
   "execution_count": 26,
   "outputs": [
    {
     "name": "stdout",
     "output_type": "stream",
     "text": [
      "Generating constraints for the trust region using 11687 samples.\n",
      "The trust region is not being enlarged.\n",
      "... Trust region defined.\n",
      "Embedding constraints for counterfactual_adult\n",
      "Changed value of parameter PoolSolutions to 103\n",
      "   Prev: 10  Min: 1  Max: 2000000000  Default: 10\n",
      "Changed value of parameter PoolSearchMode to 1\n",
      "   Prev: 0  Min: 0  Max: 2  Default: 0\n",
      "OBJ: 20000.19466132187\n",
      "The optimal solution is: [0.315068493, 0.230798686, 0.7666676805638417, 0.08296182913181838, -1.8189894035458565e-12, 0.34693877599999956, 1.0, 1.0, -0.0, 1.0, 1.0, 0.0, 1.0]\n"
     ]
    }
   ],
   "source": [
    "CEs, CEs_, final_model = ce_helpers.opt(X, X1, u, numerical, F_b, F_int, F_coh, I, L, Pers_I, P, sp, mu,\n",
    "                           tr_region, enlarge_tr, num_counterfactuals, model_master, scaler)"
   ],
   "metadata": {
    "collapsed": false,
    "pycharm": {
     "name": "#%%\n"
    }
   }
  },
  {
   "cell_type": "markdown",
   "source": [
    "## Inspect and Visualise"
   ],
   "metadata": {
    "collapsed": false,
    "pycharm": {
     "name": "#%% md\n"
    }
   }
  },
  {
   "cell_type": "markdown",
   "source": [
    "We create df_dummies and df_orig.\n",
    "\n",
    "The model trained by CARLA uses one-hot encoding and drops the reference categories from the df. Hence, we have only sex_Male in the dataframe, but not sex_Female. df_dummies includes all dummy variables, and df_orig is a dataframe that is mapped back into the original input space. So in df_orig, we have a variable 'sex' with values 'Male' and 'Female', instead of dummy variables.\n",
    "\n",
    "We can use df_orig to visualise our counterfactuals."
   ],
   "metadata": {
    "collapsed": false
   }
  },
  {
   "cell_type": "code",
   "execution_count": 27,
   "outputs": [],
   "source": [
    "CEs_['income'] = clf.predict(CEs.drop('scaled_distance', axis=1))\n",
    "df_dummies, df_orig = DS.recreate_orig(CEs_, d, encoder)"
   ],
   "metadata": {
    "collapsed": false,
    "pycharm": {
     "name": "#%%\n"
    }
   }
  },
  {
   "cell_type": "code",
   "execution_count": 28,
   "outputs": [
    {
     "data": {
      "text/plain": "              age      fnlwgt  education-num  capital-gain hours-per-week  \\\noriginal  40.0023  353433.942         5.9995         0.000        34.9962   \nsol0            -           -        12.5005      8299.917              -   \nsol1            -           -        13.4995      8299.917              -   \nsol2            -           -        14.5000      8299.917              -   \n\n         capital-loss income marital-status native-country  \\\noriginal          0.0      0    Non-Married             US   \nsol0                -      1              -              -   \nsol1                -      1              -              -   \nsol2                -      -              -              -   \n\n                     occupation   race relationship     sex workclass  \noriginal  Managerial-Specialist  White  Non-Husband  Female   Private  \nsol0                          -      -            -       -         -  \nsol1                          -      -            -       -         -  \nsol2                          -      -            -       -         -  ",
      "text/html": "<div>\n<style scoped>\n    .dataframe tbody tr th:only-of-type {\n        vertical-align: middle;\n    }\n\n    .dataframe tbody tr th {\n        vertical-align: top;\n    }\n\n    .dataframe thead th {\n        text-align: right;\n    }\n</style>\n<table border=\"1\" class=\"dataframe\">\n  <thead>\n    <tr style=\"text-align: right;\">\n      <th></th>\n      <th>age</th>\n      <th>fnlwgt</th>\n      <th>education-num</th>\n      <th>capital-gain</th>\n      <th>hours-per-week</th>\n      <th>capital-loss</th>\n      <th>income</th>\n      <th>marital-status</th>\n      <th>native-country</th>\n      <th>occupation</th>\n      <th>race</th>\n      <th>relationship</th>\n      <th>sex</th>\n      <th>workclass</th>\n    </tr>\n  </thead>\n  <tbody>\n    <tr>\n      <th>original</th>\n      <td>40.0023</td>\n      <td>353433.942</td>\n      <td>5.9995</td>\n      <td>0.000</td>\n      <td>34.9962</td>\n      <td>0.0</td>\n      <td>0</td>\n      <td>Non-Married</td>\n      <td>US</td>\n      <td>Managerial-Specialist</td>\n      <td>White</td>\n      <td>Non-Husband</td>\n      <td>Female</td>\n      <td>Private</td>\n    </tr>\n    <tr>\n      <th>sol0</th>\n      <td>-</td>\n      <td>-</td>\n      <td>12.5005</td>\n      <td>8299.917</td>\n      <td>-</td>\n      <td>-</td>\n      <td>1</td>\n      <td>-</td>\n      <td>-</td>\n      <td>-</td>\n      <td>-</td>\n      <td>-</td>\n      <td>-</td>\n      <td>-</td>\n    </tr>\n    <tr>\n      <th>sol1</th>\n      <td>-</td>\n      <td>-</td>\n      <td>13.4995</td>\n      <td>8299.917</td>\n      <td>-</td>\n      <td>-</td>\n      <td>1</td>\n      <td>-</td>\n      <td>-</td>\n      <td>-</td>\n      <td>-</td>\n      <td>-</td>\n      <td>-</td>\n      <td>-</td>\n    </tr>\n    <tr>\n      <th>sol2</th>\n      <td>-</td>\n      <td>-</td>\n      <td>14.5000</td>\n      <td>8299.917</td>\n      <td>-</td>\n      <td>-</td>\n      <td>-</td>\n      <td>-</td>\n      <td>-</td>\n      <td>-</td>\n      <td>-</td>\n      <td>-</td>\n      <td>-</td>\n      <td>-</td>\n    </tr>\n  </tbody>\n</table>\n</div>"
     },
     "execution_count": 28,
     "metadata": {},
     "output_type": "execute_result"
    }
   ],
   "source": [
    "ce_helpers.visualise_changes(df_orig)"
   ],
   "metadata": {
    "collapsed": false,
    "pycharm": {
     "name": "#%%\n"
    }
   }
  },
  {
   "cell_type": "markdown",
   "source": [
    "## Evaluation"
   ],
   "metadata": {
    "collapsed": false
   }
  },
  {
   "cell_type": "code",
   "execution_count": 29,
   "outputs": [
    {
     "data": {
      "text/plain": "   validity  cat_prox  cont_prox  sparsity  cat_diver  cont_diver  \\\n0      0.67       1.0   -8307.42      0.85        0.0        1.33   \n\n   cont_count_divers  \n0               0.08  ",
      "text/html": "<div>\n<style scoped>\n    .dataframe tbody tr th:only-of-type {\n        vertical-align: middle;\n    }\n\n    .dataframe tbody tr th {\n        vertical-align: top;\n    }\n\n    .dataframe thead th {\n        text-align: right;\n    }\n</style>\n<table border=\"1\" class=\"dataframe\">\n  <thead>\n    <tr style=\"text-align: right;\">\n      <th></th>\n      <th>validity</th>\n      <th>cat_prox</th>\n      <th>cont_prox</th>\n      <th>sparsity</th>\n      <th>cat_diver</th>\n      <th>cont_diver</th>\n      <th>cont_count_divers</th>\n    </tr>\n  </thead>\n  <tbody>\n    <tr>\n      <th>0</th>\n      <td>0.67</td>\n      <td>1.0</td>\n      <td>-8307.42</td>\n      <td>0.85</td>\n      <td>0.0</td>\n      <td>1.33</td>\n      <td>0.08</td>\n    </tr>\n  </tbody>\n</table>\n</div>"
     },
     "execution_count": 29,
     "metadata": {},
     "output_type": "execute_result"
    }
   ],
   "source": [
    "df_performance = ce_helpers.evaluation(clf, df_orig.drop(target,axis=1), numerical, categorical, rounding=True, CEs_=CEs)\n",
    "df_performance"
   ],
   "metadata": {
    "collapsed": false,
    "pycharm": {
     "name": "#%%\n"
    }
   }
  }
 ],
 "metadata": {
  "kernelspec": {
   "display_name": "Python 3",
   "language": "python",
   "name": "python3"
  },
  "language_info": {
   "codemirror_mode": {
    "name": "ipython",
    "version": 2
   },
   "file_extension": ".py",
   "mimetype": "text/x-python",
   "name": "python",
   "nbconvert_exporter": "python",
   "pygments_lexer": "ipython2",
   "version": "2.7.6"
  }
 },
 "nbformat": 4,
 "nbformat_minor": 0
}