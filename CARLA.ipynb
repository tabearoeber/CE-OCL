{
 "cells": [
  {
   "cell_type": "code",
   "execution_count": 220,
   "metadata": {
    "collapsed": true
   },
   "outputs": [],
   "source": [
    "import Datasets as DS\n",
    "import warnings\n",
    "import numpy as np\n",
    "import ce_helpers\n",
    "from itertools import chain\n",
    "warnings.filterwarnings(\"ignore\")\n",
    "from importlib import reload\n",
    "import dice_ml\n",
    "import pandas as pd"
   ]
  },
  {
   "cell_type": "code",
   "execution_count": 221,
   "outputs": [],
   "source": [
    "wd = '/Users/tabearober/Documents/Counterfactuals/CE-OCL/data/'"
   ],
   "metadata": {
    "collapsed": false,
    "pycharm": {
     "name": "#%%\n"
    }
   }
  },
  {
   "cell_type": "code",
   "execution_count": 222,
   "outputs": [
    {
     "data": {
      "text/plain": "<module 'dice_ml' from '/Users/tabearober/Documents/Counterfactuals/CE-OCL/venv/lib/python3.8/site-packages/dice_ml/__init__.py'>"
     },
     "execution_count": 222,
     "metadata": {},
     "output_type": "execute_result"
    }
   ],
   "source": [
    "reload(dice_ml)"
   ],
   "metadata": {
    "collapsed": false,
    "pycharm": {
     "name": "#%%\n"
    }
   }
  },
  {
   "cell_type": "code",
   "execution_count": 223,
   "outputs": [],
   "source": [
    "df, df_train, df_test, d, clf, df_factuals, model_master, encoder, scaler = DS.adult(wd)"
   ],
   "metadata": {
    "collapsed": false,
    "pycharm": {
     "name": "#%%\n"
    }
   }
  },
  {
   "cell_type": "code",
   "execution_count": 224,
   "outputs": [
    {
     "data": {
      "text/plain": "{'marital-status': ['marital-status_Married', 'marital-status_Non-Married'],\n 'native-country': ['native-country_Non-US', 'native-country_US'],\n 'occupation': ['occupation_Managerial-Specialist', 'occupation_Other'],\n 'race': ['race_Non-White', 'race_White'],\n 'relationship': ['relationship_Husband', 'relationship_Non-Husband'],\n 'sex': ['sex_Female', 'sex_Male'],\n 'workclass': ['workclass_Non-Private', 'workclass_Private']}"
     },
     "execution_count": 224,
     "metadata": {},
     "output_type": "execute_result"
    }
   ],
   "source": [
    "target = d['target']\n",
    "numerical = d['numerical']\n",
    "categorical = d['categorical']\n",
    "\n",
    "mapping = {}\n",
    "for i in range(len(categorical)):\n",
    "    mapping[categorical[i]] = [categorical[i] + '_' + s for s in list(encoder.categories_[i])]\n",
    "mapping"
   ],
   "metadata": {
    "collapsed": false,
    "pycharm": {
     "name": "#%%\n"
    }
   }
  },
  {
   "cell_type": "markdown",
   "source": [
    "---\n",
    "\n",
    "## CE-OCL"
   ],
   "metadata": {
    "collapsed": false
   }
  },
  {
   "cell_type": "markdown",
   "source": [
    "### Optimization Prep"
   ],
   "metadata": {
    "collapsed": false
   }
  },
  {
   "cell_type": "markdown",
   "source": [
    "X: complete dataset without target"
   ],
   "metadata": {
    "collapsed": false
   }
  },
  {
   "cell_type": "code",
   "execution_count": 225,
   "outputs": [],
   "source": [
    "X = df.drop(target,axis=1)"
   ],
   "metadata": {
    "collapsed": false,
    "pycharm": {
     "name": "#%%\n"
    }
   }
  },
  {
   "cell_type": "markdown",
   "source": [
    "X1: points in X that have 1 as label. They will be used as trust region"
   ],
   "metadata": {
    "collapsed": false
   }
  },
  {
   "cell_type": "code",
   "execution_count": 226,
   "outputs": [],
   "source": [
    "y_ix_1 = np.where(df[target]==1)\n",
    "X1 = X.iloc[y_ix_1[0],:].copy().reset_index(drop=True, inplace=False)"
   ],
   "metadata": {
    "collapsed": false,
    "pycharm": {
     "name": "#%%\n"
    }
   }
  },
  {
   "cell_type": "markdown",
   "source": [
    "Specify parameters"
   ],
   "metadata": {
    "collapsed": false,
    "pycharm": {
     "name": "#%% md\n"
    }
   }
  },
  {
   "cell_type": "code",
   "execution_count": 227,
   "outputs": [],
   "source": [
    "sp = True\n",
    "mu = 10000\n",
    "tr_region = True\n",
    "enlarge_tr = False\n",
    "num_counterfactuals = 3"
   ],
   "metadata": {
    "collapsed": false,
    "pycharm": {
     "name": "#%%\n"
    }
   }
  },
  {
   "cell_type": "code",
   "execution_count": 228,
   "outputs": [],
   "source": [
    "# features that can only increase (become larger)\n",
    "L = []\n",
    "# conditionally mutable features, such as education level (can only take on higher categories)\n",
    "Pers_I = []\n",
    "# features that can only be positive\n",
    "P = []\n",
    "# immutable features\n",
    "# I = mapping[d['immutable']]\n",
    "I = [mapping.get(key) for key in list(set(d['immutable']).intersection(categorical))]\n",
    "I = list(set(list(chain.from_iterable(I))).intersection(df.columns))\n",
    "I.extend(set(d['immutable']).intersection(numerical))\n",
    "# dictionary with one-hot encoding used to ensure coherence\n",
    "F_coh = {}\n",
    "# integer features\n",
    "F_int = []\n",
    "# categorical features one-hot encoded\n",
    "F_b = df.columns.difference(numerical + [target])\n",
    "# F_r\n",
    "F_r = numerical"
   ],
   "metadata": {
    "collapsed": false,
    "pycharm": {
     "name": "#%%\n"
    }
   }
  },
  {
   "cell_type": "markdown",
   "source": [
    "### Optimize for all factuals"
   ],
   "metadata": {
    "collapsed": false,
    "pycharm": {
     "name": "#%% md\n"
    }
   }
  },
  {
   "cell_type": "code",
   "execution_count": 229,
   "outputs": [
    {
     "name": "stdout",
     "output_type": "stream",
     "text": [
      "u_index: 0\n",
      "Generating constraints for the trust region using 11687 samples.\n",
      "The trust region is not being enlarged.\n",
      "... Trust region defined.\n",
      "Embedding constraints for counterfactual_adult\n",
      "Changed value of parameter PoolSolutions to 103\n",
      "   Prev: 10  Min: 1  Max: 2000000000  Default: 10\n",
      "Changed value of parameter PoolSearchMode to 1\n",
      "   Prev: 0  Min: 0  Max: 2  Default: 0\n",
      "OBJ: 20000.194661322494\n",
      "The optimal solution is: [0.315068493, 0.230798686, 0.7666676805638417, 0.08296182913181838, -1.3144331323263546e-13, 0.346938776, 0.9999999999999843, 0.9999999999999843, 0.0, 0.9999999999999843, 1.0, 0.0, 0.9999999999999843]\n",
      "u_index: 1\n",
      "Generating constraints for the trust region using 11687 samples.\n",
      "The trust region is not being enlarged.\n",
      "... Trust region defined.\n",
      "Embedding constraints for counterfactual_adult\n",
      "Changed value of parameter PoolSolutions to 103\n",
      "   Prev: 10  Min: 1  Max: 2000000000  Default: 10\n",
      "Changed value of parameter PoolSearchMode to 1\n",
      "   Prev: 0  Min: 0  Max: 2  Default: 0\n",
      "OBJ: 10000.005097482666\n",
      "The optimal solution is: [0.328767123, 0.232480558, 0.8000000000000002, 0.07139671382901724, -1.8189894035458565e-12, 0.346938776, 1.0, 1.0, 1.0, 1.0, 1.0, 1.0, -0.0]\n",
      "u_index: 2\n",
      "Generating constraints for the trust region using 11687 samples.\n",
      "The trust region is not being enlarged.\n",
      "... Trust region defined.\n",
      "Embedding constraints for counterfactual_adult\n",
      "Changed value of parameter PoolSolutions to 103\n",
      "   Prev: 10  Min: 1  Max: 2000000000  Default: 10\n",
      "Changed value of parameter PoolSearchMode to 1\n",
      "   Prev: 0  Min: 0  Max: 2  Default: 0\n",
      "OBJ: 20000.012739600654\n",
      "The optimal solution is: [0.506849315, 0.229667516, 0.6, 0.08296182913181838, 0.0, 0.42346939444155396, 1.0, 1.0, -0.0, 1.0, 1.0, 0.0, 1.0]\n",
      "u_index: 3\n",
      "Generating constraints for the trust region using 11687 samples.\n",
      "The trust region is not being enlarged.\n",
      "... Trust region defined.\n",
      "Embedding constraints for counterfactual_adult\n",
      "Changed value of parameter PoolSolutions to 103\n",
      "   Prev: 10  Min: 1  Max: 2000000000  Default: 10\n",
      "Changed value of parameter PoolSearchMode to 1\n",
      "   Prev: 0  Min: 0  Max: 2  Default: 0\n",
      "OBJ: 10000.002596565886\n",
      "The optimal solution is: [0.671232877, 0.079284088, 0.8, 0.05095650975999888, 0.0, 0.051020408, -7.300506389459186e-08, 1.0, 0.9999999269949361, 1.0, 0.0, 1.0, 1.0]\n"
     ]
    },
    {
     "data": {
      "text/plain": "      validity  cat_prox  cont_prox  sparsity  cat_diver  cont_diver  \\\nmean      0.92       1.0   -9295.66      0.83        0.0     5294.39   \nstd       0.16       0.0    4383.07      0.04        0.0     9167.27   \n\n      cont_count_divers  \nmean               0.09  \nstd                0.03  ",
      "text/html": "<div>\n<style scoped>\n    .dataframe tbody tr th:only-of-type {\n        vertical-align: middle;\n    }\n\n    .dataframe tbody tr th {\n        vertical-align: top;\n    }\n\n    .dataframe thead th {\n        text-align: right;\n    }\n</style>\n<table border=\"1\" class=\"dataframe\">\n  <thead>\n    <tr style=\"text-align: right;\">\n      <th></th>\n      <th>validity</th>\n      <th>cat_prox</th>\n      <th>cont_prox</th>\n      <th>sparsity</th>\n      <th>cat_diver</th>\n      <th>cont_diver</th>\n      <th>cont_count_divers</th>\n    </tr>\n  </thead>\n  <tbody>\n    <tr>\n      <th>mean</th>\n      <td>0.92</td>\n      <td>1.0</td>\n      <td>-9295.66</td>\n      <td>0.83</td>\n      <td>0.0</td>\n      <td>5294.39</td>\n      <td>0.09</td>\n    </tr>\n    <tr>\n      <th>std</th>\n      <td>0.16</td>\n      <td>0.0</td>\n      <td>4383.07</td>\n      <td>0.04</td>\n      <td>0.0</td>\n      <td>9167.27</td>\n      <td>0.03</td>\n    </tr>\n  </tbody>\n</table>\n</div>"
     },
     "execution_count": 229,
     "metadata": {},
     "output_type": "execute_result"
    }
   ],
   "source": [
    "df_performance = pd.DataFrame()\n",
    "eval_final = pd.DataFrame(columns=['validity', 'cat_prox', 'cont_prox', 'sparsity', 'cat_diver',\n",
    "       'cont_diver', 'cont_count_divers'])\n",
    "\n",
    "# for u_index in range(len(df_factuals)):\n",
    "for u_index in range(4):\n",
    "    print('u_index: %i' % u_index)\n",
    "    u = df_factuals.drop(target,axis=1).iloc[u_index,:]\n",
    "\n",
    "    CEs, CEs_, final_model = ce_helpers.opt(X, X1, u, numerical, F_b, F_int, F_coh, I, L, Pers_I, P, sp, mu,\n",
    "                           tr_region, enlarge_tr, 3, model_master, scaler)\n",
    "\n",
    "    df_orig = ce_helpers.visualise_changes(clf, d, encoder, method = 'CE-OCL', CEs=CEs, CEs_ = CEs_)\n",
    "    df_performance_1 = ce_helpers.evaluation_carla(df_orig, d)\n",
    "\n",
    "    df_performance = df_performance.append(df_performance_1)\n",
    "\n",
    "eval_final.loc['mean'] = np.array(df_performance.mean())\n",
    "eval_final.loc['std'] = np.array(df_performance.std())\n",
    "\n",
    "eval_final.round(2)"
   ],
   "metadata": {
    "collapsed": false,
    "pycharm": {
     "name": "#%%\n"
    }
   }
  },
  {
   "cell_type": "markdown",
   "source": [
    "---\n",
    "\n",
    "# DiCE: several factuals"
   ],
   "metadata": {
    "collapsed": false,
    "pycharm": {
     "name": "#%% md\n"
    }
   }
  },
  {
   "cell_type": "code",
   "execution_count": 230,
   "outputs": [],
   "source": [
    "# Step 1: dice_ml.Data\n",
    "data = dice_ml.Data(dataframe=df_train, continuous_features=numerical, outcome_name=target)\n",
    "\n",
    "# Step 2: dice_ml.Model\n",
    "m = dice_ml.Model(model=clf, backend=\"sklearn\")\n",
    "\n",
    "# Step 3: dice_ml.Dice\n",
    "meth = 'random'\n",
    "exp = dice_ml.Dice(data, m, method=meth)"
   ],
   "metadata": {
    "collapsed": false,
    "pycharm": {
     "name": "#%%\n"
    }
   }
  },
  {
   "cell_type": "code",
   "execution_count": 231,
   "outputs": [],
   "source": [
    "# immutable features\n",
    "I = [mapping.get(key) for key in list(set(d['immutable']).intersection(categorical))]\n",
    "I = list(set(list(chain.from_iterable(I))).intersection(df.columns))\n",
    "I.extend(set(d['immutable']).intersection(numerical))\n",
    "\n",
    "features = df_train.drop(target,axis=1).columns\n",
    "features_to_vary = [ele for ele in features if ele not in I]"
   ],
   "metadata": {
    "collapsed": false,
    "pycharm": {
     "name": "#%%\n"
    }
   }
  },
  {
   "cell_type": "code",
   "execution_count": 232,
   "outputs": [
    {
     "name": "stdout",
     "output_type": "stream",
     "text": [
      "u_index: 0\n"
     ]
    },
    {
     "name": "stderr",
     "output_type": "stream",
     "text": [
      "100%|██████████| 1/1 [00:00<00:00,  6.89it/s]\n"
     ]
    },
    {
     "name": "stdout",
     "output_type": "stream",
     "text": [
      "u_index: 1\n"
     ]
    },
    {
     "name": "stderr",
     "output_type": "stream",
     "text": [
      "100%|██████████| 1/1 [00:00<00:00,  7.28it/s]\n"
     ]
    },
    {
     "name": "stdout",
     "output_type": "stream",
     "text": [
      "u_index: 2\n"
     ]
    },
    {
     "name": "stderr",
     "output_type": "stream",
     "text": [
      "100%|██████████| 1/1 [00:00<00:00,  6.74it/s]\n"
     ]
    },
    {
     "name": "stdout",
     "output_type": "stream",
     "text": [
      "u_index: 3\n"
     ]
    },
    {
     "name": "stderr",
     "output_type": "stream",
     "text": [
      "100%|██████████| 1/1 [00:00<00:00,  6.68it/s]\n"
     ]
    },
    {
     "data": {
      "text/plain": "      validity  cat_prox  cont_prox  sparsity  cat_diver  cont_diver  \\\nmean       1.0      0.93  -63883.78      0.80       0.10    35666.21   \nstd        0.0      0.06   38642.53      0.02       0.08    28664.88   \n\n      cont_count_divers  \nmean               0.18  \nstd                0.07  ",
      "text/html": "<div>\n<style scoped>\n    .dataframe tbody tr th:only-of-type {\n        vertical-align: middle;\n    }\n\n    .dataframe tbody tr th {\n        vertical-align: top;\n    }\n\n    .dataframe thead th {\n        text-align: right;\n    }\n</style>\n<table border=\"1\" class=\"dataframe\">\n  <thead>\n    <tr style=\"text-align: right;\">\n      <th></th>\n      <th>validity</th>\n      <th>cat_prox</th>\n      <th>cont_prox</th>\n      <th>sparsity</th>\n      <th>cat_diver</th>\n      <th>cont_diver</th>\n      <th>cont_count_divers</th>\n    </tr>\n  </thead>\n  <tbody>\n    <tr>\n      <th>mean</th>\n      <td>1.0</td>\n      <td>0.93</td>\n      <td>-63883.78</td>\n      <td>0.80</td>\n      <td>0.10</td>\n      <td>35666.21</td>\n      <td>0.18</td>\n    </tr>\n    <tr>\n      <th>std</th>\n      <td>0.0</td>\n      <td>0.06</td>\n      <td>38642.53</td>\n      <td>0.02</td>\n      <td>0.08</td>\n      <td>28664.88</td>\n      <td>0.07</td>\n    </tr>\n  </tbody>\n</table>\n</div>"
     },
     "execution_count": 232,
     "metadata": {},
     "output_type": "execute_result"
    }
   ],
   "source": [
    "df_performance = pd.DataFrame()\n",
    "eval_final = pd.DataFrame(columns=['validity', 'cat_prox', 'cont_prox', 'sparsity', 'cat_diver',\n",
    "       'cont_diver', 'cont_count_divers'])\n",
    "\n",
    "# for u_index in range(len(df_factuals)):\n",
    "for u_index in range(4):\n",
    "    print('u_index: %i' % u_index)\n",
    "    u = df_factuals.drop(target,axis=1).iloc[u_index,:]\n",
    "\n",
    "    if meth == 'random':\n",
    "        e1 = exp.generate_counterfactuals(pd.DataFrame(u).T, total_CFs=3, desired_class=\"opposite\", random_seed=0,\n",
    "                                    features_to_vary = features_to_vary)\n",
    "    else:\n",
    "        e1 = exp.generate_counterfactuals(pd.DataFrame(u).T, total_CFs=3, desired_class=\"opposite\",\n",
    "                                    features_to_vary = features_to_vary)\n",
    "\n",
    "    df_orig = ce_helpers.visualise_changes(clf, d, encoder, method='DiCE', exp = e1, factual=pd.DataFrame(u).T, scaler=scaler, only_changes=False)\n",
    "    df_performance_1 = ce_helpers.evaluation_carla(df_orig, d)\n",
    "\n",
    "    df_performance = df_performance.append(df_performance_1)\n",
    "\n",
    "eval_final.loc['mean'] = np.array(df_performance.mean())\n",
    "eval_final.loc['std'] = np.array(df_performance.std())\n",
    "\n",
    "eval_final.round(2)"
   ],
   "metadata": {
    "collapsed": false,
    "pycharm": {
     "name": "#%%\n"
    }
   }
  },
  {
   "cell_type": "markdown",
   "source": [
    "---\n",
    "\n",
    "# DiCE: single factual"
   ],
   "metadata": {
    "collapsed": false
   }
  },
  {
   "cell_type": "code",
   "execution_count": 233,
   "outputs": [
    {
     "name": "stdout",
     "output_type": "stream",
     "text": [
      "predicted label: 0\n"
     ]
    }
   ],
   "source": [
    "# Factual instance\n",
    "u_index = 0\n",
    "u = df_factuals.drop(target, axis=1).iloc[u_index, :]\n",
    "# print(u)\n",
    "print('predicted label: %d' % (clf.predict([u])))"
   ],
   "metadata": {
    "collapsed": false,
    "pycharm": {
     "name": "#%%\n"
    }
   }
  },
  {
   "cell_type": "code",
   "execution_count": 234,
   "outputs": [],
   "source": [
    "# Step 1: dice_ml.Data\n",
    "data = dice_ml.Data(dataframe=df_train, continuous_features=numerical, outcome_name=target)\n",
    "\n",
    "# Step 2: dice_ml.Model\n",
    "m = dice_ml.Model(model=clf, backend=\"sklearn\")\n",
    "\n",
    "# Step 3: dice_ml.Dice\n",
    "exp = dice_ml.Dice(data, m, method=\"random\")"
   ],
   "metadata": {
    "collapsed": false,
    "pycharm": {
     "name": "#%%\n"
    }
   }
  },
  {
   "cell_type": "code",
   "execution_count": 235,
   "outputs": [],
   "source": [
    "# immutable features\n",
    "I = [mapping.get(key) for key in list(set(d['immutable']).intersection(categorical))]\n",
    "I = list(set(list(chain.from_iterable(I))).intersection(df.columns))\n",
    "I.extend(set(d['immutable']).intersection(numerical))\n",
    "\n",
    "features = df_train.drop(target,axis=1).columns\n",
    "features_to_vary = [ele for ele in features if ele not in I]"
   ],
   "metadata": {
    "collapsed": false,
    "pycharm": {
     "name": "#%%\n"
    }
   }
  },
  {
   "cell_type": "code",
   "execution_count": 236,
   "outputs": [
    {
     "name": "stderr",
     "output_type": "stream",
     "text": [
      "100%|██████████| 1/1 [00:00<00:00,  7.03it/s]\n"
     ]
    }
   ],
   "source": [
    "e1 = exp.generate_counterfactuals(pd.DataFrame(u).T, total_CFs=3, desired_class=\"opposite\", random_seed=0,\n",
    "                                features_to_vary = features_to_vary)"
   ],
   "metadata": {
    "collapsed": false,
    "pycharm": {
     "name": "#%%\n"
    }
   }
  },
  {
   "cell_type": "markdown",
   "source": [
    "### Visualize"
   ],
   "metadata": {
    "collapsed": false,
    "pycharm": {
     "name": "#%% md\n"
    }
   }
  },
  {
   "cell_type": "code",
   "execution_count": 237,
   "outputs": [
    {
     "data": {
      "text/plain": "           age         fnlwgt education-num  capital-gain hours-per-week  \\\noriginal  40.0  353431.999757           6.0           0.0           35.0   \nsol0         -              -     14.825786       99999.0              -   \nsol1         -              -             -       89999.1              -   \nsol2         -              -             -      109998.9              -   \n\n         capital-loss  income marital-status native-country  \\\noriginal          0.0       0    Non-Married             US   \nsol0                -       1              -              -   \nsol1                -       1        Married              -   \nsol2                -       1        Married              -   \n\n                     occupation   race relationship     sex    workclass  \noriginal  Managerial-Specialist  White  Non-Husband  Female  Non-Private  \nsol0                          -      -            -       -            -  \nsol1                          -      -            -       -            -  \nsol2                          -      -            -       -            -  ",
      "text/html": "<div>\n<style scoped>\n    .dataframe tbody tr th:only-of-type {\n        vertical-align: middle;\n    }\n\n    .dataframe tbody tr th {\n        vertical-align: top;\n    }\n\n    .dataframe thead th {\n        text-align: right;\n    }\n</style>\n<table border=\"1\" class=\"dataframe\">\n  <thead>\n    <tr style=\"text-align: right;\">\n      <th></th>\n      <th>age</th>\n      <th>fnlwgt</th>\n      <th>education-num</th>\n      <th>capital-gain</th>\n      <th>hours-per-week</th>\n      <th>capital-loss</th>\n      <th>income</th>\n      <th>marital-status</th>\n      <th>native-country</th>\n      <th>occupation</th>\n      <th>race</th>\n      <th>relationship</th>\n      <th>sex</th>\n      <th>workclass</th>\n    </tr>\n  </thead>\n  <tbody>\n    <tr>\n      <th>original</th>\n      <td>40.0</td>\n      <td>353431.999757</td>\n      <td>6.0</td>\n      <td>0.0</td>\n      <td>35.0</td>\n      <td>0.0</td>\n      <td>0</td>\n      <td>Non-Married</td>\n      <td>US</td>\n      <td>Managerial-Specialist</td>\n      <td>White</td>\n      <td>Non-Husband</td>\n      <td>Female</td>\n      <td>Non-Private</td>\n    </tr>\n    <tr>\n      <th>sol0</th>\n      <td>-</td>\n      <td>-</td>\n      <td>14.825786</td>\n      <td>99999.0</td>\n      <td>-</td>\n      <td>-</td>\n      <td>1</td>\n      <td>-</td>\n      <td>-</td>\n      <td>-</td>\n      <td>-</td>\n      <td>-</td>\n      <td>-</td>\n      <td>-</td>\n    </tr>\n    <tr>\n      <th>sol1</th>\n      <td>-</td>\n      <td>-</td>\n      <td>-</td>\n      <td>89999.1</td>\n      <td>-</td>\n      <td>-</td>\n      <td>1</td>\n      <td>Married</td>\n      <td>-</td>\n      <td>-</td>\n      <td>-</td>\n      <td>-</td>\n      <td>-</td>\n      <td>-</td>\n    </tr>\n    <tr>\n      <th>sol2</th>\n      <td>-</td>\n      <td>-</td>\n      <td>-</td>\n      <td>109998.9</td>\n      <td>-</td>\n      <td>-</td>\n      <td>1</td>\n      <td>Married</td>\n      <td>-</td>\n      <td>-</td>\n      <td>-</td>\n      <td>-</td>\n      <td>-</td>\n      <td>-</td>\n    </tr>\n  </tbody>\n</table>\n</div>"
     },
     "execution_count": 237,
     "metadata": {},
     "output_type": "execute_result"
    }
   ],
   "source": [
    "ce_helpers.visualise_changes(clf, d, encoder, method='DiCE', exp = e1, factual=pd.DataFrame(u).T, scaler=scaler, only_changes=True)"
   ],
   "metadata": {
    "collapsed": false,
    "pycharm": {
     "name": "#%%\n"
    }
   }
  },
  {
   "cell_type": "markdown",
   "source": [
    "### Evaluation"
   ],
   "metadata": {
    "collapsed": false,
    "pycharm": {
     "name": "#%% md\n"
    }
   }
  },
  {
   "cell_type": "code",
   "execution_count": 238,
   "outputs": [
    {
     "data": {
      "text/plain": "   validity  cat_prox  cont_prox  sparsity  cat_diver  cont_diver  \\\n0       1.0       0.9 -100001.94      0.79        0.1    13339.08   \n\n   cont_count_divers  \n0               0.17  ",
      "text/html": "<div>\n<style scoped>\n    .dataframe tbody tr th:only-of-type {\n        vertical-align: middle;\n    }\n\n    .dataframe tbody tr th {\n        vertical-align: top;\n    }\n\n    .dataframe thead th {\n        text-align: right;\n    }\n</style>\n<table border=\"1\" class=\"dataframe\">\n  <thead>\n    <tr style=\"text-align: right;\">\n      <th></th>\n      <th>validity</th>\n      <th>cat_prox</th>\n      <th>cont_prox</th>\n      <th>sparsity</th>\n      <th>cat_diver</th>\n      <th>cont_diver</th>\n      <th>cont_count_divers</th>\n    </tr>\n  </thead>\n  <tbody>\n    <tr>\n      <th>0</th>\n      <td>1.0</td>\n      <td>0.9</td>\n      <td>-100001.94</td>\n      <td>0.79</td>\n      <td>0.1</td>\n      <td>13339.08</td>\n      <td>0.17</td>\n    </tr>\n  </tbody>\n</table>\n</div>"
     },
     "execution_count": 238,
     "metadata": {},
     "output_type": "execute_result"
    }
   ],
   "source": [
    "df_orig = ce_helpers.visualise_changes(clf, d, encoder, method='DiCE', exp = e1, factual=pd.DataFrame(u).T, scaler=scaler, only_changes=False)\n",
    "df_performance = ce_helpers.evaluation_carla(df_orig, d)\n",
    "df_performance"
   ],
   "metadata": {
    "collapsed": false,
    "pycharm": {
     "name": "#%%\n"
    }
   }
  },
  {
   "cell_type": "markdown",
   "source": [
    "---\n",
    "\n",
    "# CE-OCL: single factual"
   ],
   "metadata": {
    "collapsed": false,
    "pycharm": {
     "name": "#%% md\n"
    }
   }
  },
  {
   "cell_type": "code",
   "execution_count": 239,
   "outputs": [
    {
     "name": "stdout",
     "output_type": "stream",
     "text": [
      "predicted label: 0\n"
     ]
    }
   ],
   "source": [
    "# Factual instance\n",
    "u_index = 0\n",
    "u = df_factuals.drop(target, axis=1).iloc[u_index, :]\n",
    "# print(u)\n",
    "print('predicted label: %d' % (clf.predict([u])))"
   ],
   "metadata": {
    "collapsed": false,
    "pycharm": {
     "name": "#%%\n"
    }
   }
  },
  {
   "cell_type": "code",
   "execution_count": 240,
   "outputs": [
    {
     "name": "stdout",
     "output_type": "stream",
     "text": [
      "Generating constraints for the trust region using 11687 samples.\n",
      "The trust region is not being enlarged.\n",
      "... Trust region defined.\n",
      "Embedding constraints for counterfactual_adult\n",
      "Changed value of parameter PoolSolutions to 103\n",
      "   Prev: 10  Min: 1  Max: 2000000000  Default: 10\n",
      "Changed value of parameter PoolSearchMode to 1\n",
      "   Prev: 0  Min: 0  Max: 2  Default: 0\n",
      "OBJ: 20000.194661322494\n",
      "The optimal solution is: [0.315068493, 0.230798686, 0.7666676805638417, 0.08296182913181838, -1.3144331323263546e-13, 0.346938776, 0.9999999999999843, 0.9999999999999843, 0.0, 0.9999999999999843, 1.0, 0.0, 0.9999999999999843]\n"
     ]
    }
   ],
   "source": [
    "CEs, CEs_, final_model = ce_helpers.opt(X, X1, u, numerical, F_b, F_int, F_coh, I, L, Pers_I, P, sp, mu,\n",
    "                           tr_region, enlarge_tr, 3, model_master, scaler)"
   ],
   "metadata": {
    "collapsed": false,
    "pycharm": {
     "name": "#%%\n"
    }
   }
  },
  {
   "cell_type": "markdown",
   "source": [
    "## Inspect and Visualise"
   ],
   "metadata": {
    "collapsed": false,
    "pycharm": {
     "name": "#%% md\n"
    }
   }
  },
  {
   "cell_type": "code",
   "execution_count": 241,
   "outputs": [
    {
     "data": {
      "text/plain": "              age      fnlwgt  education-num  capital-gain hours-per-week  \\\noriginal  40.0023  353433.942         5.9995         0.000        34.9962   \nsol0            -           -        12.5005      8299.917              -   \nsol1            -           -        13.4995      8299.917              -   \nsol2            -           -        14.5000      8299.917              -   \n\n         capital-loss income marital-status native-country  \\\noriginal          0.0      0    Non-Married             US   \nsol0                -      1              -              -   \nsol1                -      1              -              -   \nsol2                -      -              -              -   \n\n                     occupation   race relationship     sex workclass  \noriginal  Managerial-Specialist  White  Non-Husband  Female   Private  \nsol0                          -      -            -       -         -  \nsol1                          -      -            -       -         -  \nsol2                          -      -            -       -         -  ",
      "text/html": "<div>\n<style scoped>\n    .dataframe tbody tr th:only-of-type {\n        vertical-align: middle;\n    }\n\n    .dataframe tbody tr th {\n        vertical-align: top;\n    }\n\n    .dataframe thead th {\n        text-align: right;\n    }\n</style>\n<table border=\"1\" class=\"dataframe\">\n  <thead>\n    <tr style=\"text-align: right;\">\n      <th></th>\n      <th>age</th>\n      <th>fnlwgt</th>\n      <th>education-num</th>\n      <th>capital-gain</th>\n      <th>hours-per-week</th>\n      <th>capital-loss</th>\n      <th>income</th>\n      <th>marital-status</th>\n      <th>native-country</th>\n      <th>occupation</th>\n      <th>race</th>\n      <th>relationship</th>\n      <th>sex</th>\n      <th>workclass</th>\n    </tr>\n  </thead>\n  <tbody>\n    <tr>\n      <th>original</th>\n      <td>40.0023</td>\n      <td>353433.942</td>\n      <td>5.9995</td>\n      <td>0.000</td>\n      <td>34.9962</td>\n      <td>0.0</td>\n      <td>0</td>\n      <td>Non-Married</td>\n      <td>US</td>\n      <td>Managerial-Specialist</td>\n      <td>White</td>\n      <td>Non-Husband</td>\n      <td>Female</td>\n      <td>Private</td>\n    </tr>\n    <tr>\n      <th>sol0</th>\n      <td>-</td>\n      <td>-</td>\n      <td>12.5005</td>\n      <td>8299.917</td>\n      <td>-</td>\n      <td>-</td>\n      <td>1</td>\n      <td>-</td>\n      <td>-</td>\n      <td>-</td>\n      <td>-</td>\n      <td>-</td>\n      <td>-</td>\n      <td>-</td>\n    </tr>\n    <tr>\n      <th>sol1</th>\n      <td>-</td>\n      <td>-</td>\n      <td>13.4995</td>\n      <td>8299.917</td>\n      <td>-</td>\n      <td>-</td>\n      <td>1</td>\n      <td>-</td>\n      <td>-</td>\n      <td>-</td>\n      <td>-</td>\n      <td>-</td>\n      <td>-</td>\n      <td>-</td>\n    </tr>\n    <tr>\n      <th>sol2</th>\n      <td>-</td>\n      <td>-</td>\n      <td>14.5000</td>\n      <td>8299.917</td>\n      <td>-</td>\n      <td>-</td>\n      <td>-</td>\n      <td>-</td>\n      <td>-</td>\n      <td>-</td>\n      <td>-</td>\n      <td>-</td>\n      <td>-</td>\n      <td>-</td>\n    </tr>\n  </tbody>\n</table>\n</div>"
     },
     "execution_count": 241,
     "metadata": {},
     "output_type": "execute_result"
    }
   ],
   "source": [
    "ce_helpers.visualise_changes(clf, d, encoder, method = 'CE-OCL', CEs=CEs, CEs_ = CEs_, only_changes = True)"
   ],
   "metadata": {
    "collapsed": false,
    "pycharm": {
     "name": "#%%\n"
    }
   }
  },
  {
   "cell_type": "markdown",
   "source": [
    "## Evaluation"
   ],
   "metadata": {
    "collapsed": false
   }
  },
  {
   "cell_type": "code",
   "execution_count": 242,
   "outputs": [
    {
     "data": {
      "text/plain": "   validity  cat_prox  cont_prox  sparsity  cat_diver  cont_diver  \\\n0      0.67       1.0   -8307.42      0.81        0.0        1.33   \n\n   cont_count_divers  \n0               0.12  ",
      "text/html": "<div>\n<style scoped>\n    .dataframe tbody tr th:only-of-type {\n        vertical-align: middle;\n    }\n\n    .dataframe tbody tr th {\n        vertical-align: top;\n    }\n\n    .dataframe thead th {\n        text-align: right;\n    }\n</style>\n<table border=\"1\" class=\"dataframe\">\n  <thead>\n    <tr style=\"text-align: right;\">\n      <th></th>\n      <th>validity</th>\n      <th>cat_prox</th>\n      <th>cont_prox</th>\n      <th>sparsity</th>\n      <th>cat_diver</th>\n      <th>cont_diver</th>\n      <th>cont_count_divers</th>\n    </tr>\n  </thead>\n  <tbody>\n    <tr>\n      <th>0</th>\n      <td>0.67</td>\n      <td>1.0</td>\n      <td>-8307.42</td>\n      <td>0.81</td>\n      <td>0.0</td>\n      <td>1.33</td>\n      <td>0.12</td>\n    </tr>\n  </tbody>\n</table>\n</div>"
     },
     "execution_count": 242,
     "metadata": {},
     "output_type": "execute_result"
    }
   ],
   "source": [
    "df_orig = ce_helpers.visualise_changes(clf, d, encoder, method = 'CE-OCL', CEs=CEs, CEs_ = CEs_)\n",
    "df_performance = ce_helpers.evaluation_carla(df_orig, d)\n",
    "df_performance"
   ],
   "metadata": {
    "collapsed": false,
    "pycharm": {
     "name": "#%%\n"
    }
   }
  }
 ],
 "metadata": {
  "kernelspec": {
   "display_name": "Python 3",
   "language": "python",
   "name": "python3"
  },
  "language_info": {
   "codemirror_mode": {
    "name": "ipython",
    "version": 2
   },
   "file_extension": ".py",
   "mimetype": "text/x-python",
   "name": "python",
   "nbconvert_exporter": "python",
   "pygments_lexer": "ipython2",
   "version": "2.7.6"
  }
 },
 "nbformat": 4,
 "nbformat_minor": 0
}