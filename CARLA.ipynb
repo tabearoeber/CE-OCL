{
 "cells": [
  {
   "cell_type": "code",
   "execution_count": 138,
   "metadata": {
    "collapsed": true
   },
   "outputs": [],
   "source": [
    "import Datasets as DS\n",
    "import warnings\n",
    "import numpy as np\n",
    "import ce_helpers\n",
    "from itertools import chain\n",
    "warnings.filterwarnings(\"ignore\")\n",
    "from importlib import reload"
   ]
  },
  {
   "cell_type": "code",
   "execution_count": 139,
   "outputs": [],
   "source": [
    "wd = '/Users/tabearober/Documents/Counterfactuals/CE-OCL/data/'"
   ],
   "metadata": {
    "collapsed": false,
    "pycharm": {
     "name": "#%%\n"
    }
   }
  },
  {
   "cell_type": "code",
   "execution_count": 140,
   "outputs": [
    {
     "data": {
      "text/plain": "<module 'Datasets' from '/Users/tabearober/Documents/Counterfactuals/CE-OCL/Datasets.py'>"
     },
     "execution_count": 140,
     "metadata": {},
     "output_type": "execute_result"
    }
   ],
   "source": [
    "reload(DS)"
   ],
   "metadata": {
    "collapsed": false,
    "pycharm": {
     "name": "#%%\n"
    }
   }
  },
  {
   "cell_type": "code",
   "execution_count": 141,
   "outputs": [],
   "source": [
    "df, df_train, df_test, d, clf, df_factuals, model_master, encoder, scaler = DS.adult(wd)"
   ],
   "metadata": {
    "collapsed": false,
    "pycharm": {
     "name": "#%%\n"
    }
   }
  },
  {
   "cell_type": "code",
   "execution_count": 142,
   "outputs": [
    {
     "data": {
      "text/plain": "{'marital-status': ['marital-status_Married', 'marital-status_Non-Married'],\n 'native-country': ['native-country_Non-US', 'native-country_US'],\n 'occupation': ['occupation_Managerial-Specialist', 'occupation_Other'],\n 'race': ['race_Non-White', 'race_White'],\n 'relationship': ['relationship_Husband', 'relationship_Non-Husband'],\n 'sex': ['sex_Female', 'sex_Male'],\n 'workclass': ['workclass_Non-Private', 'workclass_Private']}"
     },
     "execution_count": 142,
     "metadata": {},
     "output_type": "execute_result"
    }
   ],
   "source": [
    "target = d['target']\n",
    "numerical = d['numerical']\n",
    "categorical = d['categorical']\n",
    "\n",
    "mapping = {}\n",
    "for i in range(len(categorical)):\n",
    "    mapping[categorical[i]] = [categorical[i] + '_' + s for s in list(encoder.categories_[i])]\n",
    "mapping"
   ],
   "metadata": {
    "collapsed": false,
    "pycharm": {
     "name": "#%%\n"
    }
   }
  },
  {
   "cell_type": "markdown",
   "source": [
    "## recreate original dataset"
   ],
   "metadata": {
    "collapsed": false,
    "pycharm": {
     "name": "#%% md\n"
    }
   }
  },
  {
   "cell_type": "markdown",
   "source": [
    "This is not necessary at this point."
   ],
   "metadata": {
    "collapsed": false,
    "pycharm": {
     "name": "#%% md\n"
    }
   }
  },
  {
   "cell_type": "code",
   "execution_count": 143,
   "outputs": [],
   "source": [
    "# df_dummies, df_orig = DS.recreate_orig(df, d, encoder)"
   ],
   "metadata": {
    "collapsed": false,
    "pycharm": {
     "name": "#%%\n"
    }
   }
  },
  {
   "cell_type": "markdown",
   "source": [
    "## Optimization"
   ],
   "metadata": {
    "collapsed": false
   }
  },
  {
   "cell_type": "markdown",
   "source": [
    "### Optimization Prep"
   ],
   "metadata": {
    "collapsed": false
   }
  },
  {
   "cell_type": "markdown",
   "source": [
    "X: complete dataset without target"
   ],
   "metadata": {
    "collapsed": false,
    "pycharm": {
     "name": "#%% md\n"
    }
   }
  },
  {
   "cell_type": "code",
   "execution_count": 144,
   "outputs": [],
   "source": [
    "X = df.drop(target,axis=1)"
   ],
   "metadata": {
    "collapsed": false,
    "pycharm": {
     "name": "#%%\n"
    }
   }
  },
  {
   "cell_type": "markdown",
   "source": [
    "X1: points in X that have 1 as label. They will be used as trust region"
   ],
   "metadata": {
    "collapsed": false,
    "pycharm": {
     "name": "#%% md\n"
    }
   }
  },
  {
   "cell_type": "code",
   "execution_count": 145,
   "outputs": [],
   "source": [
    "y_ix_1 = np.where(df[target]==1)\n",
    "X1 = X.iloc[y_ix_1[0],:].copy().reset_index(drop=True, inplace=False)"
   ],
   "metadata": {
    "collapsed": false,
    "pycharm": {
     "name": "#%%\n"
    }
   }
  },
  {
   "cell_type": "markdown",
   "source": [
    "Factual instance"
   ],
   "metadata": {
    "collapsed": false,
    "pycharm": {
     "name": "#%% md\n"
    }
   }
  },
  {
   "cell_type": "code",
   "execution_count": 146,
   "outputs": [
    {
     "name": "stdout",
     "output_type": "stream",
     "text": [
      "predicted label: 0\n"
     ]
    }
   ],
   "source": [
    "u_index = 0\n",
    "u = df_factuals.drop(target,axis=1).iloc[u_index,:]\n",
    "# print(u)\n",
    "print('predicted label: %d' % (clf.predict([u])))"
   ],
   "metadata": {
    "collapsed": false,
    "pycharm": {
     "name": "#%%\n"
    }
   }
  },
  {
   "cell_type": "markdown",
   "source": [
    "Specify parameters"
   ],
   "metadata": {
    "collapsed": false,
    "pycharm": {
     "name": "#%% md\n"
    }
   }
  },
  {
   "cell_type": "code",
   "execution_count": 147,
   "outputs": [],
   "source": [
    "sp = True\n",
    "mu = 10000\n",
    "tr_region = True\n",
    "enlarge_tr = False\n",
    "num_counterfactuals = 3"
   ],
   "metadata": {
    "collapsed": false,
    "pycharm": {
     "name": "#%%\n"
    }
   }
  },
  {
   "cell_type": "code",
   "execution_count": 148,
   "outputs": [],
   "source": [
    "# features that can only increase (become larger)\n",
    "L = []\n",
    "# conditionally mutable features, such as education level (can only take on higher categories)\n",
    "Pers_I = []\n",
    "# features that can only be positive\n",
    "P = []\n",
    "# immutable features\n",
    "# I = mapping[d['immutable']]\n",
    "I = [mapping.get(key) for key in list(set(d['immutable']).intersection(categorical))]\n",
    "I = list(set(list(chain.from_iterable(I))).intersection(df.columns))\n",
    "# dictionary with one-hot encoding used to ensure coherence\n",
    "F_coh = {}\n",
    "# integer features\n",
    "F_int = []\n",
    "# categorical features one-hot encoded\n",
    "F_b = df.columns.difference(numerical + [target])\n",
    "# F_r\n",
    "F_r = numerical"
   ],
   "metadata": {
    "collapsed": false,
    "pycharm": {
     "name": "#%%\n"
    }
   }
  },
  {
   "cell_type": "markdown",
   "source": [
    "### Optimize for all factuals"
   ],
   "metadata": {
    "collapsed": false,
    "pycharm": {
     "name": "#%% md\n"
    }
   }
  },
  {
   "cell_type": "code",
   "execution_count": 149,
   "outputs": [
    {
     "name": "stdout",
     "output_type": "stream",
     "text": [
      "u_index: 0\n",
      "Generating constraints for the trust region using 11687 samples.\n",
      "The trust region is not being enlarged.\n",
      "... Trust region defined.\n",
      "Embedding constraints for counterfactual_adult\n",
      "Changed value of parameter PoolSolutions to 103\n",
      "   Prev: 10  Min: 1  Max: 2000000000  Default: 10\n",
      "Changed value of parameter PoolSearchMode to 1\n",
      "   Prev: 0  Min: 0  Max: 2  Default: 0\n",
      "OBJ: 20000.19466132187\n",
      "The optimal solution is: [0.315068493, 0.230798686, 0.7666676805638417, 0.08296182913181838, -1.8189894035458565e-12, 0.34693877599999956, 1.0, 1.0, -0.0, 1.0, 1.0, 0.0, 1.0]\n",
      "u_index: 1\n",
      "Generating constraints for the trust region using 11687 samples.\n",
      "The trust region is not being enlarged.\n",
      "... Trust region defined.\n",
      "Embedding constraints for counterfactual_adult\n",
      "Changed value of parameter PoolSolutions to 103\n",
      "   Prev: 10  Min: 1  Max: 2000000000  Default: 10\n",
      "Changed value of parameter PoolSearchMode to 1\n",
      "   Prev: 0  Min: 0  Max: 2  Default: 0\n",
      "OBJ: 10000.005097480389\n",
      "The optimal solution is: [0.328767123, 0.232480558, 0.8, 0.07139671382901724, -1.8189894035458565e-12, 0.34693877600000006, 1.0, 1.0, 1.0, 1.0, 1.0, 1.0, -0.0]\n",
      "u_index: 2\n",
      "Generating constraints for the trust region using 11687 samples.\n",
      "The trust region is not being enlarged.\n",
      "... Trust region defined.\n",
      "Embedding constraints for counterfactual_adult\n",
      "Changed value of parameter PoolSolutions to 103\n",
      "   Prev: 10  Min: 1  Max: 2000000000  Default: 10\n",
      "Changed value of parameter PoolSearchMode to 1\n",
      "   Prev: 0  Min: 0  Max: 2  Default: 0\n",
      "OBJ: 20000.00587406856\n",
      "The optimal solution is: [0.5068493149999991, 0.229667516, 0.5999999999999988, 0.08296182913181838, -1.8189894035458565e-12, 0.4234704189581127, 1.0, 1.0, -0.0, 1.0, 1.0, 0.0, 1.0]\n",
      "u_index: 3\n",
      "Generating constraints for the trust region using 11687 samples.\n",
      "The trust region is not being enlarged.\n",
      "... Trust region defined.\n",
      "Embedding constraints for counterfactual_adult\n",
      "Changed value of parameter PoolSolutions to 103\n",
      "   Prev: 10  Min: 1  Max: 2000000000  Default: 10\n",
      "Changed value of parameter PoolSearchMode to 1\n",
      "   Prev: 0  Min: 0  Max: 2  Default: 0\n",
      "OBJ: 10000.002596463975\n",
      "The optimal solution is: [0.6712328769999999, 0.079284088, 0.8, 0.050955509761479334, -1.8189894035458565e-12, 0.051020408, -0.0, 1.0, 1.0, 1.0, -0.0, 1.0, 1.0]\n",
      "u_index: 4\n",
      "Generating constraints for the trust region using 11687 samples.\n",
      "The trust region is not being enlarged.\n",
      "... Trust region defined.\n",
      "Embedding constraints for counterfactual_adult\n",
      "Changed value of parameter PoolSolutions to 103\n",
      "   Prev: 10  Min: 1  Max: 2000000000  Default: 10\n",
      "Changed value of parameter PoolSearchMode to 1\n",
      "   Prev: 0  Min: 0  Max: 2  Default: 0\n",
      "OBJ: 10000.002596565886\n",
      "The optimal solution is: [0.31506849299999995, 0.210744766, 0.6, 0.05095650975999888, 0.0, 0.3979591840000001, 0.0, 1.0, 1.0, 1.0, 0.0, 1.0, 1.0]\n",
      "u_index: 5\n",
      "Generating constraints for the trust region using 11687 samples.\n",
      "The trust region is not being enlarged.\n",
      "... Trust region defined.\n",
      "Embedding constraints for counterfactual_adult\n",
      "Changed value of parameter PoolSolutions to 103\n",
      "   Prev: 10  Min: 1  Max: 2000000000  Default: 10\n",
      "Changed value of parameter PoolSearchMode to 1\n",
      "   Prev: 0  Min: 0  Max: 2  Default: 0\n",
      "OBJ: 10000.000397044581\n",
      "The optimal solution is: [0.287671233, 0.160172923, 0.7333333329999999, 0.05095650975999888, -1.8189894035458565e-12, 0.397959184, -0.0, 1.0, 1.0, 1.0, -0.0, 1.0, 1.0]\n",
      "u_index: 6\n",
      "Generating constraints for the trust region using 11687 samples.\n",
      "The trust region is not being enlarged.\n",
      "... Trust region defined.\n",
      "Embedding constraints for counterfactual_adult\n",
      "Changed value of parameter PoolSolutions to 103\n",
      "   Prev: 10  Min: 1  Max: 2000000000  Default: 10\n",
      "Changed value of parameter PoolSearchMode to 1\n",
      "   Prev: 0  Min: 0  Max: 2  Default: 0\n",
      "OBJ: 20000.011479624347\n",
      "The optimal solution is: [0.09519813944184671, 0.161376483, 0.5999999999999999, 0.08296182913181838, -1.8189894035458565e-12, 0.397959184, 1.0, 1.0, -0.0, 1.0, 1.0, 1.0, 1.0]\n",
      "u_index: 7\n",
      "Generating constraints for the trust region using 11687 samples.\n",
      "The trust region is not being enlarged.\n",
      "... Trust region defined.\n",
      "Embedding constraints for counterfactual_adult\n",
      "Changed value of parameter PoolSolutions to 103\n",
      "   Prev: 10  Min: 1  Max: 2000000000  Default: 10\n",
      "Changed value of parameter PoolSearchMode to 1\n",
      "   Prev: 0  Min: 0  Max: 2  Default: 0\n",
      "OBJ: 9999.997929593215\n",
      "The optimal solution is: [0.27397260300000004, 0.108522679, 0.6, 0.07055670557019766, -1.8189894035458565e-12, 0.5, 0.0, 1.0, 1.0, -0.0, 0.0, 1.0, 1.0]\n",
      "u_index: 8\n",
      "Generating constraints for the trust region using 11687 samples.\n",
      "The trust region is not being enlarged.\n",
      "... Trust region defined.\n",
      "Embedding constraints for counterfactual_adult\n",
      "Changed value of parameter PoolSolutions to 103\n",
      "   Prev: 10  Min: 1  Max: 2000000000  Default: 10\n",
      "Changed value of parameter PoolSearchMode to 1\n",
      "   Prev: 0  Min: 0  Max: 2  Default: 0\n",
      "OBJ: 10000.002596555396\n",
      "The optimal solution is: [0.46575342500000005, 0.033140182, 0.533333333, 0.05095650975999888, -1.8189894035458565e-12, 0.397959184, 0.0, 1.0, 1.0, 1.0, 0.0, 1.0, 1.0]\n",
      "u_index: 9\n",
      "Generating constraints for the trust region using 11687 samples.\n",
      "The trust region is not being enlarged.\n",
      "... Trust region defined.\n",
      "Embedding constraints for counterfactual_adult\n",
      "Changed value of parameter PoolSolutions to 103\n",
      "   Prev: 10  Min: 1  Max: 2000000000  Default: 10\n",
      "Changed value of parameter PoolSearchMode to 1\n",
      "   Prev: 0  Min: 0  Max: 2  Default: 0\n",
      "OBJ: 30000.01741878047\n",
      "The optimal solution is: [0.18210294175960576, 0.10465871865807252, 0.8, 0.0713957138304977, -1.8189894035458565e-12, 0.397959184, 1.0, 1.0, 1.0, 1.0, 1.0, 1.0, -0.0]\n",
      "u_index: 10\n",
      "Generating constraints for the trust region using 11687 samples.\n",
      "The trust region is not being enlarged.\n",
      "... Trust region defined.\n",
      "Embedding constraints for counterfactual_adult\n",
      "Changed value of parameter PoolSolutions to 103\n",
      "   Prev: 10  Min: 1  Max: 2000000000  Default: 10\n",
      "Changed value of parameter PoolSearchMode to 1\n",
      "   Prev: 0  Min: 0  Max: 2  Default: 0\n",
      "OBJ: 20000.030787509168\n",
      "The optimal solution is: [0.291598215405377, 0.037959157, 0.8, 0.0829618291318166, 0.0, 0.39795918399999985, 1.0, 1.0, -0.0, 1.0, 1.0, 0.0, -0.0]\n",
      "u_index: 11\n",
      "Generating constraints for the trust region using 11687 samples.\n",
      "The trust region is not being enlarged.\n",
      "... Trust region defined.\n",
      "Embedding constraints for counterfactual_adult\n",
      "Changed value of parameter PoolSolutions to 103\n",
      "   Prev: 10  Min: 1  Max: 2000000000  Default: 10\n",
      "Changed value of parameter PoolSearchMode to 1\n",
      "   Prev: 0  Min: 0  Max: 2  Default: 0\n",
      "OBJ: 10000.002596463975\n",
      "The optimal solution is: [0.5753424660005195, 0.205492807, 0.533333333, 0.050955509761479334, -1.8189894035458565e-12, 0.4489795919999999, -0.0, -0.0, 1.0, 1.0, -0.0, 1.0, 1.0]\n",
      "u_index: 12\n",
      "Generating constraints for the trust region using 11687 samples.\n",
      "The trust region is not being enlarged.\n",
      "... Trust region defined.\n",
      "Embedding constraints for counterfactual_adult\n",
      "Changed value of parameter PoolSolutions to 103\n",
      "   Prev: 10  Min: 1  Max: 2000000000  Default: 10\n",
      "Changed value of parameter PoolSearchMode to 1\n",
      "   Prev: 0  Min: 0  Max: 2  Default: 0\n",
      "OBJ: 10000.002596453618\n",
      "The optimal solution is: [0.273972603, 0.116889417, 0.6, 0.050955509761479334, -1.8189894035458565e-12, 0.551020408, 0.0, 1.0, 0.0, -0.0, -0.0, 1.0, 1.0]\n",
      "u_index: 13\n",
      "Generating constraints for the trust region using 11687 samples.\n",
      "The trust region is not being enlarged.\n",
      "... Trust region defined.\n",
      "Embedding constraints for counterfactual_adult\n",
      "Changed value of parameter PoolSolutions to 103\n",
      "   Prev: 10  Min: 1  Max: 2000000000  Default: 10\n",
      "Changed value of parameter PoolSearchMode to 1\n",
      "   Prev: 0  Min: 0  Max: 2  Default: 0\n",
      "OBJ: 30000.01135622428\n",
      "The optimal solution is: [0.671232877, 0.031148456, 0.474886043722579, 0.07139671382901724, -1.4853265468521724e-12, 0.42347039444393886, 1.0, 1.0, 1.0, 1.0, 1.0, 0.0, -0.0]\n",
      "u_index: 14\n",
      "Generating constraints for the trust region using 11687 samples.\n",
      "The trust region is not being enlarged.\n",
      "... Trust region defined.\n",
      "Embedding constraints for counterfactual_adult\n",
      "Changed value of parameter PoolSolutions to 103\n",
      "   Prev: 10  Min: 1  Max: 2000000000  Default: 10\n",
      "Changed value of parameter PoolSearchMode to 1\n",
      "   Prev: 0  Min: 0  Max: 2  Default: 0\n",
      "OBJ: 10000.005097480278\n",
      "The optimal solution is: [0.32876712299999994, 0.074649807, 0.533333333, 0.07139671382901736, -1.8236677429972056e-12, 0.4795918370000001, 1.0000000000000033, 1.0, 1.0, 1.0, 1.0, 1.0, 1.0]\n",
      "u_index: 15\n",
      "Generating constraints for the trust region using 11687 samples.\n",
      "The trust region is not being enlarged.\n",
      "... Trust region defined.\n",
      "Embedding constraints for counterfactual_adult\n",
      "Changed value of parameter PoolSolutions to 103\n",
      "   Prev: 10  Min: 1  Max: 2000000000  Default: 10\n",
      "Changed value of parameter PoolSearchMode to 1\n",
      "   Prev: 0  Min: 0  Max: 2  Default: 0\n",
      "OBJ: 20000.06652958352\n",
      "The optimal solution is: [0.25284979263056145, 0.141290766, 0.266666667, 0.05095650975999888, -1.8189894035458565e-12, 0.397959184, -0.0, 1.0, 1.0, 1.0, 0.0, 1.0, 1.0]\n",
      "u_index: 16\n",
      "Generating constraints for the trust region using 11687 samples.\n",
      "The trust region is not being enlarged.\n",
      "... Trust region defined.\n",
      "Embedding constraints for counterfactual_adult\n",
      "Changed value of parameter PoolSolutions to 103\n",
      "   Prev: 10  Min: 1  Max: 2000000000  Default: 10\n",
      "Changed value of parameter PoolSearchMode to 1\n",
      "   Prev: 0  Min: 0  Max: 2  Default: 0\n",
      "OBJ: 10000.005097485568\n",
      "The optimal solution is: [0.136986301, 0.10194606, 0.666666667, 0.07139671382918879, -1.8189894035458565e-12, 0.56122449, 0.9999999999994821, 1.0, 1.0, 1.0, 1.0, 1.0, 0.0]\n",
      "u_index: 17\n",
      "Generating constraints for the trust region using 11687 samples.\n",
      "The trust region is not being enlarged.\n",
      "... Trust region defined.\n",
      "Embedding constraints for counterfactual_adult\n",
      "Changed value of parameter PoolSolutions to 103\n",
      "   Prev: 10  Min: 1  Max: 2000000000  Default: 10\n",
      "Changed value of parameter PoolSearchMode to 1\n",
      "   Prev: 0  Min: 0  Max: 2  Default: 0\n",
      "OBJ: 20000.00563973636\n",
      "The optimal solution is: [0.06438205782209547, 0.124725072, 0.533333333, 0.07139671382901325, 0.0, 0.39795918399999997, 1.0, 1.0, 0.9999999999999999, 0.9999999999999999, 1.0, 1.0, 0.9999999999999999]\n",
      "u_index: 18\n",
      "Generating constraints for the trust region using 11687 samples.\n",
      "The trust region is not being enlarged.\n",
      "... Trust region defined.\n",
      "Embedding constraints for counterfactual_adult\n",
      "Changed value of parameter PoolSolutions to 103\n",
      "   Prev: 10  Min: 1  Max: 2000000000  Default: 10\n",
      "Changed value of parameter PoolSearchMode to 1\n",
      "   Prev: 0  Min: 0  Max: 2  Default: 0\n",
      "OBJ: 10000.134445148142\n",
      "The optimal solution is: [0.712328767, 0.117315635, 0.7666676805638417, -5.4569682106375694e-12, -1.8189894035458565e-12, 0.19387755099999998, 0.0, 1.0, -0.0, 1.0, 0.0, 1.0, 1.0]\n",
      "u_index: 19\n",
      "Generating constraints for the trust region using 11687 samples.\n",
      "The trust region is not being enlarged.\n",
      "... Trust region defined.\n",
      "Embedding constraints for counterfactual_adult\n",
      "Changed value of parameter PoolSolutions to 103\n",
      "   Prev: 10  Min: 1  Max: 2000000000  Default: 10\n",
      "Changed value of parameter PoolSearchMode to 1\n",
      "   Prev: 0  Min: 0  Max: 2  Default: 0\n",
      "OBJ: 30001.0072582188\n",
      "The optimal solution is: [0.5068493149999989, 0.11900359599999999, 0.5333333329999985, 0.08296182913181838, -1.8190028623688837e-12, 0.21325675916496858, 1.0, 1.0, 1.0, 1.0, 1.0, 0.0, 1.0]\n",
      "u_index: 20\n",
      "Generating constraints for the trust region using 11687 samples.\n",
      "The trust region is not being enlarged.\n",
      "... Trust region defined.\n",
      "Embedding constraints for counterfactual_adult\n",
      "Changed value of parameter PoolSolutions to 103\n",
      "   Prev: 10  Min: 1  Max: 2000000000  Default: 10\n",
      "Changed value of parameter PoolSearchMode to 1\n",
      "   Prev: 0  Min: 0  Max: 2  Default: 0\n",
      "OBJ: 10000.006882665093\n",
      "The optimal solution is: [0.42465753400000006, 0.22846733799999996, 0.6666666669999999, 0.0829618291318081, -1.8189894035458565e-12, 0.39795918399999985, 1.0, 1.0, -0.0, 1.0, 1.0, 1.0, 1.0]\n",
      "u_index: 21\n",
      "Generating constraints for the trust region using 11687 samples.\n",
      "The trust region is not being enlarged.\n",
      "... Trust region defined.\n",
      "Embedding constraints for counterfactual_adult\n",
      "Changed value of parameter PoolSolutions to 103\n",
      "   Prev: 10  Min: 1  Max: 2000000000  Default: 10\n",
      "Changed value of parameter PoolSearchMode to 1\n",
      "   Prev: 0  Min: 0  Max: 2  Default: 0\n",
      "OBJ: 30000.0325894657\n",
      "The optimal solution is: [0.08193121903328957, 0.06826261800000001, 0.551116804977773, 0.07139671382901724, -1.8189894035458565e-12, 0.244897959, 1.0, 1.0, 1.0, 1.0, 1.0, 1.0, 1.0]\n",
      "u_index: 22\n",
      "Generating constraints for the trust region using 11687 samples.\n",
      "The trust region is not being enlarged.\n",
      "... Trust region defined.\n",
      "Embedding constraints for counterfactual_adult\n",
      "Changed value of parameter PoolSolutions to 103\n",
      "   Prev: 10  Min: 1  Max: 2000000000  Default: 10\n",
      "Changed value of parameter PoolSearchMode to 1\n",
      "   Prev: 0  Min: 0  Max: 2  Default: 0\n",
      "OBJ: 20000.017971158723\n",
      "The optimal solution is: [0.08219178100000013, 0.059575879000000054, 0.533333333, 0.07139671382901724, -1.8189894035458565e-12, 0.256319330426777, 1.0, 1.0, 1.0, 1.0, 1.0, 1.0, 1.0]\n",
      "u_index: 23\n",
      "Generating constraints for the trust region using 11687 samples.\n",
      "The trust region is not being enlarged.\n",
      "... Trust region defined.\n",
      "Embedding constraints for counterfactual_adult\n",
      "Changed value of parameter PoolSolutions to 103\n",
      "   Prev: 10  Min: 1  Max: 2000000000  Default: 10\n",
      "Changed value of parameter PoolSearchMode to 1\n",
      "   Prev: 0  Min: 0  Max: 2  Default: 0\n",
      "OBJ: 10000.006882665093\n",
      "The optimal solution is: [0.42465753399999995, 0.2140029699999998, 0.5333333329999999, 0.08296182913181838, -1.8189894035458565e-12, 0.3979591839999998, 1.0, 1.0, 1.0, 1.0, 1.0, 1.0, -0.0]\n",
      "u_index: 24\n",
      "Generating constraints for the trust region using 11687 samples.\n",
      "The trust region is not being enlarged.\n",
      "... Trust region defined.\n",
      "Embedding constraints for counterfactual_adult\n",
      "Changed value of parameter PoolSolutions to 103\n",
      "   Prev: 10  Min: 1  Max: 2000000000  Default: 10\n",
      "Changed value of parameter PoolSearchMode to 1\n",
      "   Prev: 0  Min: 0  Max: 2  Default: 0\n",
      "OBJ: 20000.025603873586\n",
      "The optimal solution is: [0.17792139249142835, 0.127099718, 0.5333333329999985, 0.08296182913181838, -1.8189894035458565e-12, 0.3775510199999985, 1.0, 1.0, 1.0, 1.0, 1.0, 0.0, 1.0]\n",
      "u_index: 25\n",
      "Generating constraints for the trust region using 11687 samples.\n",
      "The trust region is not being enlarged.\n",
      "... Trust region defined.\n",
      "Embedding constraints for counterfactual_adult\n",
      "Changed value of parameter PoolSolutions to 103\n",
      "   Prev: 10  Min: 1  Max: 2000000000  Default: 10\n",
      "Changed value of parameter PoolSearchMode to 1\n",
      "   Prev: 0  Min: 0  Max: 2  Default: 0\n",
      "OBJ: 20000.00316080463\n",
      "The optimal solution is: [0.657534247, 0.043134667999999994, 0.533333333, 0.05095650975999888, -1.8189894035458565e-12, 0.023754548430875624, 0.0, 1.0, 1.0, 1.0, 0.0, 1.0, 1.0]\n",
      "u_index: 26\n",
      "Generating constraints for the trust region using 11687 samples.\n",
      "The trust region is not being enlarged.\n",
      "... Trust region defined.\n",
      "Embedding constraints for counterfactual_adult\n",
      "Changed value of parameter PoolSolutions to 103\n",
      "   Prev: 10  Min: 1  Max: 2000000000  Default: 10\n",
      "Changed value of parameter PoolSearchMode to 1\n",
      "   Prev: 0  Min: 0  Max: 2  Default: 0\n",
      "OBJ: 20000.14132711973\n",
      "The optimal solution is: [0.438356164, 0.08937802500000003, 0.7666666805669138, 0.08296182913181033, -1.8189894035458565e-12, 0.37755101999999985, 1.0, 1.0, -0.0, 1.0, 1.0, 0.0, 1.0]\n",
      "u_index: 27\n",
      "Generating constraints for the trust region using 11687 samples.\n",
      "The trust region is not being enlarged.\n",
      "... Trust region defined.\n",
      "Embedding constraints for counterfactual_adult\n",
      "Changed value of parameter PoolSolutions to 103\n",
      "   Prev: 10  Min: 1  Max: 2000000000  Default: 10\n",
      "Changed value of parameter PoolSearchMode to 1\n",
      "   Prev: 0  Min: 0  Max: 2  Default: 0\n",
      "OBJ: 10000.002595526728\n",
      "The optimal solution is: [0.3561643837496589, 0.10077362, 0.533333333, 0.05095650179323546, 0.0, 0.4489795919999997, 0.0, 1.0, 1.0, 1.0, 1.1291291678039439e-07, 1.0, -0.0]\n",
      "u_index: 28\n",
      "Generating constraints for the trust region using 11687 samples.\n",
      "The trust region is not being enlarged.\n",
      "... Trust region defined.\n",
      "Embedding constraints for counterfactual_adult\n",
      "Changed value of parameter PoolSolutions to 103\n",
      "   Prev: 10  Min: 1  Max: 2000000000  Default: 10\n",
      "Changed value of parameter PoolSearchMode to 1\n",
      "   Prev: 0  Min: 0  Max: 2  Default: 0\n",
      "OBJ: 10000.0025964534\n",
      "The optimal solution is: [0.49315068500000003, 0.236192718, 0.5333333329994306, 0.050955509761479334, -1.8189894035458565e-12, 0.3979591840014636, 0.0, 1.0, -0.0, 1.0, 0.0, 1.0, 1.0]\n",
      "u_index: 29\n",
      "Generating constraints for the trust region using 11687 samples.\n",
      "The trust region is not being enlarged.\n",
      "... Trust region defined.\n",
      "Embedding constraints for counterfactual_adult\n",
      "Changed value of parameter PoolSolutions to 103\n",
      "   Prev: 10  Min: 1  Max: 2000000000  Default: 10\n",
      "Changed value of parameter PoolSearchMode to 1\n",
      "   Prev: 0  Min: 0  Max: 2  Default: 0\n",
      "OBJ: 40000.07623241529\n",
      "The optimal solution is: [0.20965336703899928, 0.11317127587201095, 0.6000000000024858, 0.08296182913181838, -1.8189894035458565e-12, 0.4190569731252991, 1.0, 1.0, -0.0, -0.0, 1.0, 1.0, 1.0]\n"
     ]
    },
    {
     "data": {
      "text/plain": "      validity  cat_prox     cont_prox  sparsity  cat_diver    cont_diver  \\\nmean  0.989000  0.993667 -16083.432333  0.865000   0.005000   8635.841500   \nstd   0.060249  0.026844  28605.389024  0.060615   0.022361  11448.861246   \n\n      cont_count_divers  \nmean           0.132500  \nstd            0.061462  ",
      "text/html": "<div>\n<style scoped>\n    .dataframe tbody tr th:only-of-type {\n        vertical-align: middle;\n    }\n\n    .dataframe tbody tr th {\n        vertical-align: top;\n    }\n\n    .dataframe thead th {\n        text-align: right;\n    }\n</style>\n<table border=\"1\" class=\"dataframe\">\n  <thead>\n    <tr style=\"text-align: right;\">\n      <th></th>\n      <th>validity</th>\n      <th>cat_prox</th>\n      <th>cont_prox</th>\n      <th>sparsity</th>\n      <th>cat_diver</th>\n      <th>cont_diver</th>\n      <th>cont_count_divers</th>\n    </tr>\n  </thead>\n  <tbody>\n    <tr>\n      <th>mean</th>\n      <td>0.989000</td>\n      <td>0.993667</td>\n      <td>-16083.432333</td>\n      <td>0.865000</td>\n      <td>0.005000</td>\n      <td>8635.841500</td>\n      <td>0.132500</td>\n    </tr>\n    <tr>\n      <th>std</th>\n      <td>0.060249</td>\n      <td>0.026844</td>\n      <td>28605.389024</td>\n      <td>0.060615</td>\n      <td>0.022361</td>\n      <td>11448.861246</td>\n      <td>0.061462</td>\n    </tr>\n  </tbody>\n</table>\n</div>"
     },
     "execution_count": 149,
     "metadata": {},
     "output_type": "execute_result"
    }
   ],
   "source": [
    "df_performance = pd.DataFrame()\n",
    "eval_final = pd.DataFrame(columns=['validity', 'cat_prox', 'cont_prox', 'sparsity', 'cat_diver',\n",
    "       'cont_diver', 'cont_count_divers'])\n",
    "\n",
    "for u_index in range(len(df_factuals)):\n",
    "# for u_index in range(4):\n",
    "    print('u_index: %i' % u_index)\n",
    "    u = df_factuals.drop(target,axis=1).iloc[u_index,:]\n",
    "\n",
    "    CEs, CEs_, final_model = ce_helpers.opt(X, X1, u, numerical, F_b, F_int, F_coh, I, L, Pers_I, P, sp, mu,\n",
    "                           tr_region, enlarge_tr, num_counterfactuals, model_master, scaler)\n",
    "\n",
    "    CEs_[target] = clf.predict(CEs.drop('scaled_distance', axis=1))\n",
    "    df_dummies, df_orig = DS.recreate_orig(CEs_, d, encoder)\n",
    "\n",
    "    df_performance_1 = ce_helpers.evaluation(clf, df_orig.drop(target,axis=1), numerical, categorical, rounding=True, CEs_=CEs)\n",
    "\n",
    "    df_performance = df_performance.append(df_performance_1)\n",
    "\n",
    "eval_final.loc['mean'] = np.array(df_performance.mean())\n",
    "eval_final.loc['std'] = np.array(df_performance.std())\n",
    "\n",
    "eval_final"
   ],
   "metadata": {
    "collapsed": false,
    "pycharm": {
     "name": "#%%\n"
    }
   }
  },
  {
   "cell_type": "code",
   "execution_count": null,
   "outputs": [],
   "source": [
    "eval_final.round(2)"
   ],
   "metadata": {
    "collapsed": false,
    "pycharm": {
     "name": "#%%\n"
    }
   }
  },
  {
   "cell_type": "markdown",
   "source": [
    "---\n",
    "\n",
    "# for just one factual"
   ],
   "metadata": {
    "collapsed": false,
    "pycharm": {
     "name": "#%% md\n"
    }
   }
  },
  {
   "cell_type": "code",
   "execution_count": 87,
   "outputs": [
    {
     "name": "stdout",
     "output_type": "stream",
     "text": [
      "Generating constraints for the trust region using 107686 samples.\n",
      "The trust region is not being enlarged.\n",
      "... Trust region defined.\n",
      "Embedding constraints for counterfactual_give_me_some_credit\n",
      "Changed value of parameter PoolSolutions to 103\n",
      "   Prev: 10  Min: 1  Max: 2000000000  Default: 10\n",
      "Changed value of parameter PoolSearchMode to 1\n",
      "   Prev: 0  Min: 0  Max: 2  Default: 0\n",
      "OBJ: 10000.022499699331\n",
      "The optimal solution is: [0.001129723000000027, 0.9178082190000001, 0.19999999999999996, 0.0011747739999999895, 0.05210050300000002, 0.416666667, 0.15000100223369373, 0.0, 0.125, 0.0]\n"
     ]
    }
   ],
   "source": [
    "CEs, CEs_, final_model = ce_helpers.opt(X, X1, u, numerical, F_b, F_int, F_coh, I, L, Pers_I, P, sp, mu,\n",
    "                           tr_region, enlarge_tr, num_counterfactuals, model_master, scaler)"
   ],
   "metadata": {
    "collapsed": false,
    "pycharm": {
     "name": "#%%\n"
    }
   }
  },
  {
   "cell_type": "markdown",
   "source": [
    "## Inspect and Visualise"
   ],
   "metadata": {
    "collapsed": false,
    "pycharm": {
     "name": "#%% md\n"
    }
   }
  },
  {
   "cell_type": "markdown",
   "source": [
    "We create df_dummies and df_orig.\n",
    "\n",
    "The model trained by CARLA uses one-hot encoding and drops the reference categories from the df. Hence, we have only sex_Male in the dataframe, but not sex_Female. df_dummies includes all dummy variables, and df_orig is a dataframe that is mapped back into the original input space. So in df_orig, we have a variable 'sex' with values 'Male' and 'Female', instead of dummy variables.\n",
    "\n",
    "We can use df_orig to visualise our counterfactuals."
   ],
   "metadata": {
    "collapsed": false
   }
  },
  {
   "cell_type": "code",
   "execution_count": 88,
   "outputs": [],
   "source": [
    "CEs_[target] = clf.predict(CEs.drop('scaled_distance', axis=1))\n",
    "df_dummies, df_orig = DS.recreate_orig(CEs_, d, encoder)"
   ],
   "metadata": {
    "collapsed": false,
    "pycharm": {
     "name": "#%%\n"
    }
   }
  },
  {
   "cell_type": "code",
   "execution_count": 89,
   "outputs": [
    {
     "data": {
      "text/plain": "         RevolvingUtilizationOfUnsecuredLines      age  \\\noriginal                               0.8481  87.9994   \nsol0                                        -        -   \nsol1                                        -        -   \nsol2                                   0.6939        -   \n\n         NumberOfTime30-59DaysPastDueNotWorse DebtRatio MonthlyIncome  \\\noriginal                                  2.0    1.5588      2591.975   \nsol0                                        -         -             -   \nsol1                                        -         -             -   \nsol2                                        -         -             -   \n\n         NumberOfOpenCreditLinesAndLoans  NumberOfTimes90DaysLate  \\\noriginal                         10.0008                      3.0   \nsol0                                   -                      1.5   \nsol1                                   -                      0.5   \nsol2                                   -                      2.5   \n\n         NumberRealEstateLoansOrLines NumberOfTime60-89DaysPastDueNotWorse  \\\noriginal                          0.0                                  1.0   \nsol0                                -                                    -   \nsol1                                -                                    -   \nsol2                                -                                    -   \n\n         NumberOfDependents SeriousDlqin2yrs  \noriginal                0.0                0  \nsol0                      -                -  \nsol1                      -              1.0  \nsol2                      -                -  ",
      "text/html": "<div>\n<style scoped>\n    .dataframe tbody tr th:only-of-type {\n        vertical-align: middle;\n    }\n\n    .dataframe tbody tr th {\n        vertical-align: top;\n    }\n\n    .dataframe thead th {\n        text-align: right;\n    }\n</style>\n<table border=\"1\" class=\"dataframe\">\n  <thead>\n    <tr style=\"text-align: right;\">\n      <th></th>\n      <th>RevolvingUtilizationOfUnsecuredLines</th>\n      <th>age</th>\n      <th>NumberOfTime30-59DaysPastDueNotWorse</th>\n      <th>DebtRatio</th>\n      <th>MonthlyIncome</th>\n      <th>NumberOfOpenCreditLinesAndLoans</th>\n      <th>NumberOfTimes90DaysLate</th>\n      <th>NumberRealEstateLoansOrLines</th>\n      <th>NumberOfTime60-89DaysPastDueNotWorse</th>\n      <th>NumberOfDependents</th>\n      <th>SeriousDlqin2yrs</th>\n    </tr>\n  </thead>\n  <tbody>\n    <tr>\n      <th>original</th>\n      <td>0.8481</td>\n      <td>87.9994</td>\n      <td>2.0</td>\n      <td>1.5588</td>\n      <td>2591.975</td>\n      <td>10.0008</td>\n      <td>3.0</td>\n      <td>0.0</td>\n      <td>1.0</td>\n      <td>0.0</td>\n      <td>0</td>\n    </tr>\n    <tr>\n      <th>sol0</th>\n      <td>-</td>\n      <td>-</td>\n      <td>-</td>\n      <td>-</td>\n      <td>-</td>\n      <td>-</td>\n      <td>1.5</td>\n      <td>-</td>\n      <td>-</td>\n      <td>-</td>\n      <td>-</td>\n    </tr>\n    <tr>\n      <th>sol1</th>\n      <td>-</td>\n      <td>-</td>\n      <td>-</td>\n      <td>-</td>\n      <td>-</td>\n      <td>-</td>\n      <td>0.5</td>\n      <td>-</td>\n      <td>-</td>\n      <td>-</td>\n      <td>1.0</td>\n    </tr>\n    <tr>\n      <th>sol2</th>\n      <td>0.6939</td>\n      <td>-</td>\n      <td>-</td>\n      <td>-</td>\n      <td>-</td>\n      <td>-</td>\n      <td>2.5</td>\n      <td>-</td>\n      <td>-</td>\n      <td>-</td>\n      <td>-</td>\n    </tr>\n  </tbody>\n</table>\n</div>"
     },
     "execution_count": 89,
     "metadata": {},
     "output_type": "execute_result"
    }
   ],
   "source": [
    "ce_helpers.visualise_changes(df_orig)"
   ],
   "metadata": {
    "collapsed": false,
    "pycharm": {
     "name": "#%%\n"
    }
   }
  },
  {
   "cell_type": "markdown",
   "source": [
    "## Evaluation"
   ],
   "metadata": {
    "collapsed": false
   }
  },
  {
   "cell_type": "code",
   "execution_count": 90,
   "outputs": [
    {
     "data": {
      "text/plain": "   validity cat_prox  cont_prox  sparsity cat_diver  cont_diver  \\\n0      0.33     None      -1.55      0.87      None        1.44   \n\n   cont_count_divers  \n0               0.17  ",
      "text/html": "<div>\n<style scoped>\n    .dataframe tbody tr th:only-of-type {\n        vertical-align: middle;\n    }\n\n    .dataframe tbody tr th {\n        vertical-align: top;\n    }\n\n    .dataframe thead th {\n        text-align: right;\n    }\n</style>\n<table border=\"1\" class=\"dataframe\">\n  <thead>\n    <tr style=\"text-align: right;\">\n      <th></th>\n      <th>validity</th>\n      <th>cat_prox</th>\n      <th>cont_prox</th>\n      <th>sparsity</th>\n      <th>cat_diver</th>\n      <th>cont_diver</th>\n      <th>cont_count_divers</th>\n    </tr>\n  </thead>\n  <tbody>\n    <tr>\n      <th>0</th>\n      <td>0.33</td>\n      <td>None</td>\n      <td>-1.55</td>\n      <td>0.87</td>\n      <td>None</td>\n      <td>1.44</td>\n      <td>0.17</td>\n    </tr>\n  </tbody>\n</table>\n</div>"
     },
     "execution_count": 90,
     "metadata": {},
     "output_type": "execute_result"
    }
   ],
   "source": [
    "df_performance = ce_helpers.evaluation(clf, df_orig.drop(target,axis=1), numerical, categorical, rounding=True, CEs_=CEs)\n",
    "df_performance"
   ],
   "metadata": {
    "collapsed": false,
    "pycharm": {
     "name": "#%%\n"
    }
   }
  }
 ],
 "metadata": {
  "kernelspec": {
   "display_name": "Python 3",
   "language": "python",
   "name": "python3"
  },
  "language_info": {
   "codemirror_mode": {
    "name": "ipython",
    "version": 2
   },
   "file_extension": ".py",
   "mimetype": "text/x-python",
   "name": "python",
   "nbconvert_exporter": "python",
   "pygments_lexer": "ipython2",
   "version": "2.7.6"
  }
 },
 "nbformat": 4,
 "nbformat_minor": 0
}