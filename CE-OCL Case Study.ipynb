{
 "cells": [
  {
   "cell_type": "markdown",
   "id": "ff8cca34",
   "metadata": {},
   "source": [
    "# CE-OCL Case Study"
   ]
  },
  {
   "cell_type": "code",
   "execution_count": 148,
   "id": "34244cb5",
   "metadata": {},
   "outputs": [],
   "source": [
    "import warnings\n",
    "warnings.filterwarnings(\"ignore\")\n",
    "import numpy as np\n",
    "import pandas as pd\n",
    "import opticl as oc\n",
    "import ce_helpers\n",
    "import os"
   ]
  },
  {
   "cell_type": "markdown",
   "source": [
    "## Preparation"
   ],
   "metadata": {
    "collapsed": false
   }
  },
  {
   "cell_type": "markdown",
   "id": "6c0f72a5",
   "metadata": {},
   "source": [
    "### Data prep"
   ]
  },
  {
   "cell_type": "markdown",
   "id": "d2b2dcd5-4c2c-42ab-b62e-dfac74e34e16",
   "metadata": {},
   "source": [
    "The (preprocessed) data can be downloaded from: https://datahub.io/machine-learning/credit-g"
   ]
  },
  {
   "cell_type": "code",
   "execution_count": 149,
   "outputs": [],
   "source": [
    "# model to use: either svm, linear, mlp, rf\n",
    "alg = 'mlp'"
   ],
   "metadata": {
    "collapsed": false,
    "pycharm": {
     "name": "#%%\n"
    }
   }
  },
  {
   "cell_type": "code",
   "execution_count": 150,
   "id": "e62427fb",
   "metadata": {},
   "outputs": [
    {
     "data": {
      "text/plain": "  checking_status  duration                  credit_history  \\\n0              <0         6  critical/other existing credit   \n1        0<=X<200        48                   existing paid   \n2     no checking        12  critical/other existing credit   \n3              <0        42                   existing paid   \n4              <0        24              delayed previously   \n\n               purpose  credit_amount    savings_status employment  \\\n0             radio/tv           1169  no known savings        >=7   \n1             radio/tv           5951              <100     1<=X<4   \n2            education           2096              <100     4<=X<7   \n3  furniture/equipment           7882              <100     4<=X<7   \n4              new car           4870              <100     1<=X<4   \n\n   installment_commitment     personal_status other_parties  ...  \\\n0                       4         male single          none  ...   \n1                       2  female div/dep/mar          none  ...   \n2                       2         male single          none  ...   \n3                       2         male single     guarantor  ...   \n4                       3         male single          none  ...   \n\n   property_magnitude age  other_payment_plans   housing existing_credits  \\\n0         real estate  67                 none       own                2   \n1         real estate  22                 none       own                1   \n2         real estate  49                 none       own                1   \n3      life insurance  45                 none  for free                1   \n4   no known property  53                 none  for free                2   \n\n                  job num_dependents  own_telephone foreign_worker class  \n0             skilled              1            yes            yes     1  \n1             skilled              1           none            yes     0  \n2  unskilled resident              2           none            yes     1  \n3             skilled              2           none            yes     1  \n4             skilled              2           none            yes     0  \n\n[5 rows x 21 columns]",
      "text/html": "<div>\n<style scoped>\n    .dataframe tbody tr th:only-of-type {\n        vertical-align: middle;\n    }\n\n    .dataframe tbody tr th {\n        vertical-align: top;\n    }\n\n    .dataframe thead th {\n        text-align: right;\n    }\n</style>\n<table border=\"1\" class=\"dataframe\">\n  <thead>\n    <tr style=\"text-align: right;\">\n      <th></th>\n      <th>checking_status</th>\n      <th>duration</th>\n      <th>credit_history</th>\n      <th>purpose</th>\n      <th>credit_amount</th>\n      <th>savings_status</th>\n      <th>employment</th>\n      <th>installment_commitment</th>\n      <th>personal_status</th>\n      <th>other_parties</th>\n      <th>...</th>\n      <th>property_magnitude</th>\n      <th>age</th>\n      <th>other_payment_plans</th>\n      <th>housing</th>\n      <th>existing_credits</th>\n      <th>job</th>\n      <th>num_dependents</th>\n      <th>own_telephone</th>\n      <th>foreign_worker</th>\n      <th>class</th>\n    </tr>\n  </thead>\n  <tbody>\n    <tr>\n      <th>0</th>\n      <td>&lt;0</td>\n      <td>6</td>\n      <td>critical/other existing credit</td>\n      <td>radio/tv</td>\n      <td>1169</td>\n      <td>no known savings</td>\n      <td>&gt;=7</td>\n      <td>4</td>\n      <td>male single</td>\n      <td>none</td>\n      <td>...</td>\n      <td>real estate</td>\n      <td>67</td>\n      <td>none</td>\n      <td>own</td>\n      <td>2</td>\n      <td>skilled</td>\n      <td>1</td>\n      <td>yes</td>\n      <td>yes</td>\n      <td>1</td>\n    </tr>\n    <tr>\n      <th>1</th>\n      <td>0&lt;=X&lt;200</td>\n      <td>48</td>\n      <td>existing paid</td>\n      <td>radio/tv</td>\n      <td>5951</td>\n      <td>&lt;100</td>\n      <td>1&lt;=X&lt;4</td>\n      <td>2</td>\n      <td>female div/dep/mar</td>\n      <td>none</td>\n      <td>...</td>\n      <td>real estate</td>\n      <td>22</td>\n      <td>none</td>\n      <td>own</td>\n      <td>1</td>\n      <td>skilled</td>\n      <td>1</td>\n      <td>none</td>\n      <td>yes</td>\n      <td>0</td>\n    </tr>\n    <tr>\n      <th>2</th>\n      <td>no checking</td>\n      <td>12</td>\n      <td>critical/other existing credit</td>\n      <td>education</td>\n      <td>2096</td>\n      <td>&lt;100</td>\n      <td>4&lt;=X&lt;7</td>\n      <td>2</td>\n      <td>male single</td>\n      <td>none</td>\n      <td>...</td>\n      <td>real estate</td>\n      <td>49</td>\n      <td>none</td>\n      <td>own</td>\n      <td>1</td>\n      <td>unskilled resident</td>\n      <td>2</td>\n      <td>none</td>\n      <td>yes</td>\n      <td>1</td>\n    </tr>\n    <tr>\n      <th>3</th>\n      <td>&lt;0</td>\n      <td>42</td>\n      <td>existing paid</td>\n      <td>furniture/equipment</td>\n      <td>7882</td>\n      <td>&lt;100</td>\n      <td>4&lt;=X&lt;7</td>\n      <td>2</td>\n      <td>male single</td>\n      <td>guarantor</td>\n      <td>...</td>\n      <td>life insurance</td>\n      <td>45</td>\n      <td>none</td>\n      <td>for free</td>\n      <td>1</td>\n      <td>skilled</td>\n      <td>2</td>\n      <td>none</td>\n      <td>yes</td>\n      <td>1</td>\n    </tr>\n    <tr>\n      <th>4</th>\n      <td>&lt;0</td>\n      <td>24</td>\n      <td>delayed previously</td>\n      <td>new car</td>\n      <td>4870</td>\n      <td>&lt;100</td>\n      <td>1&lt;=X&lt;4</td>\n      <td>3</td>\n      <td>male single</td>\n      <td>none</td>\n      <td>...</td>\n      <td>no known property</td>\n      <td>53</td>\n      <td>none</td>\n      <td>for free</td>\n      <td>2</td>\n      <td>skilled</td>\n      <td>2</td>\n      <td>none</td>\n      <td>yes</td>\n      <td>0</td>\n    </tr>\n  </tbody>\n</table>\n<p>5 rows × 21 columns</p>\n</div>"
     },
     "execution_count": 150,
     "metadata": {},
     "output_type": "execute_result"
    }
   ],
   "source": [
    "dataset_name = 'german_credit'\n",
    "df = pd.read_csv('./data/credit-g_csv.csv')\n",
    "\n",
    "# recode class to 0 and 1\n",
    "recode = {\"class\": {\"bad\": 0, \"good\": 1}}\n",
    "df = df.replace(recode)\n",
    "\n",
    "df.head()"
   ]
  },
  {
   "cell_type": "code",
   "execution_count": 151,
   "id": "df74bc88",
   "metadata": {},
   "outputs": [],
   "source": [
    "# outcome variable\n",
    "target = 'class'\n",
    "\n",
    "# continuous features\n",
    "numerical = ['duration', 'credit_amount', 'installment_commitment', 'age',\n",
    "             'residence_since', 'existing_credits', 'num_dependents']\n",
    "\n",
    "# integer features\n",
    "# F_int = ['age', 'num_dependents', 'existing_credits', 'residence_since', 'duration']\n",
    "F_int = ['num_dependents', 'existing_credits', 'residence_since']\n",
    "# F_int = []"
   ]
  },
  {
   "cell_type": "code",
   "execution_count": 152,
   "id": "9af182d7",
   "metadata": {},
   "outputs": [],
   "source": [
    "X = df.drop(target, axis=1)\n",
    "y = df[target]\n",
    "\n",
    "X, X_train, X_test, y_train, y_test, F_b, data_pip = ce_helpers.prep_data(X, y, numerical,\n",
    "                                                             one_hot_encoding = True, scaling = True)\n"
   ]
  },
  {
   "cell_type": "markdown",
   "id": "4e9f6842",
   "metadata": {},
   "source": [
    "### Train predictive models"
   ]
  },
  {
   "cell_type": "code",
   "execution_count": 153,
   "id": "59e07105",
   "metadata": {},
   "outputs": [
    {
     "name": "stdout",
     "output_type": "stream",
     "text": [
      "Learning a constraint for counterfactual_german\n",
      "Training mlp\n",
      "------------- Initialize grid  ----------------\n",
      "------------- Running model  ----------------\n",
      "Algorithm = mlp, metric = None\n",
      "saving... results/mlp_counterfactual_german_trained.pkl\n",
      "------------- Model evaluation  ----------------\n",
      "-------------------training evaluation-----------------------\n",
      "Train Score: 1.0\n",
      "-------------------testing evaluation-----------------------\n",
      "Test Score: 0.6924404761904761\n",
      "\n",
      "Learning a constraint for duration\n",
      "Training mlp\n",
      "------------- Initialize grid  ----------------\n",
      "------------- Running model  ----------------\n",
      "Algorithm = mlp, metric = None\n",
      "saving... results/mlp_duration_trained.pkl\n",
      "------------- Model evaluation  ----------------\n",
      "-------------------training evaluation-----------------------\n",
      "Train MSE: 0.01739157551354364\n",
      "Train R2: 0.44060188793999855\n",
      "-------------------testing evaluation-----------------------\n",
      "Test MSE: 0.020288389477880774\n",
      "Test R2: 0.3799990633454411\n",
      "\n",
      "Saving the performance...\n",
      "Done!\n"
     ]
    },
    {
     "data": {
      "text/plain": "                                           save_path  seed  cv_folds  \\\n0  results/mlp/german_credit_v1_counterfactual_ge...     0         5   \n1    results/mlp/german_credit_v1_duration_model.csv     0         5   \n\n                                          parameters  \\\n0  {'hidden_layer_sizes': [(10,), (20,), (50,), (...   \n1  {'hidden_layer_sizes': [(10,), (20,), (50,), (...   \n\n                      best_params  valid_score  train_score  test_score  \\\n0  {'hidden_layer_sizes': (100,)}     0.678274     1.000000    0.692440   \n1  {'hidden_layer_sizes': (100,)}    -0.017651     0.017392    0.020288   \n\n                 outcome  alg        task  \n0  counterfactual_german  mlp      binary  \n1               duration  mlp  continuous  ",
      "text/html": "<div>\n<style scoped>\n    .dataframe tbody tr th:only-of-type {\n        vertical-align: middle;\n    }\n\n    .dataframe tbody tr th {\n        vertical-align: top;\n    }\n\n    .dataframe thead th {\n        text-align: right;\n    }\n</style>\n<table border=\"1\" class=\"dataframe\">\n  <thead>\n    <tr style=\"text-align: right;\">\n      <th></th>\n      <th>save_path</th>\n      <th>seed</th>\n      <th>cv_folds</th>\n      <th>parameters</th>\n      <th>best_params</th>\n      <th>valid_score</th>\n      <th>train_score</th>\n      <th>test_score</th>\n      <th>outcome</th>\n      <th>alg</th>\n      <th>task</th>\n    </tr>\n  </thead>\n  <tbody>\n    <tr>\n      <th>0</th>\n      <td>results/mlp/german_credit_v1_counterfactual_ge...</td>\n      <td>0</td>\n      <td>5</td>\n      <td>{'hidden_layer_sizes': [(10,), (20,), (50,), (...</td>\n      <td>{'hidden_layer_sizes': (100,)}</td>\n      <td>0.678274</td>\n      <td>1.000000</td>\n      <td>0.692440</td>\n      <td>counterfactual_german</td>\n      <td>mlp</td>\n      <td>binary</td>\n    </tr>\n    <tr>\n      <th>1</th>\n      <td>results/mlp/german_credit_v1_duration_model.csv</td>\n      <td>0</td>\n      <td>5</td>\n      <td>{'hidden_layer_sizes': [(10,), (20,), (50,), (...</td>\n      <td>{'hidden_layer_sizes': (100,)}</td>\n      <td>-0.017651</td>\n      <td>0.017392</td>\n      <td>0.020288</td>\n      <td>duration</td>\n      <td>mlp</td>\n      <td>continuous</td>\n    </tr>\n  </tbody>\n</table>\n</div>"
     },
     "execution_count": 153,
     "metadata": {},
     "output_type": "execute_result"
    }
   ],
   "source": [
    "version = dataset_name+'_v1'\n",
    "alg_list_cf = [alg]\n",
    "#alg_list_dr = ['mlp', 'linear', 'svm', 'rf']\n",
    "alg_list_dr = ['mlp']\n",
    "\n",
    "outcome_dict = {'counterfactual_german':{'task': 'binary', 'X features': X_train.columns, \n",
    "                                        'class': target, 'alg_list': alg_list_cf,\n",
    "                                        'X_train':X_train, 'X_test':X_test,\n",
    "                                        'y_train':y_train, 'y_test':y_test},\n",
    "               'duration':{'task': 'continuous', 'X features': ['credit_amount'], \n",
    "                           'class': 'duration', 'alg_list': alg_list_dr,\n",
    "                           'X_train':X_train, 'X_test':X_test,\n",
    "                           'y_train':X_train['duration'], 'y_test':X_test['duration']}}\n",
    "\n",
    "## uncomment if models should be trained\n",
    "ce_helpers.train_models(outcome_dict, version)\n",
    "\n",
    "performance = ce_helpers.perf_trained_models(version, outcome_dict)\n",
    "performance"
   ]
  },
  {
   "cell_type": "code",
   "execution_count": 154,
   "id": "b579ef69",
   "metadata": {},
   "outputs": [],
   "source": [
    "# load models\n",
    "algorithms = {'counterfactual_german':alg,\n",
    "             'duration':'mlp'}\n",
    "y_pred, y_pred_0, X_test_0, models = ce_helpers.load_model(algorithms, outcome_dict, 'counterfactual_german')  # it should be X_test instead of X\n",
    "\n",
    "X_test_0.head()\n",
    "clf = models['counterfactual_german']\n",
    "clf_Duration = models['duration']\n",
    "#clf.intercept_, clf.coef_  #check it"
   ]
  },
  {
   "cell_type": "code",
   "execution_count": 155,
   "id": "26dbff48",
   "metadata": {},
   "outputs": [],
   "source": [
    "## for coherence\n",
    "F_r = numerical\n",
    "categorical = df.columns.difference(numerical + [target])\n",
    "\n",
    "F_coh = {}\n",
    "for f in categorical:\n",
    "    F_coh[f] = [i for i in list(X_train.columns.difference(numerical + [target])) if i.startswith('%s_' % f)]"
   ]
  },
  {
   "cell_type": "code",
   "execution_count": 156,
   "outputs": [
    {
     "data": {
      "text/plain": "Index(['checking_status', 'credit_history', 'employment', 'foreign_worker',\n       'housing', 'job', 'other_parties', 'other_payment_plans',\n       'own_telephone', 'personal_status', 'property_magnitude', 'purpose',\n       'savings_status'],\n      dtype='object')"
     },
     "execution_count": 156,
     "metadata": {},
     "output_type": "execute_result"
    }
   ],
   "source": [
    "categorical"
   ],
   "metadata": {
    "collapsed": false,
    "pycharm": {
     "name": "#%%\n"
    }
   }
  },
  {
   "cell_type": "markdown",
   "id": "dde27f15",
   "metadata": {},
   "source": [
    "### Prep for Optimization"
   ]
  },
  {
   "cell_type": "markdown",
   "id": "eaf3f2fd",
   "metadata": {},
   "source": [
    "Define how the counterfactual constraint should look like."
   ]
  },
  {
   "cell_type": "code",
   "execution_count": 157,
   "id": "1da3fac8",
   "metadata": {},
   "outputs": [],
   "source": [
    "algorithm = algorithms['counterfactual_german']\n",
    "SCM_algo = algorithms['duration']\n",
    "constraints_embed = ['counterfactual_german']\n",
    "objectives_embed = {}"
   ]
  },
  {
   "cell_type": "code",
   "execution_count": 158,
   "id": "97036884",
   "metadata": {},
   "outputs": [
    {
     "name": "stdout",
     "output_type": "stream",
     "text": [
      "                 outcome model_type  \\\n",
      "0  counterfactual_german        mlp   \n",
      "\n",
      "                                           save_path    task  objective  \n",
      "0  results/mlp/german_credit_v1_counterfactual_ge...  binary          0  \n"
     ]
    },
    {
     "data": {
      "text/plain": "                 outcome model_type  \\\n0  counterfactual_german        mlp   \n\n                                           save_path    task  objective   lb  \\\n0  results/mlp/german_credit_v1_counterfactual_ge...  binary          0  0.5   \n\n     ub SCM_counterfactuals                                           features  \n0  None                None  [checking_status_0<=X<200, checking_status_<0,...  ",
      "text/html": "<div>\n<style scoped>\n    .dataframe tbody tr th:only-of-type {\n        vertical-align: middle;\n    }\n\n    .dataframe tbody tr th {\n        vertical-align: top;\n    }\n\n    .dataframe thead th {\n        text-align: right;\n    }\n</style>\n<table border=\"1\" class=\"dataframe\">\n  <thead>\n    <tr style=\"text-align: right;\">\n      <th></th>\n      <th>outcome</th>\n      <th>model_type</th>\n      <th>save_path</th>\n      <th>task</th>\n      <th>objective</th>\n      <th>lb</th>\n      <th>ub</th>\n      <th>SCM_counterfactuals</th>\n      <th>features</th>\n    </tr>\n  </thead>\n  <tbody>\n    <tr>\n      <th>0</th>\n      <td>counterfactual_german</td>\n      <td>mlp</td>\n      <td>results/mlp/german_credit_v1_counterfactual_ge...</td>\n      <td>binary</td>\n      <td>0</td>\n      <td>0.5</td>\n      <td>None</td>\n      <td>None</td>\n      <td>[checking_status_0&lt;=X&lt;200, checking_status_&lt;0,...</td>\n    </tr>\n  </tbody>\n</table>\n</div>"
     },
     "execution_count": 158,
     "metadata": {},
     "output_type": "execute_result"
    }
   ],
   "source": [
    "model_master = oc.model_selection(performance[performance['alg']==algorithm], constraints_embed, objectives_embed)\n",
    "model_master['lb'] = 0.5  # this can be changed but it is generally equal to 0.5\n",
    "model_master['ub'] = None\n",
    "model_master['SCM_counterfactuals'] = None\n",
    "model_master['features'] = [[col for col in X.columns]]\n",
    "model_master"
   ]
  },
  {
   "cell_type": "markdown",
   "id": "e2883add",
   "metadata": {},
   "source": [
    "X1: points in X that have 1 as label. They will be used as trust region"
   ]
  },
  {
   "cell_type": "code",
   "execution_count": 159,
   "id": "9754a286",
   "metadata": {},
   "outputs": [],
   "source": [
    "y_ix_1 = np.where(y==1)\n",
    "#X1 = pd.concat([X_train,X_test]).iloc[y_ix_1[0],:].copy().reset_index(drop=True, inplace=False)\n",
    "X1 = X.iloc[y_ix_1[0],:].copy().reset_index(drop=True, inplace=False)"
   ]
  },
  {
   "cell_type": "markdown",
   "id": "690651fc",
   "metadata": {},
   "source": [
    "### Factual instance"
   ]
  },
  {
   "cell_type": "code",
   "execution_count": 160,
   "id": "2a6f04f0",
   "metadata": {},
   "outputs": [
    {
     "name": "stdout",
     "output_type": "stream",
     "text": [
      "checking_status_0<=X<200       0.000000\n",
      "checking_status_<0             1.000000\n",
      "checking_status_>=200          0.000000\n",
      "checking_status_no checking    0.000000\n",
      "credit_history_all paid        0.000000\n",
      "                                 ...   \n",
      "installment_commitment         1.000000\n",
      "age                            0.107143\n",
      "residence_since                1.000000\n",
      "existing_credits               0.000000\n",
      "num_dependents                 0.000000\n",
      "Name: 775, Length: 61, dtype: float64\n",
      "predicted label: 0\n"
     ]
    }
   ],
   "source": [
    "# My sample\n",
    "# mlp: 1, 5, 13, 15!!, 17\n",
    "# gbm: 7 (cart for SCM)\n",
    "\n",
    "u_index = 2\n",
    "u = X_test_0.iloc[u_index,:]\n",
    "print(u)\n",
    "print('predicted label: %d' % (clf.predict([u])))"
   ]
  },
  {
   "cell_type": "markdown",
   "id": "74f9c782",
   "metadata": {},
   "source": [
    "## Part A: validity, proximity"
   ]
  },
  {
   "cell_type": "code",
   "execution_count": 161,
   "id": "1274c6fc",
   "metadata": {},
   "outputs": [],
   "source": [
    "sp = False\n",
    "mu = 0\n",
    "tr_region = False\n",
    "enlarge_tr = False\n",
    "num_counterfactuals = 1"
   ]
  },
  {
   "cell_type": "code",
   "execution_count": 162,
   "id": "a0093c4a",
   "metadata": {},
   "outputs": [],
   "source": [
    "# features that can only increase (become larger)\n",
    "L = []\n",
    "\n",
    "# immutable features\n",
    "I = []\n",
    "\n",
    "# conditionally mutable features\n",
    "Pers_I = []\n",
    "\n",
    "P = []"
   ]
  },
  {
   "cell_type": "markdown",
   "id": "caf3a0e1",
   "metadata": {},
   "source": [
    "### Optimization"
   ]
  },
  {
   "cell_type": "code",
   "execution_count": 163,
   "id": "56df059f",
   "metadata": {},
   "outputs": [
    {
     "name": "stdout",
     "output_type": "stream",
     "text": [
      "Embedding constraints for counterfactual_german\n",
      "['checking_status_0<=X<200', 'checking_status_<0', 'checking_status_>=200', 'checking_status_no checking', 'credit_history_all paid', 'credit_history_critical/other existing credit', 'credit_history_delayed previously', 'credit_history_existing paid', 'credit_history_no credits/all paid', 'employment_1<=X<4', 'employment_4<=X<7', 'employment_<1', 'employment_>=7', 'employment_unemployed', 'foreign_worker_no', 'foreign_worker_yes', 'housing_for free', 'housing_own', 'housing_rent', 'job_high qualif/self emp/mgmt', 'job_skilled', 'job_unemp/unskilled non res', 'job_unskilled resident', 'other_parties_co applicant', 'other_parties_guarantor', 'other_parties_none', 'other_payment_plans_bank', 'other_payment_plans_none', 'other_payment_plans_stores', 'own_telephone_none', 'own_telephone_yes', 'personal_status_female div/dep/mar', 'personal_status_male div/sep', 'personal_status_male mar/wid', 'personal_status_male single', 'property_magnitude_car', 'property_magnitude_life insurance', 'property_magnitude_no known property', 'property_magnitude_real estate', 'purpose_business', 'purpose_domestic appliance', 'purpose_education', 'purpose_furniture/equipment', 'purpose_new car', 'purpose_other', 'purpose_radio/tv', 'purpose_repairs', 'purpose_retraining', 'purpose_used car', 'savings_status_100<=X<500', 'savings_status_500<=X<1000', 'savings_status_<100', 'savings_status_>=1000', 'savings_status_no known savings', 'duration', 'credit_amount', 'installment_commitment', 'age', 'residence_since', 'existing_credits', 'num_dependents']\n",
      "Changed value of parameter PoolSolutions to 101\n",
      "   Prev: 10  Min: 1  Max: 2000000000  Default: 10\n",
      "Changed value of parameter PoolSearchMode to 1\n",
      "   Prev: 0  Min: 0  Max: 2  Default: 0\n",
      "OBJ: 0.5063228690177208\n",
      "The optimal solution is: [-0.0, 1.0, -0.0, -0.0, -0.0, -0.0, -0.0, 1.0, -0.0, 1.0, -0.0, -0.0, -0.0, -0.0, -0.0, 1.0, -0.0, 0.0, 1.0, -0.0, 1.0, -0.0, -0.0, -0.0, -0.0, 1.0, -0.0, 1.0, -0.0, 1.0, 0.0, 1.0, -0.0, -0.0, -0.0, -0.0, -0.0, -0.0, 1.0, -0.0, 0.0, -0.0, -0.0, 1.0, -0.0, -0.0, -0.0, -0.0, -0.0, -0.0, -0.0, -0.0, -0.0, 1.0, 0.2941176470588235, -0.4828194751873128, 0.5518453257653926, 0.10714285714285715, 1.0, -0.0, -0.0]\n"
     ]
    }
   ],
   "source": [
    "CEs, CEs_, final_model = ce_helpers.opt(X, X1, u, F_r, F_b, F_int, F_coh, I, L, Pers_I, P, \n",
    "                                        sp, mu, tr_region, enlarge_tr, num_counterfactuals, model_master, data_pip)"
   ]
  },
  {
   "cell_type": "markdown",
   "id": "a9a3c4a0",
   "metadata": {},
   "source": [
    "### Visualize DF"
   ]
  },
  {
   "cell_type": "code",
   "execution_count": 164,
   "outputs": [
    {
     "data": {
      "text/plain": "          checking_status_0<=X<200  checking_status_<0  checking_status_>=200  \\\noriginal                       0.0                 1.0                    0.0   \nsol0                          -0.0                 1.0                   -0.0   \n\n          checking_status_no checking  credit_history_all paid  \\\noriginal                          0.0                      0.0   \nsol0                             -0.0                     -0.0   \n\n          credit_history_critical/other existing credit  \\\noriginal                                            0.0   \nsol0                                               -0.0   \n\n          credit_history_delayed previously  credit_history_existing paid  \\\noriginal                                0.0                           1.0   \nsol0                                   -0.0                           1.0   \n\n          credit_history_no credits/all paid  employment_1<=X<4  ...  \\\noriginal                                 0.0                1.0  ...   \nsol0                                    -0.0                1.0  ...   \n\n          savings_status_>=1000  savings_status_no known savings  duration  \\\noriginal                    0.0                              1.0    0.2941   \nsol0                       -0.0                              1.0    0.2941   \n\n          credit_amount  installment_commitment     age  residence_since  \\\noriginal         0.0699                  1.0000  0.1071              1.0   \nsol0            -0.4828                  0.5518  0.1071              1.0   \n\n          existing_credits  num_dependents  scaled_distance  \noriginal               0.0             0.0           0.0000  \nsol0                  -0.0            -0.0           1.0009  \n\n[2 rows x 62 columns]",
      "text/html": "<div>\n<style scoped>\n    .dataframe tbody tr th:only-of-type {\n        vertical-align: middle;\n    }\n\n    .dataframe tbody tr th {\n        vertical-align: top;\n    }\n\n    .dataframe thead th {\n        text-align: right;\n    }\n</style>\n<table border=\"1\" class=\"dataframe\">\n  <thead>\n    <tr style=\"text-align: right;\">\n      <th></th>\n      <th>checking_status_0&lt;=X&lt;200</th>\n      <th>checking_status_&lt;0</th>\n      <th>checking_status_&gt;=200</th>\n      <th>checking_status_no checking</th>\n      <th>credit_history_all paid</th>\n      <th>credit_history_critical/other existing credit</th>\n      <th>credit_history_delayed previously</th>\n      <th>credit_history_existing paid</th>\n      <th>credit_history_no credits/all paid</th>\n      <th>employment_1&lt;=X&lt;4</th>\n      <th>...</th>\n      <th>savings_status_&gt;=1000</th>\n      <th>savings_status_no known savings</th>\n      <th>duration</th>\n      <th>credit_amount</th>\n      <th>installment_commitment</th>\n      <th>age</th>\n      <th>residence_since</th>\n      <th>existing_credits</th>\n      <th>num_dependents</th>\n      <th>scaled_distance</th>\n    </tr>\n  </thead>\n  <tbody>\n    <tr>\n      <th>original</th>\n      <td>0.0</td>\n      <td>1.0</td>\n      <td>0.0</td>\n      <td>0.0</td>\n      <td>0.0</td>\n      <td>0.0</td>\n      <td>0.0</td>\n      <td>1.0</td>\n      <td>0.0</td>\n      <td>1.0</td>\n      <td>...</td>\n      <td>0.0</td>\n      <td>1.0</td>\n      <td>0.2941</td>\n      <td>0.0699</td>\n      <td>1.0000</td>\n      <td>0.1071</td>\n      <td>1.0</td>\n      <td>0.0</td>\n      <td>0.0</td>\n      <td>0.0000</td>\n    </tr>\n    <tr>\n      <th>sol0</th>\n      <td>-0.0</td>\n      <td>1.0</td>\n      <td>-0.0</td>\n      <td>-0.0</td>\n      <td>-0.0</td>\n      <td>-0.0</td>\n      <td>-0.0</td>\n      <td>1.0</td>\n      <td>-0.0</td>\n      <td>1.0</td>\n      <td>...</td>\n      <td>-0.0</td>\n      <td>1.0</td>\n      <td>0.2941</td>\n      <td>-0.4828</td>\n      <td>0.5518</td>\n      <td>0.1071</td>\n      <td>1.0</td>\n      <td>-0.0</td>\n      <td>-0.0</td>\n      <td>1.0009</td>\n    </tr>\n  </tbody>\n</table>\n<p>2 rows × 62 columns</p>\n</div>"
     },
     "execution_count": 164,
     "metadata": {},
     "output_type": "execute_result"
    }
   ],
   "source": [
    "CEs"
   ],
   "metadata": {
    "collapsed": false,
    "pycharm": {
     "name": "#%%\n"
    }
   }
  },
  {
   "cell_type": "code",
   "execution_count": 165,
   "outputs": [
    {
     "data": {
      "text/plain": "          checking_status_0<=X<200  checking_status_<0  checking_status_>=200  \\\noriginal                       0.0                 1.0                    0.0   \nsol0                          -0.0                 1.0                   -0.0   \n\n          checking_status_no checking  credit_history_all paid  \\\noriginal                          0.0                      0.0   \nsol0                             -0.0                     -0.0   \n\n          credit_history_critical/other existing credit  \\\noriginal                                            0.0   \nsol0                                               -0.0   \n\n          credit_history_delayed previously  credit_history_existing paid  \\\noriginal                                0.0                           1.0   \nsol0                                   -0.0                           1.0   \n\n          credit_history_no credits/all paid  employment_1<=X<4  ...  \\\noriginal                                 0.0                1.0  ...   \nsol0                                    -0.0                1.0  ...   \n\n          savings_status_<100  savings_status_>=1000  \\\noriginal                  0.0                    0.0   \nsol0                     -0.0                   -0.0   \n\n          savings_status_no known savings  duration  credit_amount  \\\noriginal                              1.0   23.9988      1371.2631   \nsol0                                  1.0   23.9988     -7288.9932   \n\n          installment_commitment      age  residence_since  existing_credits  \\\noriginal                  4.0000  24.9976              4.0               1.0   \nsol0                      2.6554  24.9976              4.0               1.0   \n\n          num_dependents  \noriginal             1.0  \nsol0                 1.0  \n\n[2 rows x 61 columns]",
      "text/html": "<div>\n<style scoped>\n    .dataframe tbody tr th:only-of-type {\n        vertical-align: middle;\n    }\n\n    .dataframe tbody tr th {\n        vertical-align: top;\n    }\n\n    .dataframe thead th {\n        text-align: right;\n    }\n</style>\n<table border=\"1\" class=\"dataframe\">\n  <thead>\n    <tr style=\"text-align: right;\">\n      <th></th>\n      <th>checking_status_0&lt;=X&lt;200</th>\n      <th>checking_status_&lt;0</th>\n      <th>checking_status_&gt;=200</th>\n      <th>checking_status_no checking</th>\n      <th>credit_history_all paid</th>\n      <th>credit_history_critical/other existing credit</th>\n      <th>credit_history_delayed previously</th>\n      <th>credit_history_existing paid</th>\n      <th>credit_history_no credits/all paid</th>\n      <th>employment_1&lt;=X&lt;4</th>\n      <th>...</th>\n      <th>savings_status_&lt;100</th>\n      <th>savings_status_&gt;=1000</th>\n      <th>savings_status_no known savings</th>\n      <th>duration</th>\n      <th>credit_amount</th>\n      <th>installment_commitment</th>\n      <th>age</th>\n      <th>residence_since</th>\n      <th>existing_credits</th>\n      <th>num_dependents</th>\n    </tr>\n  </thead>\n  <tbody>\n    <tr>\n      <th>original</th>\n      <td>0.0</td>\n      <td>1.0</td>\n      <td>0.0</td>\n      <td>0.0</td>\n      <td>0.0</td>\n      <td>0.0</td>\n      <td>0.0</td>\n      <td>1.0</td>\n      <td>0.0</td>\n      <td>1.0</td>\n      <td>...</td>\n      <td>0.0</td>\n      <td>0.0</td>\n      <td>1.0</td>\n      <td>23.9988</td>\n      <td>1371.2631</td>\n      <td>4.0000</td>\n      <td>24.9976</td>\n      <td>4.0</td>\n      <td>1.0</td>\n      <td>1.0</td>\n    </tr>\n    <tr>\n      <th>sol0</th>\n      <td>-0.0</td>\n      <td>1.0</td>\n      <td>-0.0</td>\n      <td>-0.0</td>\n      <td>-0.0</td>\n      <td>-0.0</td>\n      <td>-0.0</td>\n      <td>1.0</td>\n      <td>-0.0</td>\n      <td>1.0</td>\n      <td>...</td>\n      <td>-0.0</td>\n      <td>-0.0</td>\n      <td>1.0</td>\n      <td>23.9988</td>\n      <td>-7288.9932</td>\n      <td>2.6554</td>\n      <td>24.9976</td>\n      <td>4.0</td>\n      <td>1.0</td>\n      <td>1.0</td>\n    </tr>\n  </tbody>\n</table>\n<p>2 rows × 61 columns</p>\n</div>"
     },
     "execution_count": 165,
     "metadata": {},
     "output_type": "execute_result"
    }
   ],
   "source": [
    "CEs_"
   ],
   "metadata": {
    "collapsed": false,
    "pycharm": {
     "name": "#%%\n"
    }
   }
  },
  {
   "cell_type": "code",
   "execution_count": 166,
   "id": "2fa465be",
   "metadata": {},
   "outputs": [
    {
     "data": {
      "text/plain": "         duration  credit_amount  installment_commitment   age  \\\noriginal     24.0        1371.26                    4.00  25.0   \nsol0            -       -7288.99                    2.66     -   \n\n         residence_since existing_credits num_dependents checking_status  \\\noriginal             4.0              1.0            1.0              <0   \nsol0                   -                -              -               -   \n\n         credit_history employment foreign_worker housing      job  \\\noriginal  existing paid     1<=X<4            yes    rent  skilled   \nsol0                  -          -              -       -        -   \n\n         other_parties other_payment_plans own_telephone     personal_status  \\\noriginal          none                none          none  female div/dep/mar   \nsol0                 -                   -             -                   -   \n\n         property_magnitude  purpose    savings_status  \noriginal        real estate  new car  no known savings  \nsol0                      -        -                 -  ",
      "text/html": "<div>\n<style scoped>\n    .dataframe tbody tr th:only-of-type {\n        vertical-align: middle;\n    }\n\n    .dataframe tbody tr th {\n        vertical-align: top;\n    }\n\n    .dataframe thead th {\n        text-align: right;\n    }\n</style>\n<table border=\"1\" class=\"dataframe\">\n  <thead>\n    <tr style=\"text-align: right;\">\n      <th></th>\n      <th>duration</th>\n      <th>credit_amount</th>\n      <th>installment_commitment</th>\n      <th>age</th>\n      <th>residence_since</th>\n      <th>existing_credits</th>\n      <th>num_dependents</th>\n      <th>checking_status</th>\n      <th>credit_history</th>\n      <th>employment</th>\n      <th>foreign_worker</th>\n      <th>housing</th>\n      <th>job</th>\n      <th>other_parties</th>\n      <th>other_payment_plans</th>\n      <th>own_telephone</th>\n      <th>personal_status</th>\n      <th>property_magnitude</th>\n      <th>purpose</th>\n      <th>savings_status</th>\n    </tr>\n  </thead>\n  <tbody>\n    <tr>\n      <th>original</th>\n      <td>24.0</td>\n      <td>1371.26</td>\n      <td>4.00</td>\n      <td>25.0</td>\n      <td>4.0</td>\n      <td>1.0</td>\n      <td>1.0</td>\n      <td>&lt;0</td>\n      <td>existing paid</td>\n      <td>1&lt;=X&lt;4</td>\n      <td>yes</td>\n      <td>rent</td>\n      <td>skilled</td>\n      <td>none</td>\n      <td>none</td>\n      <td>none</td>\n      <td>female div/dep/mar</td>\n      <td>real estate</td>\n      <td>new car</td>\n      <td>no known savings</td>\n    </tr>\n    <tr>\n      <th>sol0</th>\n      <td>-</td>\n      <td>-7288.99</td>\n      <td>2.66</td>\n      <td>-</td>\n      <td>-</td>\n      <td>-</td>\n      <td>-</td>\n      <td>-</td>\n      <td>-</td>\n      <td>-</td>\n      <td>-</td>\n      <td>-</td>\n      <td>-</td>\n      <td>-</td>\n      <td>-</td>\n      <td>-</td>\n      <td>-</td>\n      <td>-</td>\n      <td>-</td>\n      <td>-</td>\n    </tr>\n  </tbody>\n</table>\n</div>"
     },
     "execution_count": 166,
     "metadata": {},
     "output_type": "execute_result"
    }
   ],
   "source": [
    "df_1 = ce_helpers.vis_dataframe(df, CEs_, F_r, F_coh, target, only_changes=True)\n",
    "df_1"
   ]
  },
  {
   "cell_type": "markdown",
   "id": "e9885d5b",
   "metadata": {},
   "source": [
    "### Evaluation"
   ]
  },
  {
   "cell_type": "code",
   "execution_count": 167,
   "id": "770c806a",
   "metadata": {},
   "outputs": [
    {
     "data": {
      "text/plain": "        validity  cat_prox  cont_prox  sparsity cat_diver cont_diver  \\\nPart A         1       1.0   -8661.59       0.9      None       None   \n\n       cont_count_divers  \nPart A              None  ",
      "text/html": "<div>\n<style scoped>\n    .dataframe tbody tr th:only-of-type {\n        vertical-align: middle;\n    }\n\n    .dataframe tbody tr th {\n        vertical-align: top;\n    }\n\n    .dataframe thead th {\n        text-align: right;\n    }\n</style>\n<table border=\"1\" class=\"dataframe\">\n  <thead>\n    <tr style=\"text-align: right;\">\n      <th></th>\n      <th>validity</th>\n      <th>cat_prox</th>\n      <th>cont_prox</th>\n      <th>sparsity</th>\n      <th>cat_diver</th>\n      <th>cont_diver</th>\n      <th>cont_count_divers</th>\n    </tr>\n  </thead>\n  <tbody>\n    <tr>\n      <th>Part A</th>\n      <td>1</td>\n      <td>1.0</td>\n      <td>-8661.59</td>\n      <td>0.9</td>\n      <td>None</td>\n      <td>None</td>\n      <td>None</td>\n    </tr>\n  </tbody>\n</table>\n</div>"
     },
     "execution_count": 167,
     "metadata": {},
     "output_type": "execute_result"
    }
   ],
   "source": [
    "CEs = ce_helpers.vis_dataframe(df, CEs_, F_r, F_coh, target, only_changes = False)\n",
    "\n",
    "CE_perf = ce_helpers.evaluation(clf, CEs, numerical, categorical, CEs_ = CEs_, rounding = True)\n",
    "CE_perf = CE_perf.set_index(pd.Index(['Part A']))\n",
    "CE_perf"
   ]
  },
  {
   "cell_type": "markdown",
   "id": "f96f84b9",
   "metadata": {},
   "source": [
    "---"
   ]
  },
  {
   "cell_type": "markdown",
   "id": "7fb26b13",
   "metadata": {},
   "source": [
    "## Part B: validity, proximity, sparsity"
   ]
  },
  {
   "cell_type": "code",
   "execution_count": 168,
   "id": "8a032689",
   "metadata": {},
   "outputs": [],
   "source": [
    "sp = True\n",
    "mu = 10000\n",
    "tr_region = False\n",
    "num_counterfactuals = 1"
   ]
  },
  {
   "cell_type": "code",
   "execution_count": 169,
   "id": "14695089",
   "metadata": {},
   "outputs": [],
   "source": [
    "# features that can only increase (become larger)\n",
    "L = []\n",
    "\n",
    "# immutable features\n",
    "I = []\n",
    "\n",
    "# conditionally mutable features\n",
    "Pers_I = []\n",
    "\n",
    "P = []"
   ]
  },
  {
   "cell_type": "markdown",
   "id": "1e63c9c0",
   "metadata": {},
   "source": [
    "### optimization"
   ]
  },
  {
   "cell_type": "code",
   "execution_count": 170,
   "id": "542be0b0",
   "metadata": {},
   "outputs": [
    {
     "name": "stdout",
     "output_type": "stream",
     "text": [
      "Embedding constraints for counterfactual_german\n",
      "['checking_status_0<=X<200', 'checking_status_<0', 'checking_status_>=200', 'checking_status_no checking', 'credit_history_all paid', 'credit_history_critical/other existing credit', 'credit_history_delayed previously', 'credit_history_existing paid', 'credit_history_no credits/all paid', 'employment_1<=X<4', 'employment_4<=X<7', 'employment_<1', 'employment_>=7', 'employment_unemployed', 'foreign_worker_no', 'foreign_worker_yes', 'housing_for free', 'housing_own', 'housing_rent', 'job_high qualif/self emp/mgmt', 'job_skilled', 'job_unemp/unskilled non res', 'job_unskilled resident', 'other_parties_co applicant', 'other_parties_guarantor', 'other_parties_none', 'other_payment_plans_bank', 'other_payment_plans_none', 'other_payment_plans_stores', 'own_telephone_none', 'own_telephone_yes', 'personal_status_female div/dep/mar', 'personal_status_male div/sep', 'personal_status_male mar/wid', 'personal_status_male single', 'property_magnitude_car', 'property_magnitude_life insurance', 'property_magnitude_no known property', 'property_magnitude_real estate', 'purpose_business', 'purpose_domestic appliance', 'purpose_education', 'purpose_furniture/equipment', 'purpose_new car', 'purpose_other', 'purpose_radio/tv', 'purpose_repairs', 'purpose_retraining', 'purpose_used car', 'savings_status_100<=X<500', 'savings_status_500<=X<1000', 'savings_status_<100', 'savings_status_>=1000', 'savings_status_no known savings', 'duration', 'credit_amount', 'installment_commitment', 'age', 'residence_since', 'existing_credits', 'num_dependents']\n",
      "Changed value of parameter PoolSolutions to 101\n",
      "   Prev: 10  Min: 1  Max: 2000000000  Default: 10\n",
      "Changed value of parameter PoolSearchMode to 1\n",
      "   Prev: 0  Min: 0  Max: 2  Default: 0\n",
      "OBJ: 10001.333358641004\n",
      "The optimal solution is: [-0.0, 1.0, -0.0, -0.0, -0.0, -0.0, -0.0, 1.0, -0.0, 1.0, -0.0, 0.0, -0.0, -0.0, -0.0, 1.0, -0.0, -0.0, 1.0, -0.0, 1.0, -0.0, -0.0, -0.0, -0.0, 1.0, -0.0, 1.0, -0.0, 1.0, 0.0, 1.0, -0.0, -0.0, 0.0, 0.0, -0.0, -0.0, 1.0, -0.0, -0.0, -0.0, -0.0, 1.0, -0.0, -0.0, -0.0, -0.0, -0.0, 0.0, -0.0, -0.0, -0.0, 1.0, 0.2941176470612845, -1.0848282879862305, 1.0, 0.10714285714285715, 1.0, -0.0, -0.0]\n"
     ]
    }
   ],
   "source": [
    "CEs, CEs_, final_model = ce_helpers.opt(X, X1, u, F_r, F_b, F_int, F_coh, I, L, Pers_I, P, sp, mu, \n",
    "                           tr_region, enlarge_tr, num_counterfactuals, model_master, data_pip)"
   ]
  },
  {
   "cell_type": "markdown",
   "id": "41c7d862",
   "metadata": {},
   "source": [
    "### Visualize DF"
   ]
  },
  {
   "cell_type": "code",
   "execution_count": 171,
   "id": "a7f99749",
   "metadata": {},
   "outputs": [
    {
     "data": {
      "text/plain": "         duration  credit_amount installment_commitment   age residence_since  \\\noriginal     24.0        1371.26                    4.0  25.0             4.0   \nsol0            -      -16721.73                      -     -               -   \n\n         existing_credits num_dependents checking_status credit_history  \\\noriginal              1.0            1.0              <0  existing paid   \nsol0                    -              -               -              -   \n\n         employment foreign_worker housing      job other_parties  \\\noriginal     1<=X<4            yes    rent  skilled          none   \nsol0              -              -       -        -             -   \n\n         other_payment_plans own_telephone     personal_status  \\\noriginal                none          none  female div/dep/mar   \nsol0                       -             -                   -   \n\n         property_magnitude  purpose    savings_status  \noriginal        real estate  new car  no known savings  \nsol0                      -        -                 -  ",
      "text/html": "<div>\n<style scoped>\n    .dataframe tbody tr th:only-of-type {\n        vertical-align: middle;\n    }\n\n    .dataframe tbody tr th {\n        vertical-align: top;\n    }\n\n    .dataframe thead th {\n        text-align: right;\n    }\n</style>\n<table border=\"1\" class=\"dataframe\">\n  <thead>\n    <tr style=\"text-align: right;\">\n      <th></th>\n      <th>duration</th>\n      <th>credit_amount</th>\n      <th>installment_commitment</th>\n      <th>age</th>\n      <th>residence_since</th>\n      <th>existing_credits</th>\n      <th>num_dependents</th>\n      <th>checking_status</th>\n      <th>credit_history</th>\n      <th>employment</th>\n      <th>foreign_worker</th>\n      <th>housing</th>\n      <th>job</th>\n      <th>other_parties</th>\n      <th>other_payment_plans</th>\n      <th>own_telephone</th>\n      <th>personal_status</th>\n      <th>property_magnitude</th>\n      <th>purpose</th>\n      <th>savings_status</th>\n    </tr>\n  </thead>\n  <tbody>\n    <tr>\n      <th>original</th>\n      <td>24.0</td>\n      <td>1371.26</td>\n      <td>4.0</td>\n      <td>25.0</td>\n      <td>4.0</td>\n      <td>1.0</td>\n      <td>1.0</td>\n      <td>&lt;0</td>\n      <td>existing paid</td>\n      <td>1&lt;=X&lt;4</td>\n      <td>yes</td>\n      <td>rent</td>\n      <td>skilled</td>\n      <td>none</td>\n      <td>none</td>\n      <td>none</td>\n      <td>female div/dep/mar</td>\n      <td>real estate</td>\n      <td>new car</td>\n      <td>no known savings</td>\n    </tr>\n    <tr>\n      <th>sol0</th>\n      <td>-</td>\n      <td>-16721.73</td>\n      <td>-</td>\n      <td>-</td>\n      <td>-</td>\n      <td>-</td>\n      <td>-</td>\n      <td>-</td>\n      <td>-</td>\n      <td>-</td>\n      <td>-</td>\n      <td>-</td>\n      <td>-</td>\n      <td>-</td>\n      <td>-</td>\n      <td>-</td>\n      <td>-</td>\n      <td>-</td>\n      <td>-</td>\n      <td>-</td>\n    </tr>\n  </tbody>\n</table>\n</div>"
     },
     "execution_count": 171,
     "metadata": {},
     "output_type": "execute_result"
    }
   ],
   "source": [
    "df_2 = ce_helpers.vis_dataframe(df, CEs_, F_r, F_coh, target, only_changes=True)\n",
    "df_2"
   ]
  },
  {
   "cell_type": "markdown",
   "id": "984171a6",
   "metadata": {},
   "source": [
    "### Evaluation"
   ]
  },
  {
   "cell_type": "code",
   "execution_count": 172,
   "id": "9ac065f1",
   "metadata": {},
   "outputs": [
    {
     "data": {
      "text/plain": "        validity  cat_prox  cont_prox  sparsity cat_diver cont_diver  \\\nPart A         1       1.0   -8661.59      0.90      None       None   \nPart B         1       1.0  -18092.99      0.95      None       None   \n\n       cont_count_divers  \nPart A              None  \nPart B              None  ",
      "text/html": "<div>\n<style scoped>\n    .dataframe tbody tr th:only-of-type {\n        vertical-align: middle;\n    }\n\n    .dataframe tbody tr th {\n        vertical-align: top;\n    }\n\n    .dataframe thead th {\n        text-align: right;\n    }\n</style>\n<table border=\"1\" class=\"dataframe\">\n  <thead>\n    <tr style=\"text-align: right;\">\n      <th></th>\n      <th>validity</th>\n      <th>cat_prox</th>\n      <th>cont_prox</th>\n      <th>sparsity</th>\n      <th>cat_diver</th>\n      <th>cont_diver</th>\n      <th>cont_count_divers</th>\n    </tr>\n  </thead>\n  <tbody>\n    <tr>\n      <th>Part A</th>\n      <td>1</td>\n      <td>1.0</td>\n      <td>-8661.59</td>\n      <td>0.90</td>\n      <td>None</td>\n      <td>None</td>\n      <td>None</td>\n    </tr>\n    <tr>\n      <th>Part B</th>\n      <td>1</td>\n      <td>1.0</td>\n      <td>-18092.99</td>\n      <td>0.95</td>\n      <td>None</td>\n      <td>None</td>\n      <td>None</td>\n    </tr>\n  </tbody>\n</table>\n</div>"
     },
     "execution_count": 172,
     "metadata": {},
     "output_type": "execute_result"
    }
   ],
   "source": [
    "CEs = ce_helpers.vis_dataframe(df, CEs_, F_r, F_coh, target, only_changes = False)\n",
    "\n",
    "CE_perf = pd.concat([CE_perf, ce_helpers.evaluation(clf, CEs, numerical, categorical, CEs_ = CEs_, rounding = True)])\n",
    "CE_perf = CE_perf.set_index(pd.Index(['Part A', 'Part B']))\n",
    "CE_perf"
   ]
  },
  {
   "cell_type": "markdown",
   "id": "0934537f",
   "metadata": {},
   "source": [
    "---"
   ]
  },
  {
   "cell_type": "markdown",
   "id": "7d1a0e43",
   "metadata": {},
   "source": [
    "## Part C: validity, proximity, sparsity, diversity"
   ]
  },
  {
   "cell_type": "code",
   "execution_count": 173,
   "id": "463689cb",
   "metadata": {},
   "outputs": [],
   "source": [
    "sp = True\n",
    "tr_region = False\n",
    "num_counterfactuals = 3"
   ]
  },
  {
   "cell_type": "code",
   "execution_count": 174,
   "id": "a496545d",
   "metadata": {},
   "outputs": [],
   "source": [
    "# features that can only increase (become larger)\n",
    "L = []\n",
    "\n",
    "# immutable features\n",
    "I = []\n",
    "\n",
    "# conditionally mutable features\n",
    "Pers_I = []\n",
    "\n",
    "P = []"
   ]
  },
  {
   "cell_type": "markdown",
   "id": "e2bfc6e3",
   "metadata": {},
   "source": [
    "### Optimization"
   ]
  },
  {
   "cell_type": "code",
   "execution_count": 175,
   "id": "454d2e73",
   "metadata": {},
   "outputs": [
    {
     "name": "stdout",
     "output_type": "stream",
     "text": [
      "Embedding constraints for counterfactual_german\n",
      "['checking_status_0<=X<200', 'checking_status_<0', 'checking_status_>=200', 'checking_status_no checking', 'credit_history_all paid', 'credit_history_critical/other existing credit', 'credit_history_delayed previously', 'credit_history_existing paid', 'credit_history_no credits/all paid', 'employment_1<=X<4', 'employment_4<=X<7', 'employment_<1', 'employment_>=7', 'employment_unemployed', 'foreign_worker_no', 'foreign_worker_yes', 'housing_for free', 'housing_own', 'housing_rent', 'job_high qualif/self emp/mgmt', 'job_skilled', 'job_unemp/unskilled non res', 'job_unskilled resident', 'other_parties_co applicant', 'other_parties_guarantor', 'other_parties_none', 'other_payment_plans_bank', 'other_payment_plans_none', 'other_payment_plans_stores', 'own_telephone_none', 'own_telephone_yes', 'personal_status_female div/dep/mar', 'personal_status_male div/sep', 'personal_status_male mar/wid', 'personal_status_male single', 'property_magnitude_car', 'property_magnitude_life insurance', 'property_magnitude_no known property', 'property_magnitude_real estate', 'purpose_business', 'purpose_domestic appliance', 'purpose_education', 'purpose_furniture/equipment', 'purpose_new car', 'purpose_other', 'purpose_radio/tv', 'purpose_repairs', 'purpose_retraining', 'purpose_used car', 'savings_status_100<=X<500', 'savings_status_500<=X<1000', 'savings_status_<100', 'savings_status_>=1000', 'savings_status_no known savings', 'duration', 'credit_amount', 'installment_commitment', 'age', 'residence_since', 'existing_credits', 'num_dependents']\n",
      "Changed value of parameter PoolSolutions to 103\n",
      "   Prev: 10  Min: 1  Max: 2000000000  Default: 10\n",
      "Changed value of parameter PoolSearchMode to 1\n",
      "   Prev: 0  Min: 0  Max: 2  Default: 0\n",
      "OBJ: 10001.333358641004\n",
      "The optimal solution is: [-0.0, 1.0, -0.0, -0.0, -0.0, -0.0, -0.0, 1.0, -0.0, 1.0, -0.0, 0.0, -0.0, -0.0, -0.0, 1.0, -0.0, -0.0, 1.0, -0.0, 1.0, -0.0, -0.0, -0.0, -0.0, 1.0, -0.0, 1.0, -0.0, 1.0, 0.0, 1.0, -0.0, -0.0, 0.0, 0.0, -0.0, -0.0, 1.0, -0.0, -0.0, -0.0, -0.0, 1.0, -0.0, -0.0, -0.0, -0.0, -0.0, 0.0, -0.0, -0.0, -0.0, 1.0, 0.2941176470612845, -1.0848282879862305, 1.0, 0.10714285714285715, 1.0, -0.0, -0.0]\n"
     ]
    }
   ],
   "source": [
    "CEs, CEs_, final_model = ce_helpers.opt(X, X1, u, F_r, F_b, F_int,F_coh, I, L, Pers_I, P, sp, mu, \n",
    "                           tr_region, enlarge_tr, num_counterfactuals, model_master, data_pip)"
   ]
  },
  {
   "cell_type": "markdown",
   "id": "13a59adb",
   "metadata": {},
   "source": [
    "### Visualise DF"
   ]
  },
  {
   "cell_type": "code",
   "execution_count": 176,
   "id": "e3d20e45",
   "metadata": {},
   "outputs": [
    {
     "data": {
      "text/plain": "         duration credit_amount installment_commitment    age residence_since  \\\noriginal     24.0       1371.26                    4.0   25.0             4.0   \nsol0            -     -16721.73                      -      -               -   \nsol1        23.73     -16488.26                      -  28.25               -   \nsol2            -             -                    0.4      -               -   \n\n         existing_credits num_dependents checking_status credit_history  \\\noriginal              1.0            1.0              <0  existing paid   \nsol0                    -              -               -              -   \nsol1                    -              -               -              -   \nsol2                    -              -               -              -   \n\n         employment foreign_worker housing      job other_parties  \\\noriginal     1<=X<4            yes    rent  skilled          none   \nsol0              -              -       -        -             -   \nsol1              -              -       -        -             -   \nsol2              -              -       -        -             -   \n\n         other_payment_plans own_telephone     personal_status  \\\noriginal                none          none  female div/dep/mar   \nsol0                       -             -                   -   \nsol1                       -             -                   -   \nsol2                       -             -                   -   \n\n         property_magnitude  purpose    savings_status  \noriginal        real estate  new car  no known savings  \nsol0                      -        -                 -  \nsol1                      -        -                 -  \nsol2                      -        -                 -  ",
      "text/html": "<div>\n<style scoped>\n    .dataframe tbody tr th:only-of-type {\n        vertical-align: middle;\n    }\n\n    .dataframe tbody tr th {\n        vertical-align: top;\n    }\n\n    .dataframe thead th {\n        text-align: right;\n    }\n</style>\n<table border=\"1\" class=\"dataframe\">\n  <thead>\n    <tr style=\"text-align: right;\">\n      <th></th>\n      <th>duration</th>\n      <th>credit_amount</th>\n      <th>installment_commitment</th>\n      <th>age</th>\n      <th>residence_since</th>\n      <th>existing_credits</th>\n      <th>num_dependents</th>\n      <th>checking_status</th>\n      <th>credit_history</th>\n      <th>employment</th>\n      <th>foreign_worker</th>\n      <th>housing</th>\n      <th>job</th>\n      <th>other_parties</th>\n      <th>other_payment_plans</th>\n      <th>own_telephone</th>\n      <th>personal_status</th>\n      <th>property_magnitude</th>\n      <th>purpose</th>\n      <th>savings_status</th>\n    </tr>\n  </thead>\n  <tbody>\n    <tr>\n      <th>original</th>\n      <td>24.0</td>\n      <td>1371.26</td>\n      <td>4.0</td>\n      <td>25.0</td>\n      <td>4.0</td>\n      <td>1.0</td>\n      <td>1.0</td>\n      <td>&lt;0</td>\n      <td>existing paid</td>\n      <td>1&lt;=X&lt;4</td>\n      <td>yes</td>\n      <td>rent</td>\n      <td>skilled</td>\n      <td>none</td>\n      <td>none</td>\n      <td>none</td>\n      <td>female div/dep/mar</td>\n      <td>real estate</td>\n      <td>new car</td>\n      <td>no known savings</td>\n    </tr>\n    <tr>\n      <th>sol0</th>\n      <td>-</td>\n      <td>-16721.73</td>\n      <td>-</td>\n      <td>-</td>\n      <td>-</td>\n      <td>-</td>\n      <td>-</td>\n      <td>-</td>\n      <td>-</td>\n      <td>-</td>\n      <td>-</td>\n      <td>-</td>\n      <td>-</td>\n      <td>-</td>\n      <td>-</td>\n      <td>-</td>\n      <td>-</td>\n      <td>-</td>\n      <td>-</td>\n      <td>-</td>\n    </tr>\n    <tr>\n      <th>sol1</th>\n      <td>23.73</td>\n      <td>-16488.26</td>\n      <td>-</td>\n      <td>28.25</td>\n      <td>-</td>\n      <td>-</td>\n      <td>-</td>\n      <td>-</td>\n      <td>-</td>\n      <td>-</td>\n      <td>-</td>\n      <td>-</td>\n      <td>-</td>\n      <td>-</td>\n      <td>-</td>\n      <td>-</td>\n      <td>-</td>\n      <td>-</td>\n      <td>-</td>\n      <td>-</td>\n    </tr>\n    <tr>\n      <th>sol2</th>\n      <td>-</td>\n      <td>-</td>\n      <td>0.4</td>\n      <td>-</td>\n      <td>-</td>\n      <td>-</td>\n      <td>-</td>\n      <td>-</td>\n      <td>-</td>\n      <td>-</td>\n      <td>-</td>\n      <td>-</td>\n      <td>-</td>\n      <td>-</td>\n      <td>-</td>\n      <td>-</td>\n      <td>-</td>\n      <td>-</td>\n      <td>-</td>\n      <td>-</td>\n    </tr>\n  </tbody>\n</table>\n</div>"
     },
     "execution_count": 176,
     "metadata": {},
     "output_type": "execute_result"
    }
   ],
   "source": [
    "df_3 = ce_helpers.vis_dataframe(df, CEs_, F_r, F_coh, target, only_changes=True)\n",
    "df_3"
   ]
  },
  {
   "cell_type": "markdown",
   "id": "d80ede55",
   "metadata": {},
   "source": [
    "### Evaluation"
   ]
  },
  {
   "cell_type": "code",
   "execution_count": 177,
   "id": "8aebd056",
   "metadata": {},
   "outputs": [
    {
     "data": {
      "text/plain": "        validity  cat_prox  cont_prox  sparsity  cat_diver  cont_diver  \\\nPart A         1       1.0   -8661.59      0.90        NaN         NaN   \nPart B         1       1.0  -18092.99      0.95        NaN         NaN   \nPart C         1       1.0  -11986.54      0.92        0.0    12066.74   \n\n        cont_count_divers  \nPart A                NaN  \nPart B                NaN  \nPart C               0.15  ",
      "text/html": "<div>\n<style scoped>\n    .dataframe tbody tr th:only-of-type {\n        vertical-align: middle;\n    }\n\n    .dataframe tbody tr th {\n        vertical-align: top;\n    }\n\n    .dataframe thead th {\n        text-align: right;\n    }\n</style>\n<table border=\"1\" class=\"dataframe\">\n  <thead>\n    <tr style=\"text-align: right;\">\n      <th></th>\n      <th>validity</th>\n      <th>cat_prox</th>\n      <th>cont_prox</th>\n      <th>sparsity</th>\n      <th>cat_diver</th>\n      <th>cont_diver</th>\n      <th>cont_count_divers</th>\n    </tr>\n  </thead>\n  <tbody>\n    <tr>\n      <th>Part A</th>\n      <td>1</td>\n      <td>1.0</td>\n      <td>-8661.59</td>\n      <td>0.90</td>\n      <td>NaN</td>\n      <td>NaN</td>\n      <td>NaN</td>\n    </tr>\n    <tr>\n      <th>Part B</th>\n      <td>1</td>\n      <td>1.0</td>\n      <td>-18092.99</td>\n      <td>0.95</td>\n      <td>NaN</td>\n      <td>NaN</td>\n      <td>NaN</td>\n    </tr>\n    <tr>\n      <th>Part C</th>\n      <td>1</td>\n      <td>1.0</td>\n      <td>-11986.54</td>\n      <td>0.92</td>\n      <td>0.0</td>\n      <td>12066.74</td>\n      <td>0.15</td>\n    </tr>\n  </tbody>\n</table>\n</div>"
     },
     "execution_count": 177,
     "metadata": {},
     "output_type": "execute_result"
    }
   ],
   "source": [
    "CEs = ce_helpers.vis_dataframe(df, CEs_, F_r, F_coh, target, only_changes = False)\n",
    "\n",
    "CE_perf = pd.concat([CE_perf, ce_helpers.evaluation(clf, CEs, numerical, categorical, CEs_ = CEs_, rounding = True)])\n",
    "CE_perf = CE_perf.set_index(pd.Index(['Part A', 'Part B', 'Part C']))\n",
    "CE_perf"
   ]
  },
  {
   "cell_type": "markdown",
   "id": "a3b53b3d",
   "metadata": {},
   "source": [
    "---"
   ]
  },
  {
   "cell_type": "markdown",
   "id": "6c8879ea",
   "metadata": {},
   "source": [
    "## Part D: validity, proximity, sparsity, diversity, actionability"
   ]
  },
  {
   "cell_type": "code",
   "execution_count": 178,
   "id": "a45bd950",
   "metadata": {},
   "outputs": [],
   "source": [
    "sp = True\n",
    "tr_region = False\n",
    "num_counterfactuals = 3"
   ]
  },
  {
   "cell_type": "code",
   "execution_count": 179,
   "id": "490fa89d",
   "metadata": {},
   "outputs": [],
   "source": [
    "# features that can only increase (become larger)\n",
    "L = ['age', 'residence_since']\n",
    "# L = ['residence_since']\n",
    "\n",
    "# immutable features\n",
    "I = ['personal_status_male div/sep', 'personal_status_male mar/wid','personal_status_male single',\n",
    "     'purpose_domestic appliance', 'purpose_education', 'purpose_furniture/equipment', 'purpose_new car',\n",
    "     'purpose_other', 'purpose_radio/tv', 'purpose_repairs', 'purpose_retraining', 'purpose_used car',\n",
    "     'foreign_worker_yes']\n",
    "\n",
    "employment = ['employment_unemployed', 'employment_<1', 'employment_1<=X<4','employment_4<=X<7', 'employment_>=7']\n",
    "Pers_I = [employment] # variables that must be considered for person specific immutable features\n",
    "\n",
    "P = ['duration', 'installment_commitment', 'num_dependents', 'credit_amount', 'existing_credits']"
   ]
  },
  {
   "cell_type": "markdown",
   "id": "c5c25ed6",
   "metadata": {},
   "source": [
    "### Optimization"
   ]
  },
  {
   "cell_type": "code",
   "execution_count": 180,
   "id": "2d31272f",
   "metadata": {},
   "outputs": [
    {
     "name": "stdout",
     "output_type": "stream",
     "text": [
      "Embedding constraints for counterfactual_german\n",
      "['checking_status_0<=X<200', 'checking_status_<0', 'checking_status_>=200', 'checking_status_no checking', 'credit_history_all paid', 'credit_history_critical/other existing credit', 'credit_history_delayed previously', 'credit_history_existing paid', 'credit_history_no credits/all paid', 'employment_1<=X<4', 'employment_4<=X<7', 'employment_<1', 'employment_>=7', 'employment_unemployed', 'foreign_worker_no', 'foreign_worker_yes', 'housing_for free', 'housing_own', 'housing_rent', 'job_high qualif/self emp/mgmt', 'job_skilled', 'job_unemp/unskilled non res', 'job_unskilled resident', 'other_parties_co applicant', 'other_parties_guarantor', 'other_parties_none', 'other_payment_plans_bank', 'other_payment_plans_none', 'other_payment_plans_stores', 'own_telephone_none', 'own_telephone_yes', 'personal_status_female div/dep/mar', 'personal_status_male div/sep', 'personal_status_male mar/wid', 'personal_status_male single', 'property_magnitude_car', 'property_magnitude_life insurance', 'property_magnitude_no known property', 'property_magnitude_real estate', 'purpose_business', 'purpose_domestic appliance', 'purpose_education', 'purpose_furniture/equipment', 'purpose_new car', 'purpose_other', 'purpose_radio/tv', 'purpose_repairs', 'purpose_retraining', 'purpose_used car', 'savings_status_100<=X<500', 'savings_status_500<=X<1000', 'savings_status_<100', 'savings_status_>=1000', 'savings_status_no known savings', 'duration', 'credit_amount', 'installment_commitment', 'age', 'residence_since', 'existing_credits', 'num_dependents']\n",
      "Changed value of parameter PoolSolutions to 103\n",
      "   Prev: 10  Min: 1  Max: 2000000000  Default: 10\n",
      "Changed value of parameter PoolSearchMode to 1\n",
      "   Prev: 0  Min: 0  Max: 2  Default: 0\n",
      "OBJ: 10004.0\n",
      "The optimal solution is: [-0.0, 1.0, -0.0, -0.0, -0.0, -0.0, -0.0, 1.0, -0.0, 1.0, -0.0, 0.0, -0.0, 0.0, 0.0, 1.0, -0.0, -0.0, 1.0, -0.0, 1.0, -0.0, -0.0, -0.0, -0.0, 1.0, -0.0, 1.0, -0.0, 1.0, 0.0, 1.0, 0.0, 0.0, 0.0, -0.0, -0.0, -0.0, 1.0, 0.0, 0.0, 0.0, 0.0, 1.0, 0.0, 0.0, 0.0, 0.0, 0.0, 0.0, -0.0, -0.0, -0.0, 1.0, 0.29411764705764654, 0.0698832088837662, 1.0, 0.10714285714069802, 3.0, -0.0, -0.0]\n"
     ]
    }
   ],
   "source": [
    "CEs, CEs_, final_model = ce_helpers.opt(X, X1, u, F_r, F_b, F_int, F_coh, I, L, Pers_I, P, sp, mu, \n",
    "                           tr_region, enlarge_tr, num_counterfactuals, model_master, data_pip)"
   ]
  },
  {
   "cell_type": "markdown",
   "id": "234416e4",
   "metadata": {},
   "source": [
    "### Visualize DF"
   ]
  },
  {
   "cell_type": "code",
   "execution_count": 181,
   "id": "ee257df0",
   "metadata": {},
   "outputs": [
    {
     "data": {
      "text/plain": "         duration credit_amount installment_commitment     age  \\\noriginal     24.0       1371.26                    4.0    25.0   \nsol0            -             -                      -       -   \nsol1            -             -                      -  163.55   \nsol2         26.2             -                      -  165.63   \n\n         residence_since existing_credits num_dependents checking_status  \\\noriginal             4.0              1.0            1.0              <0   \nsol0                10.0                -              -               -   \nsol1                   -                -              -               -   \nsol2                   -                -              -               -   \n\n         credit_history employment foreign_worker housing      job  \\\noriginal  existing paid     1<=X<4            yes    rent  skilled   \nsol0                  -          -              -       -        -   \nsol1                  -          -              -       -        -   \nsol2                  -          -              -       -        -   \n\n         other_parties other_payment_plans own_telephone     personal_status  \\\noriginal          none                none          none  female div/dep/mar   \nsol0                 -                   -             -                   -   \nsol1                 -                   -             -                   -   \nsol2                 -                   -             -                   -   \n\n         property_magnitude  purpose    savings_status  \noriginal        real estate  new car  no known savings  \nsol0                      -        -                 -  \nsol1                      -        -                 -  \nsol2                      -        -                 -  ",
      "text/html": "<div>\n<style scoped>\n    .dataframe tbody tr th:only-of-type {\n        vertical-align: middle;\n    }\n\n    .dataframe tbody tr th {\n        vertical-align: top;\n    }\n\n    .dataframe thead th {\n        text-align: right;\n    }\n</style>\n<table border=\"1\" class=\"dataframe\">\n  <thead>\n    <tr style=\"text-align: right;\">\n      <th></th>\n      <th>duration</th>\n      <th>credit_amount</th>\n      <th>installment_commitment</th>\n      <th>age</th>\n      <th>residence_since</th>\n      <th>existing_credits</th>\n      <th>num_dependents</th>\n      <th>checking_status</th>\n      <th>credit_history</th>\n      <th>employment</th>\n      <th>foreign_worker</th>\n      <th>housing</th>\n      <th>job</th>\n      <th>other_parties</th>\n      <th>other_payment_plans</th>\n      <th>own_telephone</th>\n      <th>personal_status</th>\n      <th>property_magnitude</th>\n      <th>purpose</th>\n      <th>savings_status</th>\n    </tr>\n  </thead>\n  <tbody>\n    <tr>\n      <th>original</th>\n      <td>24.0</td>\n      <td>1371.26</td>\n      <td>4.0</td>\n      <td>25.0</td>\n      <td>4.0</td>\n      <td>1.0</td>\n      <td>1.0</td>\n      <td>&lt;0</td>\n      <td>existing paid</td>\n      <td>1&lt;=X&lt;4</td>\n      <td>yes</td>\n      <td>rent</td>\n      <td>skilled</td>\n      <td>none</td>\n      <td>none</td>\n      <td>none</td>\n      <td>female div/dep/mar</td>\n      <td>real estate</td>\n      <td>new car</td>\n      <td>no known savings</td>\n    </tr>\n    <tr>\n      <th>sol0</th>\n      <td>-</td>\n      <td>-</td>\n      <td>-</td>\n      <td>-</td>\n      <td>10.0</td>\n      <td>-</td>\n      <td>-</td>\n      <td>-</td>\n      <td>-</td>\n      <td>-</td>\n      <td>-</td>\n      <td>-</td>\n      <td>-</td>\n      <td>-</td>\n      <td>-</td>\n      <td>-</td>\n      <td>-</td>\n      <td>-</td>\n      <td>-</td>\n      <td>-</td>\n    </tr>\n    <tr>\n      <th>sol1</th>\n      <td>-</td>\n      <td>-</td>\n      <td>-</td>\n      <td>163.55</td>\n      <td>-</td>\n      <td>-</td>\n      <td>-</td>\n      <td>-</td>\n      <td>-</td>\n      <td>-</td>\n      <td>-</td>\n      <td>-</td>\n      <td>-</td>\n      <td>-</td>\n      <td>-</td>\n      <td>-</td>\n      <td>-</td>\n      <td>-</td>\n      <td>-</td>\n      <td>-</td>\n    </tr>\n    <tr>\n      <th>sol2</th>\n      <td>26.2</td>\n      <td>-</td>\n      <td>-</td>\n      <td>165.63</td>\n      <td>-</td>\n      <td>-</td>\n      <td>-</td>\n      <td>-</td>\n      <td>-</td>\n      <td>-</td>\n      <td>-</td>\n      <td>-</td>\n      <td>-</td>\n      <td>-</td>\n      <td>-</td>\n      <td>-</td>\n      <td>-</td>\n      <td>-</td>\n      <td>-</td>\n      <td>-</td>\n    </tr>\n  </tbody>\n</table>\n</div>"
     },
     "execution_count": 181,
     "metadata": {},
     "output_type": "execute_result"
    }
   ],
   "source": [
    "df_4 = ce_helpers.vis_dataframe(df, CEs_, F_r, F_coh, target, only_changes=True)\n",
    "df_4"
   ]
  },
  {
   "cell_type": "markdown",
   "id": "8ac43f76",
   "metadata": {},
   "source": [
    "### Evaluation"
   ]
  },
  {
   "cell_type": "code",
   "execution_count": 182,
   "id": "0f51d45f",
   "metadata": {},
   "outputs": [
    {
     "data": {
      "text/plain": "        validity  cat_prox  cont_prox  sparsity  cat_diver  cont_diver  \\\nPart A         1       1.0   -8661.59      0.90        NaN         NaN   \nPart B         1       1.0  -18092.99      0.95        NaN         NaN   \nPart C         1       1.0  -11986.54      0.92        0.0    12066.74   \nPart D         1       1.0     -95.79      0.93        0.0       99.22   \n\n        cont_count_divers  \nPart A                NaN  \nPart B                NaN  \nPart C               0.15  \nPart D               0.12  ",
      "text/html": "<div>\n<style scoped>\n    .dataframe tbody tr th:only-of-type {\n        vertical-align: middle;\n    }\n\n    .dataframe tbody tr th {\n        vertical-align: top;\n    }\n\n    .dataframe thead th {\n        text-align: right;\n    }\n</style>\n<table border=\"1\" class=\"dataframe\">\n  <thead>\n    <tr style=\"text-align: right;\">\n      <th></th>\n      <th>validity</th>\n      <th>cat_prox</th>\n      <th>cont_prox</th>\n      <th>sparsity</th>\n      <th>cat_diver</th>\n      <th>cont_diver</th>\n      <th>cont_count_divers</th>\n    </tr>\n  </thead>\n  <tbody>\n    <tr>\n      <th>Part A</th>\n      <td>1</td>\n      <td>1.0</td>\n      <td>-8661.59</td>\n      <td>0.90</td>\n      <td>NaN</td>\n      <td>NaN</td>\n      <td>NaN</td>\n    </tr>\n    <tr>\n      <th>Part B</th>\n      <td>1</td>\n      <td>1.0</td>\n      <td>-18092.99</td>\n      <td>0.95</td>\n      <td>NaN</td>\n      <td>NaN</td>\n      <td>NaN</td>\n    </tr>\n    <tr>\n      <th>Part C</th>\n      <td>1</td>\n      <td>1.0</td>\n      <td>-11986.54</td>\n      <td>0.92</td>\n      <td>0.0</td>\n      <td>12066.74</td>\n      <td>0.15</td>\n    </tr>\n    <tr>\n      <th>Part D</th>\n      <td>1</td>\n      <td>1.0</td>\n      <td>-95.79</td>\n      <td>0.93</td>\n      <td>0.0</td>\n      <td>99.22</td>\n      <td>0.12</td>\n    </tr>\n  </tbody>\n</table>\n</div>"
     },
     "execution_count": 182,
     "metadata": {},
     "output_type": "execute_result"
    }
   ],
   "source": [
    "CEs = ce_helpers.vis_dataframe(df, CEs_, F_r, F_coh, target, only_changes = False)\n",
    "\n",
    "CE_perf = pd.concat([CE_perf, ce_helpers.evaluation(clf, CEs, numerical, categorical, CEs_ = CEs_, rounding = True)])\n",
    "CE_perf = CE_perf.set_index(pd.Index(['Part A', 'Part B', 'Part C', 'Part D']))\n",
    "CE_perf"
   ]
  },
  {
   "cell_type": "markdown",
   "id": "070e7678",
   "metadata": {},
   "source": [
    "---"
   ]
  },
  {
   "cell_type": "markdown",
   "id": "95f89c7c",
   "metadata": {},
   "source": [
    "## Part E: validity, proximity, sparsity, diversity, actionability, trust region"
   ]
  },
  {
   "cell_type": "code",
   "execution_count": 183,
   "id": "9c479036",
   "metadata": {},
   "outputs": [],
   "source": [
    "sp = True\n",
    "tr_region = True\n",
    "enlarge_tr = False\n",
    "num_counterfactuals = 3"
   ]
  },
  {
   "cell_type": "code",
   "execution_count": 184,
   "id": "239f4b45",
   "metadata": {},
   "outputs": [],
   "source": [
    "# features that can only increase (become larger)\n",
    "L = ['age', 'residence_since']\n",
    "\n",
    "# immutable features\n",
    "I = ['personal_status_male div/sep', 'personal_status_male mar/wid','personal_status_male single',\n",
    "     'purpose_domestic appliance', 'purpose_education', 'purpose_furniture/equipment', 'purpose_new car',\n",
    "     'purpose_other', 'purpose_radio/tv', 'purpose_repairs', 'purpose_retraining', 'purpose_used car',\n",
    "     'foreign_worker_yes']\n",
    "\n",
    "employment = ['employment_unemployed', 'employment_<1', 'employment_1<=X<4','employment_4<=X<7', 'employment_>=7']\n",
    "Pers_I = [employment] # variables that must be considered for person specific immutable features\n",
    "\n",
    "P = ['duration', 'installment_commitment', 'num_dependents', 'credit_amount', 'existing_credits']"
   ]
  },
  {
   "cell_type": "markdown",
   "id": "8612ca1b",
   "metadata": {},
   "source": [
    "### Optimization"
   ]
  },
  {
   "cell_type": "code",
   "execution_count": 185,
   "id": "2a2cce48",
   "metadata": {},
   "outputs": [
    {
     "name": "stdout",
     "output_type": "stream",
     "text": [
      "Generating constraints for the trust region using 700 samples.\n",
      "The trust region is not being enlarged.\n",
      "... Trust region defined.\n",
      "Embedding constraints for counterfactual_german\n",
      "['checking_status_0<=X<200', 'checking_status_<0', 'checking_status_>=200', 'checking_status_no checking', 'credit_history_all paid', 'credit_history_critical/other existing credit', 'credit_history_delayed previously', 'credit_history_existing paid', 'credit_history_no credits/all paid', 'employment_1<=X<4', 'employment_4<=X<7', 'employment_<1', 'employment_>=7', 'employment_unemployed', 'foreign_worker_no', 'foreign_worker_yes', 'housing_for free', 'housing_own', 'housing_rent', 'job_high qualif/self emp/mgmt', 'job_skilled', 'job_unemp/unskilled non res', 'job_unskilled resident', 'other_parties_co applicant', 'other_parties_guarantor', 'other_parties_none', 'other_payment_plans_bank', 'other_payment_plans_none', 'other_payment_plans_stores', 'own_telephone_none', 'own_telephone_yes', 'personal_status_female div/dep/mar', 'personal_status_male div/sep', 'personal_status_male mar/wid', 'personal_status_male single', 'property_magnitude_car', 'property_magnitude_life insurance', 'property_magnitude_no known property', 'property_magnitude_real estate', 'purpose_business', 'purpose_domestic appliance', 'purpose_education', 'purpose_furniture/equipment', 'purpose_new car', 'purpose_other', 'purpose_radio/tv', 'purpose_repairs', 'purpose_retraining', 'purpose_used car', 'savings_status_100<=X<500', 'savings_status_500<=X<1000', 'savings_status_<100', 'savings_status_>=1000', 'savings_status_no known savings', 'duration', 'credit_amount', 'installment_commitment', 'age', 'residence_since', 'existing_credits', 'num_dependents']\n",
      "Changed value of parameter PoolSolutions to 103\n",
      "   Prev: 10  Min: 1  Max: 2000000000  Default: 10\n",
      "Changed value of parameter PoolSearchMode to 1\n",
      "   Prev: 0  Min: 0  Max: 2  Default: 0\n",
      "OBJ: 80004.46483587773\n",
      "The optimal solution is: [0.0, 1.0000000000006426, 0.0, -6.426642372519674e-13, 0.0, 0.0, 0.0, 1.0, 0.0, 1.0000000000006426, -6.426642372519674e-13, 0.0, 0.0, 0.0, 0.0, 1.0, -1.0159872942949733e-11, 9.438446669536751e-12, 1.0000000000007214, 0.0, 1.0, 0.0, 0.0, -0.0, 0.0, 1.0, 0.0, 1.0, 0.0, 1.0, 0.0, 1.0, 0.0, 0.0, 0.0, 1.000000000018203, -6.425970866530406e-13, -1.0159872942949733e-11, 0.0, 0.0, 0.0, 0.0, 0.0, 1.0, 0.0, 0.0, 0.0, 0.0, 0.0, 0.0, -0.0, 1.0000000000010367, 0.0, -6.426642372519674e-13, 0.16176470588228678, 0.07192545791052894, 0.33333333333290477, 0.16071428571432023, 1.0, 0.0, 0.0]\n"
     ]
    }
   ],
   "source": [
    "try: CEs, CEs_, final_model = ce_helpers.opt(X, X1, u, F_r, F_b, F_int, F_coh, I, L, Pers_I, P, sp, mu,\n",
    "                                             tr_region, enlarge_tr, num_counterfactuals, model_master, data_pip)\n",
    "except:\n",
    "    print('----TRUST REGION IS BEING ENLARGED----')\n",
    "    enlarge_tr = True\n",
    "    CEs, CEs_, final_model = ce_helpers.opt(X, X1, u, F_r, F_b, F_int, F_coh, I, L, Pers_I, P, sp, mu,\n",
    "                                            tr_region, enlarge_tr, num_counterfactuals, model_master, data_pip)"
   ]
  },
  {
   "cell_type": "markdown",
   "id": "a3c296dd",
   "metadata": {},
   "source": [
    "#### Visualize DF"
   ]
  },
  {
   "cell_type": "code",
   "execution_count": 186,
   "id": "e79b5fcc",
   "metadata": {},
   "outputs": [
    {
     "data": {
      "text/plain": "          duration  credit_amount installment_commitment   age  \\\noriginal      24.0        1371.26                    4.0  25.0   \nsol0          15.0        1402.60                    2.0  28.0   \nsol1          22.0        1283.52                      -     -   \nsol2          12.0        1893.04                      -  29.0   \n\n         residence_since existing_credits num_dependents checking_status  \\\noriginal             4.0              1.0            1.0              <0   \nsol0                   -                -              -               -   \nsol1                   -                -              -     no checking   \nsol2                   -                -              -               -   \n\n         credit_history employment foreign_worker housing      job  \\\noriginal  existing paid     1<=X<4            yes    rent  skilled   \nsol0                  -          -              -       -        -   \nsol1                  -     4<=X<7              -       -        -   \nsol2                  -          -              -     own        -   \n\n         other_parties other_payment_plans own_telephone     personal_status  \\\noriginal          none                none          none  female div/dep/mar   \nsol0                 -                   -             -                   -   \nsol1                 -                   -             -                   -   \nsol2         guarantor                   -           yes                   -   \n\n         property_magnitude  purpose    savings_status  \noriginal        real estate  new car  no known savings  \nsol0                    car        -              <100  \nsol1         life insurance        -                 -  \nsol2         life insurance        -              <100  ",
      "text/html": "<div>\n<style scoped>\n    .dataframe tbody tr th:only-of-type {\n        vertical-align: middle;\n    }\n\n    .dataframe tbody tr th {\n        vertical-align: top;\n    }\n\n    .dataframe thead th {\n        text-align: right;\n    }\n</style>\n<table border=\"1\" class=\"dataframe\">\n  <thead>\n    <tr style=\"text-align: right;\">\n      <th></th>\n      <th>duration</th>\n      <th>credit_amount</th>\n      <th>installment_commitment</th>\n      <th>age</th>\n      <th>residence_since</th>\n      <th>existing_credits</th>\n      <th>num_dependents</th>\n      <th>checking_status</th>\n      <th>credit_history</th>\n      <th>employment</th>\n      <th>foreign_worker</th>\n      <th>housing</th>\n      <th>job</th>\n      <th>other_parties</th>\n      <th>other_payment_plans</th>\n      <th>own_telephone</th>\n      <th>personal_status</th>\n      <th>property_magnitude</th>\n      <th>purpose</th>\n      <th>savings_status</th>\n    </tr>\n  </thead>\n  <tbody>\n    <tr>\n      <th>original</th>\n      <td>24.0</td>\n      <td>1371.26</td>\n      <td>4.0</td>\n      <td>25.0</td>\n      <td>4.0</td>\n      <td>1.0</td>\n      <td>1.0</td>\n      <td>&lt;0</td>\n      <td>existing paid</td>\n      <td>1&lt;=X&lt;4</td>\n      <td>yes</td>\n      <td>rent</td>\n      <td>skilled</td>\n      <td>none</td>\n      <td>none</td>\n      <td>none</td>\n      <td>female div/dep/mar</td>\n      <td>real estate</td>\n      <td>new car</td>\n      <td>no known savings</td>\n    </tr>\n    <tr>\n      <th>sol0</th>\n      <td>15.0</td>\n      <td>1402.60</td>\n      <td>2.0</td>\n      <td>28.0</td>\n      <td>-</td>\n      <td>-</td>\n      <td>-</td>\n      <td>-</td>\n      <td>-</td>\n      <td>-</td>\n      <td>-</td>\n      <td>-</td>\n      <td>-</td>\n      <td>-</td>\n      <td>-</td>\n      <td>-</td>\n      <td>-</td>\n      <td>car</td>\n      <td>-</td>\n      <td>&lt;100</td>\n    </tr>\n    <tr>\n      <th>sol1</th>\n      <td>22.0</td>\n      <td>1283.52</td>\n      <td>-</td>\n      <td>-</td>\n      <td>-</td>\n      <td>-</td>\n      <td>-</td>\n      <td>no checking</td>\n      <td>-</td>\n      <td>4&lt;=X&lt;7</td>\n      <td>-</td>\n      <td>-</td>\n      <td>-</td>\n      <td>-</td>\n      <td>-</td>\n      <td>-</td>\n      <td>-</td>\n      <td>life insurance</td>\n      <td>-</td>\n      <td>-</td>\n    </tr>\n    <tr>\n      <th>sol2</th>\n      <td>12.0</td>\n      <td>1893.04</td>\n      <td>-</td>\n      <td>29.0</td>\n      <td>-</td>\n      <td>-</td>\n      <td>-</td>\n      <td>-</td>\n      <td>-</td>\n      <td>-</td>\n      <td>-</td>\n      <td>own</td>\n      <td>-</td>\n      <td>guarantor</td>\n      <td>-</td>\n      <td>yes</td>\n      <td>-</td>\n      <td>life insurance</td>\n      <td>-</td>\n      <td>&lt;100</td>\n    </tr>\n  </tbody>\n</table>\n</div>"
     },
     "execution_count": 186,
     "metadata": {},
     "output_type": "execute_result"
    }
   ],
   "source": [
    "df_5 = ce_helpers.vis_dataframe(df, CEs_, F_r, F_coh, target, only_changes=True)\n",
    "df_5"
   ]
  },
  {
   "cell_type": "markdown",
   "id": "b40cf4d0",
   "metadata": {},
   "source": [
    "### Evaluating"
   ]
  },
  {
   "cell_type": "code",
   "execution_count": 187,
   "id": "e262c94b",
   "metadata": {},
   "outputs": [
    {
     "data": {
      "text/plain": "        validity  cat_prox  cont_prox  sparsity  cat_diver  cont_diver  \\\nPart A         1      1.00   -8661.59      0.90        NaN         NaN   \nPart B         1      1.00  -18092.99      0.95        NaN         NaN   \nPart C         1      1.00  -11986.54      0.92       0.00    12066.74   \nPart D         1      1.00     -95.79      0.93       0.00       99.22   \nPart E         1      0.74    -224.29      0.68       0.36      417.01   \n\n        cont_count_divers  \nPart A                NaN  \nPart B                NaN  \nPart C               0.15  \nPart D               0.12  \nPart E               0.42  ",
      "text/html": "<div>\n<style scoped>\n    .dataframe tbody tr th:only-of-type {\n        vertical-align: middle;\n    }\n\n    .dataframe tbody tr th {\n        vertical-align: top;\n    }\n\n    .dataframe thead th {\n        text-align: right;\n    }\n</style>\n<table border=\"1\" class=\"dataframe\">\n  <thead>\n    <tr style=\"text-align: right;\">\n      <th></th>\n      <th>validity</th>\n      <th>cat_prox</th>\n      <th>cont_prox</th>\n      <th>sparsity</th>\n      <th>cat_diver</th>\n      <th>cont_diver</th>\n      <th>cont_count_divers</th>\n    </tr>\n  </thead>\n  <tbody>\n    <tr>\n      <th>Part A</th>\n      <td>1</td>\n      <td>1.00</td>\n      <td>-8661.59</td>\n      <td>0.90</td>\n      <td>NaN</td>\n      <td>NaN</td>\n      <td>NaN</td>\n    </tr>\n    <tr>\n      <th>Part B</th>\n      <td>1</td>\n      <td>1.00</td>\n      <td>-18092.99</td>\n      <td>0.95</td>\n      <td>NaN</td>\n      <td>NaN</td>\n      <td>NaN</td>\n    </tr>\n    <tr>\n      <th>Part C</th>\n      <td>1</td>\n      <td>1.00</td>\n      <td>-11986.54</td>\n      <td>0.92</td>\n      <td>0.00</td>\n      <td>12066.74</td>\n      <td>0.15</td>\n    </tr>\n    <tr>\n      <th>Part D</th>\n      <td>1</td>\n      <td>1.00</td>\n      <td>-95.79</td>\n      <td>0.93</td>\n      <td>0.00</td>\n      <td>99.22</td>\n      <td>0.12</td>\n    </tr>\n    <tr>\n      <th>Part E</th>\n      <td>1</td>\n      <td>0.74</td>\n      <td>-224.29</td>\n      <td>0.68</td>\n      <td>0.36</td>\n      <td>417.01</td>\n      <td>0.42</td>\n    </tr>\n  </tbody>\n</table>\n</div>"
     },
     "execution_count": 187,
     "metadata": {},
     "output_type": "execute_result"
    }
   ],
   "source": [
    "CEs = ce_helpers.vis_dataframe(df, CEs_, F_r, F_coh, target, only_changes = False)\n",
    "\n",
    "CE_perf = pd.concat([CE_perf, ce_helpers.evaluation(clf, CEs, numerical, categorical, CEs_ = CEs_, rounding = True)])\n",
    "CE_perf = CE_perf.set_index(pd.Index(['Part A', 'Part B', 'Part C', 'Part D', 'Part E']))\n",
    "CE_perf"
   ]
  },
  {
   "cell_type": "markdown",
   "id": "d82cd505",
   "metadata": {},
   "source": [
    "---"
   ]
  },
  {
   "cell_type": "markdown",
   "id": "abb56c68",
   "metadata": {},
   "source": [
    "## Part F: validity, proximity, sparsity, diversity, actionability, trust region, causality"
   ]
  },
  {
   "cell_type": "code",
   "execution_count": 188,
   "id": "139a65dd",
   "metadata": {},
   "outputs": [],
   "source": [
    "sp = True\n",
    "tr_region = True\n",
    "enlarge_tr = False\n",
    "num_counterfactuals = 3"
   ]
  },
  {
   "cell_type": "code",
   "execution_count": 189,
   "id": "d69f0acc",
   "metadata": {},
   "outputs": [],
   "source": [
    "# features that can only increase (become larger)\n",
    "L = ['age', 'residence_since']\n",
    "\n",
    "# immutable features\n",
    "I = ['personal_status_male div/sep', 'personal_status_male mar/wid','personal_status_male single',\n",
    "     'purpose_domestic appliance', 'purpose_education', 'purpose_furniture/equipment', 'purpose_new car',\n",
    "     'purpose_other', 'purpose_radio/tv', 'purpose_repairs', 'purpose_retraining', 'purpose_used car',\n",
    "     'foreign_worker_yes']\n",
    "\n",
    "employment = ['employment_unemployed', 'employment_<1', 'employment_1<=X<4','employment_4<=X<7', 'employment_>=7']\n",
    "Pers_I = [employment] # variables that must be considered for person specific immutable features\n",
    "\n",
    "P = ['duration', 'installment_commitment', 'num_dependents', 'credit_amount', 'existing_credits']"
   ]
  },
  {
   "cell_type": "markdown",
   "id": "9c6f5cd3",
   "metadata": {},
   "source": [
    "### define constraints"
   ]
  },
  {
   "cell_type": "code",
   "execution_count": 190,
   "id": "956d5084",
   "metadata": {},
   "outputs": [],
   "source": [
    "constraints_embed = ['duration', 'counterfactual_german']"
   ]
  },
  {
   "cell_type": "code",
   "execution_count": 191,
   "id": "e684be49",
   "metadata": {},
   "outputs": [
    {
     "name": "stdout",
     "output_type": "stream",
     "text": [
      "                 outcome model_type  \\\n",
      "0  counterfactual_german        mlp   \n",
      "\n",
      "                                           save_path    task  objective  \n",
      "0  results/mlp/german_credit_v1_counterfactual_ge...  binary          0  \n",
      "    outcome model_type                                        save_path  \\\n",
      "0  duration        mlp  results/mlp/german_credit_v1_duration_model.csv   \n",
      "\n",
      "         task  objective  \n",
      "0  continuous          0  \n"
     ]
    },
    {
     "data": {
      "text/plain": "                 outcome model_type  \\\n0  counterfactual_german        mlp   \n0               duration        mlp   \n\n                                           save_path        task  objective  \\\n0  results/mlp/german_credit_v1_counterfactual_ge...      binary          0   \n0    results/mlp/german_credit_v1_duration_model.csv  continuous          0   \n\n  SCM_counterfactuals   lb    ub  \\\n0                None  0.5  None   \n0           -0.137631  0.5  None   \n\n                                            features  \n0  [checking_status_0<=X<200, checking_status_<0,...  \n0                                    [credit_amount]  ",
      "text/html": "<div>\n<style scoped>\n    .dataframe tbody tr th:only-of-type {\n        vertical-align: middle;\n    }\n\n    .dataframe tbody tr th {\n        vertical-align: top;\n    }\n\n    .dataframe thead th {\n        text-align: right;\n    }\n</style>\n<table border=\"1\" class=\"dataframe\">\n  <thead>\n    <tr style=\"text-align: right;\">\n      <th></th>\n      <th>outcome</th>\n      <th>model_type</th>\n      <th>save_path</th>\n      <th>task</th>\n      <th>objective</th>\n      <th>SCM_counterfactuals</th>\n      <th>lb</th>\n      <th>ub</th>\n      <th>features</th>\n    </tr>\n  </thead>\n  <tbody>\n    <tr>\n      <th>0</th>\n      <td>counterfactual_german</td>\n      <td>mlp</td>\n      <td>results/mlp/german_credit_v1_counterfactual_ge...</td>\n      <td>binary</td>\n      <td>0</td>\n      <td>None</td>\n      <td>0.5</td>\n      <td>None</td>\n      <td>[checking_status_0&lt;=X&lt;200, checking_status_&lt;0,...</td>\n    </tr>\n    <tr>\n      <th>0</th>\n      <td>duration</td>\n      <td>mlp</td>\n      <td>results/mlp/german_credit_v1_duration_model.csv</td>\n      <td>continuous</td>\n      <td>0</td>\n      <td>-0.137631</td>\n      <td>0.5</td>\n      <td>None</td>\n      <td>[credit_amount]</td>\n    </tr>\n  </tbody>\n</table>\n</div>"
     },
     "execution_count": 191,
     "metadata": {},
     "output_type": "execute_result"
    }
   ],
   "source": [
    "model_master_causality = oc.model_selection(performance[(performance['alg']==algorithm) & (performance['outcome']=='counterfactual_german')], constraints_embed, objectives_embed)\n",
    "model_master_causality = model_master_causality.append(oc.model_selection(performance[(performance['alg']==SCM_algo) & (performance['outcome']!='counterfactual_german')], constraints_embed, objectives_embed))\n",
    "model_master_causality['SCM_counterfactuals'] = None\n",
    "model_master_causality.loc[model_master_causality['outcome']=='duration','SCM_counterfactuals'] =  clf_Duration.predict(pd.DataFrame([u['credit_amount']], columns=['credit_amount'])) - u['duration']\n",
    "model_master_causality['lb'] = 0.50\n",
    "model_master_causality['ub'] = None\n",
    "\n",
    "df_arr = pd.DataFrame({'features': [list(X.columns)]})\n",
    "result_1 = pd.merge(\n",
    "    model_master_causality.loc[model_master_causality['outcome']=='counterfactual_german',:] ,\n",
    "    df_arr,\n",
    "    how='left',\n",
    "    left_index=True, # Merge on both indexes, since right only has 0...\n",
    "    right_index=True # all the other rows will be NaN\n",
    ")\n",
    "df_arr = pd.DataFrame({'features':[['credit_amount']]})\n",
    "result_2 = pd.merge(\n",
    "    model_master_causality.loc[model_master_causality['outcome']=='duration',:].reset_index(drop=True) ,\n",
    "    df_arr,\n",
    "    how='left',\n",
    "    left_index=True, # Merge on both indexes, since right only has 0...\n",
    "    right_index=True # all the other rows will be NaN\n",
    ")\n",
    "model_master_causality = result_1.append(result_2)\n",
    "model_master = pd.DataFrame(model_master_causality.iloc[0, :]).T\n",
    "model_master_causality"
   ]
  },
  {
   "cell_type": "code",
   "execution_count": 192,
   "id": "aa6efa83",
   "metadata": {},
   "outputs": [
    {
     "name": "stdout",
     "output_type": "stream",
     "text": [
      "Generating constraints for the trust region using 700 samples.\n",
      "The trust region is not being enlarged.\n",
      "... Trust region defined.\n",
      "Embedding constraints for counterfactual_german\n",
      "['checking_status_0<=X<200', 'checking_status_<0', 'checking_status_>=200', 'checking_status_no checking', 'credit_history_all paid', 'credit_history_critical/other existing credit', 'credit_history_delayed previously', 'credit_history_existing paid', 'credit_history_no credits/all paid', 'employment_1<=X<4', 'employment_4<=X<7', 'employment_<1', 'employment_>=7', 'employment_unemployed', 'foreign_worker_no', 'foreign_worker_yes', 'housing_for free', 'housing_own', 'housing_rent', 'job_high qualif/self emp/mgmt', 'job_skilled', 'job_unemp/unskilled non res', 'job_unskilled resident', 'other_parties_co applicant', 'other_parties_guarantor', 'other_parties_none', 'other_payment_plans_bank', 'other_payment_plans_none', 'other_payment_plans_stores', 'own_telephone_none', 'own_telephone_yes', 'personal_status_female div/dep/mar', 'personal_status_male div/sep', 'personal_status_male mar/wid', 'personal_status_male single', 'property_magnitude_car', 'property_magnitude_life insurance', 'property_magnitude_no known property', 'property_magnitude_real estate', 'purpose_business', 'purpose_domestic appliance', 'purpose_education', 'purpose_furniture/equipment', 'purpose_new car', 'purpose_other', 'purpose_radio/tv', 'purpose_repairs', 'purpose_retraining', 'purpose_used car', 'savings_status_100<=X<500', 'savings_status_500<=X<1000', 'savings_status_<100', 'savings_status_>=1000', 'savings_status_no known savings', 'duration', 'credit_amount', 'installment_commitment', 'age', 'residence_since', 'existing_credits', 'num_dependents']\n",
      "Embedding constraints for duration\n",
      "['credit_amount']\n",
      "SCM: -0.13763087009794528\n",
      "Changed value of parameter PoolSolutions to 103\n",
      "   Prev: 10  Min: 1  Max: 2000000000  Default: 10\n",
      "Changed value of parameter PoolSearchMode to 1\n",
      "   Prev: 0  Min: 0  Max: 2  Default: 0\n",
      "WARNING: Loading a SolverResults object with a warning status into\n",
      "    model.name=\"CE\";\n",
      "      - termination condition: infeasibleOrUnbounded\n",
      "      - message from solver: <undefined>\n",
      "ERROR: evaluating object as numeric value: x[checking_status_0<=X<200]\n",
      "        (object: <class 'pyomo.core.base.var._GeneralVarData'>)\n",
      "    No value for uninitialized NumericValue object x[checking_status_0<=X<200]\n",
      "ERROR: evaluating object as numeric value: OBJ\n",
      "        (object: <class 'pyomo.core.base.objective.ScalarObjective'>)\n",
      "    No value for uninitialized NumericValue object x[checking_status_0<=X<200]\n",
      "----TRUST REGION IS BEING ENLARGED----\n",
      "Generating constraints for the trust region using 700 samples.\n",
      "The trust region is being enlarged with penatly Beta: 100000.\n",
      "... Trust region defined.\n",
      "Embedding constraints for counterfactual_german\n",
      "['checking_status_0<=X<200', 'checking_status_<0', 'checking_status_>=200', 'checking_status_no checking', 'credit_history_all paid', 'credit_history_critical/other existing credit', 'credit_history_delayed previously', 'credit_history_existing paid', 'credit_history_no credits/all paid', 'employment_1<=X<4', 'employment_4<=X<7', 'employment_<1', 'employment_>=7', 'employment_unemployed', 'foreign_worker_no', 'foreign_worker_yes', 'housing_for free', 'housing_own', 'housing_rent', 'job_high qualif/self emp/mgmt', 'job_skilled', 'job_unemp/unskilled non res', 'job_unskilled resident', 'other_parties_co applicant', 'other_parties_guarantor', 'other_parties_none', 'other_payment_plans_bank', 'other_payment_plans_none', 'other_payment_plans_stores', 'own_telephone_none', 'own_telephone_yes', 'personal_status_female div/dep/mar', 'personal_status_male div/sep', 'personal_status_male mar/wid', 'personal_status_male single', 'property_magnitude_car', 'property_magnitude_life insurance', 'property_magnitude_no known property', 'property_magnitude_real estate', 'purpose_business', 'purpose_domestic appliance', 'purpose_education', 'purpose_furniture/equipment', 'purpose_new car', 'purpose_other', 'purpose_radio/tv', 'purpose_repairs', 'purpose_retraining', 'purpose_used car', 'savings_status_100<=X<500', 'savings_status_500<=X<1000', 'savings_status_<100', 'savings_status_>=1000', 'savings_status_no known savings', 'duration', 'credit_amount', 'installment_commitment', 'age', 'residence_since', 'existing_credits', 'num_dependents']\n",
      "Embedding constraints for duration\n",
      "['credit_amount']\n",
      "SCM: -0.13763087009794528\n",
      "Changed value of parameter PoolSolutions to 103\n",
      "   Prev: 10  Min: 1  Max: 2000000000  Default: 10\n",
      "Changed value of parameter PoolSearchMode to 1\n",
      "   Prev: 0  Min: 0  Max: 2  Default: 0\n",
      "OBJ: 63444.01990515237\n",
      "The optimal solution is: [-0.0, 1.0, 0.0, 0.0, -0.0, 0.0, 0.0, 1.0, -0.0, 1.0, 0.0, 0.0, -0.0, 0.0, 0.0, 1.0, 0.0, -0.0, 1.0, 0.0, 1.0, -0.0, 0.0, 0.0, -0.0, 1.0, -0.0, 1.0, -0.0, 1.0, 0.0, 1.0, 0.0, 0.0, 0.0, 1.0, 0.0, -0.0, 0.0, 0.0, 0.0, 0.0, 0.0, 1.0, 0.0, 0.0, 0.0, 0.0, 0.0, 0.0, 0.0, 1.0, 0.0, -0.0, 0.2941176470541474, 0.06988320888850451, 0.33333333333333326, 0.16071428571428575, 1.0, -0.0, -0.0]\n"
     ]
    }
   ],
   "source": [
    "try: CEs, CEs_, final_model = ce_helpers.opt(X, X1, u, F_r, F_b, F_int, F_coh, I, L, Pers_I, P, sp, mu,\n",
    "                                             tr_region, enlarge_tr, num_counterfactuals, model_master_causality, data_pip)\n",
    "except:\n",
    "    print('----TRUST REGION IS BEING ENLARGED----')\n",
    "    enlarge_tr = True\n",
    "    CEs, CEs_, final_model = ce_helpers.opt(X, X1, u, F_r, F_b, F_int, F_coh, I, L, Pers_I, P, sp, mu,\n",
    "                                            tr_region, enlarge_tr, num_counterfactuals, model_master_causality, data_pip)"
   ]
  },
  {
   "cell_type": "markdown",
   "id": "39a165fc",
   "metadata": {},
   "source": [
    "#### Visualize DF"
   ]
  },
  {
   "cell_type": "code",
   "execution_count": 193,
   "id": "9c99671b",
   "metadata": {},
   "outputs": [
    {
     "data": {
      "text/plain": "         duration credit_amount installment_commitment   age residence_since  \\\noriginal     24.0       1371.26                    4.0  25.0             4.0   \nsol0            -             -                    2.0  28.0               -   \nsol1            -             -                      -     -               -   \nsol2            -             -                    2.0     -               -   \n\n         existing_credits num_dependents checking_status credit_history  \\\noriginal              1.0            1.0              <0  existing paid   \nsol0                    -              -               -              -   \nsol1                    -              -     no checking              -   \nsol2                    -              -               -              -   \n\n         employment foreign_worker housing      job other_parties  \\\noriginal     1<=X<4            yes    rent  skilled          none   \nsol0              -              -       -        -             -   \nsol1         4<=X<7              -       -        -             -   \nsol2              -              -       -        -             -   \n\n         other_payment_plans own_telephone     personal_status  \\\noriginal                none          none  female div/dep/mar   \nsol0                       -             -                   -   \nsol1                       -             -                   -   \nsol2                       -             -                   -   \n\n         property_magnitude  purpose    savings_status  \noriginal        real estate  new car  no known savings  \nsol0                    car        -              <100  \nsol1         life insurance        -                 -  \nsol2                    car        -              <100  ",
      "text/html": "<div>\n<style scoped>\n    .dataframe tbody tr th:only-of-type {\n        vertical-align: middle;\n    }\n\n    .dataframe tbody tr th {\n        vertical-align: top;\n    }\n\n    .dataframe thead th {\n        text-align: right;\n    }\n</style>\n<table border=\"1\" class=\"dataframe\">\n  <thead>\n    <tr style=\"text-align: right;\">\n      <th></th>\n      <th>duration</th>\n      <th>credit_amount</th>\n      <th>installment_commitment</th>\n      <th>age</th>\n      <th>residence_since</th>\n      <th>existing_credits</th>\n      <th>num_dependents</th>\n      <th>checking_status</th>\n      <th>credit_history</th>\n      <th>employment</th>\n      <th>foreign_worker</th>\n      <th>housing</th>\n      <th>job</th>\n      <th>other_parties</th>\n      <th>other_payment_plans</th>\n      <th>own_telephone</th>\n      <th>personal_status</th>\n      <th>property_magnitude</th>\n      <th>purpose</th>\n      <th>savings_status</th>\n    </tr>\n  </thead>\n  <tbody>\n    <tr>\n      <th>original</th>\n      <td>24.0</td>\n      <td>1371.26</td>\n      <td>4.0</td>\n      <td>25.0</td>\n      <td>4.0</td>\n      <td>1.0</td>\n      <td>1.0</td>\n      <td>&lt;0</td>\n      <td>existing paid</td>\n      <td>1&lt;=X&lt;4</td>\n      <td>yes</td>\n      <td>rent</td>\n      <td>skilled</td>\n      <td>none</td>\n      <td>none</td>\n      <td>none</td>\n      <td>female div/dep/mar</td>\n      <td>real estate</td>\n      <td>new car</td>\n      <td>no known savings</td>\n    </tr>\n    <tr>\n      <th>sol0</th>\n      <td>-</td>\n      <td>-</td>\n      <td>2.0</td>\n      <td>28.0</td>\n      <td>-</td>\n      <td>-</td>\n      <td>-</td>\n      <td>-</td>\n      <td>-</td>\n      <td>-</td>\n      <td>-</td>\n      <td>-</td>\n      <td>-</td>\n      <td>-</td>\n      <td>-</td>\n      <td>-</td>\n      <td>-</td>\n      <td>car</td>\n      <td>-</td>\n      <td>&lt;100</td>\n    </tr>\n    <tr>\n      <th>sol1</th>\n      <td>-</td>\n      <td>-</td>\n      <td>-</td>\n      <td>-</td>\n      <td>-</td>\n      <td>-</td>\n      <td>-</td>\n      <td>no checking</td>\n      <td>-</td>\n      <td>4&lt;=X&lt;7</td>\n      <td>-</td>\n      <td>-</td>\n      <td>-</td>\n      <td>-</td>\n      <td>-</td>\n      <td>-</td>\n      <td>-</td>\n      <td>life insurance</td>\n      <td>-</td>\n      <td>-</td>\n    </tr>\n    <tr>\n      <th>sol2</th>\n      <td>-</td>\n      <td>-</td>\n      <td>2.0</td>\n      <td>-</td>\n      <td>-</td>\n      <td>-</td>\n      <td>-</td>\n      <td>-</td>\n      <td>-</td>\n      <td>-</td>\n      <td>-</td>\n      <td>-</td>\n      <td>-</td>\n      <td>-</td>\n      <td>-</td>\n      <td>-</td>\n      <td>-</td>\n      <td>car</td>\n      <td>-</td>\n      <td>&lt;100</td>\n    </tr>\n  </tbody>\n</table>\n</div>"
     },
     "execution_count": 193,
     "metadata": {},
     "output_type": "execute_result"
    }
   ],
   "source": [
    "df_6 = ce_helpers.vis_dataframe(df, CEs_, F_r,F_coh, target, only_changes=True)\n",
    "df_6"
   ]
  },
  {
   "cell_type": "markdown",
   "id": "24eff022",
   "metadata": {},
   "source": [
    "### Evaluating"
   ]
  },
  {
   "cell_type": "code",
   "execution_count": 194,
   "id": "f56e6127",
   "metadata": {},
   "outputs": [
    {
     "data": {
      "text/plain": "        validity  cat_prox  cont_prox  sparsity  cat_diver  cont_diver  \\\nPart A         1      1.00   -8661.59      0.90        NaN         NaN   \nPart B         1      1.00  -18092.99      0.95        NaN         NaN   \nPart C         1      1.00  -11986.54      0.92       0.00    12066.74   \nPart D         1      1.00     -95.79      0.93       0.00       99.22   \nPart E         1      0.74    -224.29      0.68       0.36      417.01   \nPart F         1      0.82      -2.33      0.83       0.21        3.33   \n\n        cont_count_divers  \nPart A                NaN  \nPart B                NaN  \nPart C               0.15  \nPart D               0.12  \nPart E               0.42  \nPart F               0.20  ",
      "text/html": "<div>\n<style scoped>\n    .dataframe tbody tr th:only-of-type {\n        vertical-align: middle;\n    }\n\n    .dataframe tbody tr th {\n        vertical-align: top;\n    }\n\n    .dataframe thead th {\n        text-align: right;\n    }\n</style>\n<table border=\"1\" class=\"dataframe\">\n  <thead>\n    <tr style=\"text-align: right;\">\n      <th></th>\n      <th>validity</th>\n      <th>cat_prox</th>\n      <th>cont_prox</th>\n      <th>sparsity</th>\n      <th>cat_diver</th>\n      <th>cont_diver</th>\n      <th>cont_count_divers</th>\n    </tr>\n  </thead>\n  <tbody>\n    <tr>\n      <th>Part A</th>\n      <td>1</td>\n      <td>1.00</td>\n      <td>-8661.59</td>\n      <td>0.90</td>\n      <td>NaN</td>\n      <td>NaN</td>\n      <td>NaN</td>\n    </tr>\n    <tr>\n      <th>Part B</th>\n      <td>1</td>\n      <td>1.00</td>\n      <td>-18092.99</td>\n      <td>0.95</td>\n      <td>NaN</td>\n      <td>NaN</td>\n      <td>NaN</td>\n    </tr>\n    <tr>\n      <th>Part C</th>\n      <td>1</td>\n      <td>1.00</td>\n      <td>-11986.54</td>\n      <td>0.92</td>\n      <td>0.00</td>\n      <td>12066.74</td>\n      <td>0.15</td>\n    </tr>\n    <tr>\n      <th>Part D</th>\n      <td>1</td>\n      <td>1.00</td>\n      <td>-95.79</td>\n      <td>0.93</td>\n      <td>0.00</td>\n      <td>99.22</td>\n      <td>0.12</td>\n    </tr>\n    <tr>\n      <th>Part E</th>\n      <td>1</td>\n      <td>0.74</td>\n      <td>-224.29</td>\n      <td>0.68</td>\n      <td>0.36</td>\n      <td>417.01</td>\n      <td>0.42</td>\n    </tr>\n    <tr>\n      <th>Part F</th>\n      <td>1</td>\n      <td>0.82</td>\n      <td>-2.33</td>\n      <td>0.83</td>\n      <td>0.21</td>\n      <td>3.33</td>\n      <td>0.20</td>\n    </tr>\n  </tbody>\n</table>\n</div>"
     },
     "execution_count": 194,
     "metadata": {},
     "output_type": "execute_result"
    }
   ],
   "source": [
    "CEs = ce_helpers.vis_dataframe(df, CEs_, F_r, F_coh, target, only_changes = False)\n",
    "\n",
    "CE_perf = pd.concat([CE_perf, ce_helpers.evaluation(clf, CEs, numerical, categorical, CEs_ = CEs_, rounding = True)])\n",
    "CE_perf = CE_perf.set_index(pd.Index(['Part A', 'Part B', 'Part C', 'Part D', 'Part E', 'Part F']))\n",
    "CE_perf"
   ]
  },
  {
   "cell_type": "markdown",
   "id": "76c8c055",
   "metadata": {},
   "source": [
    "## Table"
   ]
  },
  {
   "cell_type": "code",
   "execution_count": 195,
   "id": "d912b0ce",
   "metadata": {},
   "outputs": [
    {
     "data": {
      "text/plain": "         duration credit_amount installment_commitment     age  \\\noriginal     24.0       1371.26                    4.0    25.0   \nsol0            -      -7288.99                   2.66       -   \noriginal     24.0       1371.26                    4.0    25.0   \nsol0            -     -16721.73                      -       -   \noriginal     24.0       1371.26                    4.0    25.0   \nsol0            -     -16721.73                      -       -   \nsol1        23.73     -16488.26                      -   28.25   \nsol2            -             -                    0.4       -   \noriginal     24.0       1371.26                    4.0    25.0   \nsol0            -             -                      -       -   \nsol1            -             -                      -  163.55   \nsol2         26.2             -                      -  165.63   \noriginal     24.0       1371.26                    4.0    25.0   \nsol0         15.0        1402.6                    2.0    28.0   \nsol1         22.0       1283.52                      -       -   \nsol2         12.0       1893.04                      -    29.0   \noriginal     24.0       1371.26                    4.0    25.0   \nsol0            -             -                    2.0    28.0   \nsol1            -             -                      -       -   \nsol2            -             -                    2.0       -   \n\n         residence_since existing_credits num_dependents checking_status  \\\noriginal             4.0              1.0            1.0              <0   \nsol0                   -                -              -               -   \noriginal             4.0              1.0            1.0              <0   \nsol0                   -                -              -               -   \noriginal             4.0              1.0            1.0              <0   \nsol0                   -                -              -               -   \nsol1                   -                -              -               -   \nsol2                   -                -              -               -   \noriginal             4.0              1.0            1.0              <0   \nsol0                10.0                -              -               -   \nsol1                   -                -              -               -   \nsol2                   -                -              -               -   \noriginal             4.0              1.0            1.0              <0   \nsol0                   -                -              -               -   \nsol1                   -                -              -     no checking   \nsol2                   -                -              -               -   \noriginal             4.0              1.0            1.0              <0   \nsol0                   -                -              -               -   \nsol1                   -                -              -     no checking   \nsol2                   -                -              -               -   \n\n         credit_history employment foreign_worker housing      job  \\\noriginal  existing paid     1<=X<4            yes    rent  skilled   \nsol0                  -          -              -       -        -   \noriginal  existing paid     1<=X<4            yes    rent  skilled   \nsol0                  -          -              -       -        -   \noriginal  existing paid     1<=X<4            yes    rent  skilled   \nsol0                  -          -              -       -        -   \nsol1                  -          -              -       -        -   \nsol2                  -          -              -       -        -   \noriginal  existing paid     1<=X<4            yes    rent  skilled   \nsol0                  -          -              -       -        -   \nsol1                  -          -              -       -        -   \nsol2                  -          -              -       -        -   \noriginal  existing paid     1<=X<4            yes    rent  skilled   \nsol0                  -          -              -       -        -   \nsol1                  -     4<=X<7              -       -        -   \nsol2                  -          -              -     own        -   \noriginal  existing paid     1<=X<4            yes    rent  skilled   \nsol0                  -          -              -       -        -   \nsol1                  -     4<=X<7              -       -        -   \nsol2                  -          -              -       -        -   \n\n         other_parties other_payment_plans own_telephone     personal_status  \\\noriginal          none                none          none  female div/dep/mar   \nsol0                 -                   -             -                   -   \noriginal          none                none          none  female div/dep/mar   \nsol0                 -                   -             -                   -   \noriginal          none                none          none  female div/dep/mar   \nsol0                 -                   -             -                   -   \nsol1                 -                   -             -                   -   \nsol2                 -                   -             -                   -   \noriginal          none                none          none  female div/dep/mar   \nsol0                 -                   -             -                   -   \nsol1                 -                   -             -                   -   \nsol2                 -                   -             -                   -   \noriginal          none                none          none  female div/dep/mar   \nsol0                 -                   -             -                   -   \nsol1                 -                   -             -                   -   \nsol2         guarantor                   -           yes                   -   \noriginal          none                none          none  female div/dep/mar   \nsol0                 -                   -             -                   -   \nsol1                 -                   -             -                   -   \nsol2                 -                   -             -                   -   \n\n         property_magnitude  purpose    savings_status  \noriginal        real estate  new car  no known savings  \nsol0                      -        -                 -  \noriginal        real estate  new car  no known savings  \nsol0                      -        -                 -  \noriginal        real estate  new car  no known savings  \nsol0                      -        -                 -  \nsol1                      -        -                 -  \nsol2                      -        -                 -  \noriginal        real estate  new car  no known savings  \nsol0                      -        -                 -  \nsol1                      -        -                 -  \nsol2                      -        -                 -  \noriginal        real estate  new car  no known savings  \nsol0                    car        -              <100  \nsol1         life insurance        -                 -  \nsol2         life insurance        -              <100  \noriginal        real estate  new car  no known savings  \nsol0                    car        -              <100  \nsol1         life insurance        -                 -  \nsol2                    car        -              <100  ",
      "text/html": "<div>\n<style scoped>\n    .dataframe tbody tr th:only-of-type {\n        vertical-align: middle;\n    }\n\n    .dataframe tbody tr th {\n        vertical-align: top;\n    }\n\n    .dataframe thead th {\n        text-align: right;\n    }\n</style>\n<table border=\"1\" class=\"dataframe\">\n  <thead>\n    <tr style=\"text-align: right;\">\n      <th></th>\n      <th>duration</th>\n      <th>credit_amount</th>\n      <th>installment_commitment</th>\n      <th>age</th>\n      <th>residence_since</th>\n      <th>existing_credits</th>\n      <th>num_dependents</th>\n      <th>checking_status</th>\n      <th>credit_history</th>\n      <th>employment</th>\n      <th>foreign_worker</th>\n      <th>housing</th>\n      <th>job</th>\n      <th>other_parties</th>\n      <th>other_payment_plans</th>\n      <th>own_telephone</th>\n      <th>personal_status</th>\n      <th>property_magnitude</th>\n      <th>purpose</th>\n      <th>savings_status</th>\n    </tr>\n  </thead>\n  <tbody>\n    <tr>\n      <th>original</th>\n      <td>24.0</td>\n      <td>1371.26</td>\n      <td>4.0</td>\n      <td>25.0</td>\n      <td>4.0</td>\n      <td>1.0</td>\n      <td>1.0</td>\n      <td>&lt;0</td>\n      <td>existing paid</td>\n      <td>1&lt;=X&lt;4</td>\n      <td>yes</td>\n      <td>rent</td>\n      <td>skilled</td>\n      <td>none</td>\n      <td>none</td>\n      <td>none</td>\n      <td>female div/dep/mar</td>\n      <td>real estate</td>\n      <td>new car</td>\n      <td>no known savings</td>\n    </tr>\n    <tr>\n      <th>sol0</th>\n      <td>-</td>\n      <td>-7288.99</td>\n      <td>2.66</td>\n      <td>-</td>\n      <td>-</td>\n      <td>-</td>\n      <td>-</td>\n      <td>-</td>\n      <td>-</td>\n      <td>-</td>\n      <td>-</td>\n      <td>-</td>\n      <td>-</td>\n      <td>-</td>\n      <td>-</td>\n      <td>-</td>\n      <td>-</td>\n      <td>-</td>\n      <td>-</td>\n      <td>-</td>\n    </tr>\n    <tr>\n      <th>original</th>\n      <td>24.0</td>\n      <td>1371.26</td>\n      <td>4.0</td>\n      <td>25.0</td>\n      <td>4.0</td>\n      <td>1.0</td>\n      <td>1.0</td>\n      <td>&lt;0</td>\n      <td>existing paid</td>\n      <td>1&lt;=X&lt;4</td>\n      <td>yes</td>\n      <td>rent</td>\n      <td>skilled</td>\n      <td>none</td>\n      <td>none</td>\n      <td>none</td>\n      <td>female div/dep/mar</td>\n      <td>real estate</td>\n      <td>new car</td>\n      <td>no known savings</td>\n    </tr>\n    <tr>\n      <th>sol0</th>\n      <td>-</td>\n      <td>-16721.73</td>\n      <td>-</td>\n      <td>-</td>\n      <td>-</td>\n      <td>-</td>\n      <td>-</td>\n      <td>-</td>\n      <td>-</td>\n      <td>-</td>\n      <td>-</td>\n      <td>-</td>\n      <td>-</td>\n      <td>-</td>\n      <td>-</td>\n      <td>-</td>\n      <td>-</td>\n      <td>-</td>\n      <td>-</td>\n      <td>-</td>\n    </tr>\n    <tr>\n      <th>original</th>\n      <td>24.0</td>\n      <td>1371.26</td>\n      <td>4.0</td>\n      <td>25.0</td>\n      <td>4.0</td>\n      <td>1.0</td>\n      <td>1.0</td>\n      <td>&lt;0</td>\n      <td>existing paid</td>\n      <td>1&lt;=X&lt;4</td>\n      <td>yes</td>\n      <td>rent</td>\n      <td>skilled</td>\n      <td>none</td>\n      <td>none</td>\n      <td>none</td>\n      <td>female div/dep/mar</td>\n      <td>real estate</td>\n      <td>new car</td>\n      <td>no known savings</td>\n    </tr>\n    <tr>\n      <th>sol0</th>\n      <td>-</td>\n      <td>-16721.73</td>\n      <td>-</td>\n      <td>-</td>\n      <td>-</td>\n      <td>-</td>\n      <td>-</td>\n      <td>-</td>\n      <td>-</td>\n      <td>-</td>\n      <td>-</td>\n      <td>-</td>\n      <td>-</td>\n      <td>-</td>\n      <td>-</td>\n      <td>-</td>\n      <td>-</td>\n      <td>-</td>\n      <td>-</td>\n      <td>-</td>\n    </tr>\n    <tr>\n      <th>sol1</th>\n      <td>23.73</td>\n      <td>-16488.26</td>\n      <td>-</td>\n      <td>28.25</td>\n      <td>-</td>\n      <td>-</td>\n      <td>-</td>\n      <td>-</td>\n      <td>-</td>\n      <td>-</td>\n      <td>-</td>\n      <td>-</td>\n      <td>-</td>\n      <td>-</td>\n      <td>-</td>\n      <td>-</td>\n      <td>-</td>\n      <td>-</td>\n      <td>-</td>\n      <td>-</td>\n    </tr>\n    <tr>\n      <th>sol2</th>\n      <td>-</td>\n      <td>-</td>\n      <td>0.4</td>\n      <td>-</td>\n      <td>-</td>\n      <td>-</td>\n      <td>-</td>\n      <td>-</td>\n      <td>-</td>\n      <td>-</td>\n      <td>-</td>\n      <td>-</td>\n      <td>-</td>\n      <td>-</td>\n      <td>-</td>\n      <td>-</td>\n      <td>-</td>\n      <td>-</td>\n      <td>-</td>\n      <td>-</td>\n    </tr>\n    <tr>\n      <th>original</th>\n      <td>24.0</td>\n      <td>1371.26</td>\n      <td>4.0</td>\n      <td>25.0</td>\n      <td>4.0</td>\n      <td>1.0</td>\n      <td>1.0</td>\n      <td>&lt;0</td>\n      <td>existing paid</td>\n      <td>1&lt;=X&lt;4</td>\n      <td>yes</td>\n      <td>rent</td>\n      <td>skilled</td>\n      <td>none</td>\n      <td>none</td>\n      <td>none</td>\n      <td>female div/dep/mar</td>\n      <td>real estate</td>\n      <td>new car</td>\n      <td>no known savings</td>\n    </tr>\n    <tr>\n      <th>sol0</th>\n      <td>-</td>\n      <td>-</td>\n      <td>-</td>\n      <td>-</td>\n      <td>10.0</td>\n      <td>-</td>\n      <td>-</td>\n      <td>-</td>\n      <td>-</td>\n      <td>-</td>\n      <td>-</td>\n      <td>-</td>\n      <td>-</td>\n      <td>-</td>\n      <td>-</td>\n      <td>-</td>\n      <td>-</td>\n      <td>-</td>\n      <td>-</td>\n      <td>-</td>\n    </tr>\n    <tr>\n      <th>sol1</th>\n      <td>-</td>\n      <td>-</td>\n      <td>-</td>\n      <td>163.55</td>\n      <td>-</td>\n      <td>-</td>\n      <td>-</td>\n      <td>-</td>\n      <td>-</td>\n      <td>-</td>\n      <td>-</td>\n      <td>-</td>\n      <td>-</td>\n      <td>-</td>\n      <td>-</td>\n      <td>-</td>\n      <td>-</td>\n      <td>-</td>\n      <td>-</td>\n      <td>-</td>\n    </tr>\n    <tr>\n      <th>sol2</th>\n      <td>26.2</td>\n      <td>-</td>\n      <td>-</td>\n      <td>165.63</td>\n      <td>-</td>\n      <td>-</td>\n      <td>-</td>\n      <td>-</td>\n      <td>-</td>\n      <td>-</td>\n      <td>-</td>\n      <td>-</td>\n      <td>-</td>\n      <td>-</td>\n      <td>-</td>\n      <td>-</td>\n      <td>-</td>\n      <td>-</td>\n      <td>-</td>\n      <td>-</td>\n    </tr>\n    <tr>\n      <th>original</th>\n      <td>24.0</td>\n      <td>1371.26</td>\n      <td>4.0</td>\n      <td>25.0</td>\n      <td>4.0</td>\n      <td>1.0</td>\n      <td>1.0</td>\n      <td>&lt;0</td>\n      <td>existing paid</td>\n      <td>1&lt;=X&lt;4</td>\n      <td>yes</td>\n      <td>rent</td>\n      <td>skilled</td>\n      <td>none</td>\n      <td>none</td>\n      <td>none</td>\n      <td>female div/dep/mar</td>\n      <td>real estate</td>\n      <td>new car</td>\n      <td>no known savings</td>\n    </tr>\n    <tr>\n      <th>sol0</th>\n      <td>15.0</td>\n      <td>1402.6</td>\n      <td>2.0</td>\n      <td>28.0</td>\n      <td>-</td>\n      <td>-</td>\n      <td>-</td>\n      <td>-</td>\n      <td>-</td>\n      <td>-</td>\n      <td>-</td>\n      <td>-</td>\n      <td>-</td>\n      <td>-</td>\n      <td>-</td>\n      <td>-</td>\n      <td>-</td>\n      <td>car</td>\n      <td>-</td>\n      <td>&lt;100</td>\n    </tr>\n    <tr>\n      <th>sol1</th>\n      <td>22.0</td>\n      <td>1283.52</td>\n      <td>-</td>\n      <td>-</td>\n      <td>-</td>\n      <td>-</td>\n      <td>-</td>\n      <td>no checking</td>\n      <td>-</td>\n      <td>4&lt;=X&lt;7</td>\n      <td>-</td>\n      <td>-</td>\n      <td>-</td>\n      <td>-</td>\n      <td>-</td>\n      <td>-</td>\n      <td>-</td>\n      <td>life insurance</td>\n      <td>-</td>\n      <td>-</td>\n    </tr>\n    <tr>\n      <th>sol2</th>\n      <td>12.0</td>\n      <td>1893.04</td>\n      <td>-</td>\n      <td>29.0</td>\n      <td>-</td>\n      <td>-</td>\n      <td>-</td>\n      <td>-</td>\n      <td>-</td>\n      <td>-</td>\n      <td>-</td>\n      <td>own</td>\n      <td>-</td>\n      <td>guarantor</td>\n      <td>-</td>\n      <td>yes</td>\n      <td>-</td>\n      <td>life insurance</td>\n      <td>-</td>\n      <td>&lt;100</td>\n    </tr>\n    <tr>\n      <th>original</th>\n      <td>24.0</td>\n      <td>1371.26</td>\n      <td>4.0</td>\n      <td>25.0</td>\n      <td>4.0</td>\n      <td>1.0</td>\n      <td>1.0</td>\n      <td>&lt;0</td>\n      <td>existing paid</td>\n      <td>1&lt;=X&lt;4</td>\n      <td>yes</td>\n      <td>rent</td>\n      <td>skilled</td>\n      <td>none</td>\n      <td>none</td>\n      <td>none</td>\n      <td>female div/dep/mar</td>\n      <td>real estate</td>\n      <td>new car</td>\n      <td>no known savings</td>\n    </tr>\n    <tr>\n      <th>sol0</th>\n      <td>-</td>\n      <td>-</td>\n      <td>2.0</td>\n      <td>28.0</td>\n      <td>-</td>\n      <td>-</td>\n      <td>-</td>\n      <td>-</td>\n      <td>-</td>\n      <td>-</td>\n      <td>-</td>\n      <td>-</td>\n      <td>-</td>\n      <td>-</td>\n      <td>-</td>\n      <td>-</td>\n      <td>-</td>\n      <td>car</td>\n      <td>-</td>\n      <td>&lt;100</td>\n    </tr>\n    <tr>\n      <th>sol1</th>\n      <td>-</td>\n      <td>-</td>\n      <td>-</td>\n      <td>-</td>\n      <td>-</td>\n      <td>-</td>\n      <td>-</td>\n      <td>no checking</td>\n      <td>-</td>\n      <td>4&lt;=X&lt;7</td>\n      <td>-</td>\n      <td>-</td>\n      <td>-</td>\n      <td>-</td>\n      <td>-</td>\n      <td>-</td>\n      <td>-</td>\n      <td>life insurance</td>\n      <td>-</td>\n      <td>-</td>\n    </tr>\n    <tr>\n      <th>sol2</th>\n      <td>-</td>\n      <td>-</td>\n      <td>2.0</td>\n      <td>-</td>\n      <td>-</td>\n      <td>-</td>\n      <td>-</td>\n      <td>-</td>\n      <td>-</td>\n      <td>-</td>\n      <td>-</td>\n      <td>-</td>\n      <td>-</td>\n      <td>-</td>\n      <td>-</td>\n      <td>-</td>\n      <td>-</td>\n      <td>car</td>\n      <td>-</td>\n      <td>&lt;100</td>\n    </tr>\n  </tbody>\n</table>\n</div>"
     },
     "execution_count": 195,
     "metadata": {},
     "output_type": "execute_result"
    }
   ],
   "source": [
    "df_complete = pd.concat([df_1, df_2, df_3, df_4, df_5, df_6])\n",
    "df_complete"
   ]
  },
  {
   "cell_type": "code",
   "execution_count": 196,
   "outputs": [],
   "source": [
    "if not os.path.exists('results/%s/%s/' % (dataset_name, alg)):\n",
    "    os.makedirs('results/%s/%s/' % (dataset_name, alg))\n",
    "\n",
    "df_complete.to_csv('results/%s/%s/CE-OCL_%s_%s.csv' % (dataset_name, alg, alg, dataset_name), index=True)\n",
    "CE_perf.to_csv('results/%s/%s/CE-OCL_%s_%s_eval.csv' % (dataset_name, alg, alg, dataset_name), index=True)"
   ],
   "metadata": {
    "collapsed": false,
    "pycharm": {
     "name": "#%%\n"
    }
   }
  }
 ],
 "metadata": {
  "kernelspec": {
   "display_name": "Python 3 (ipykernel)",
   "language": "python",
   "name": "python3"
  },
  "language_info": {
   "codemirror_mode": {
    "name": "ipython",
    "version": 3
   },
   "file_extension": ".py",
   "mimetype": "text/x-python",
   "name": "python",
   "nbconvert_exporter": "python",
   "pygments_lexer": "ipython3",
   "version": "3.9.7"
  }
 },
 "nbformat": 4,
 "nbformat_minor": 5
}